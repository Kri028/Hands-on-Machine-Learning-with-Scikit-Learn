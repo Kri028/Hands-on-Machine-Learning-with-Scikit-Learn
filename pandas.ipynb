{
 "cells": [
  {
   "cell_type": "markdown",
   "id": "b972217f",
   "metadata": {},
   "source": [
    "# Tools - pandas\n"
   ]
  },
  {
   "cell_type": "markdown",
   "id": "d5e09c54",
   "metadata": {},
   "source": [
    "The pandas library provides high-performance, easy-to-use data structures and data analysis tools. The main data structure is the DataFrame, which you can think of as an in-memory 2D table (like a spreadsheet, with column names and row labels). Many features available in Excel are available programmatically, such as creating pivot tables, computing columns based on other columns, plotting graphs, etc. You can also group rows by column value, or join tables much like in SQL. Pandas is also great at handling time series.\n"
   ]
  },
  {
   "cell_type": "markdown",
   "id": "4d905985",
   "metadata": {},
   "source": [
    "# Setup"
   ]
  },
  {
   "cell_type": "code",
   "execution_count": 1,
   "id": "390093ec",
   "metadata": {},
   "outputs": [],
   "source": [
    "# First, let's import pandas. People usually import it as pd:\n",
    "import pandas as pd"
   ]
  },
  {
   "cell_type": "markdown",
   "id": "c2e7ad21",
   "metadata": {},
   "source": [
    "The pandas library contains these useful data structures:\n",
    "  1.- Series objects, that we will discuss now. A Series object is 1D array, similar to a column in a spreadsheet (with a column name and row labels).\n",
    "  2.- DataFrame objects. This is a 2D table, similar to a spreadsheet (with column names and row labels).\n",
    "  3.- Panel objects. You can see a Panel as a dictionary of DataFrames. These are less used, so we will not discuss them here."
   ]
  },
  {
   "cell_type": "markdown",
   "id": "5858b946",
   "metadata": {},
   "source": [
    "# Creating a Series"
   ]
  },
  {
   "cell_type": "markdown",
   "id": "575eacb5",
   "metadata": {},
   "source": [
    "Let's start by creating our first Series object!"
   ]
  },
  {
   "cell_type": "code",
   "execution_count": 2,
   "id": "fad38a15",
   "metadata": {},
   "outputs": [
    {
     "data": {
      "text/plain": [
       "0    2\n",
       "1   -1\n",
       "2    3\n",
       "3    5\n",
       "dtype: int64"
      ]
     },
     "execution_count": 2,
     "metadata": {},
     "output_type": "execute_result"
    }
   ],
   "source": [
    "s = pd.Series([2, -1, 3, 5])\n",
    "s"
   ]
  },
  {
   "cell_type": "markdown",
   "id": "2ad0e302",
   "metadata": {},
   "source": [
    "# Similar to a 1D ndarray"
   ]
  },
  {
   "cell_type": "markdown",
   "id": "c4c18484",
   "metadata": {},
   "source": [
    "Series objects behave much like one-dimensional NumPy ndarrays, and you can often pass them as parameters to NumPy functions:"
   ]
  },
  {
   "cell_type": "code",
   "execution_count": 3,
   "id": "1a4ec3ab",
   "metadata": {},
   "outputs": [
    {
     "data": {
      "text/plain": [
       "0      7.389056\n",
       "1      0.367879\n",
       "2     20.085537\n",
       "3    148.413159\n",
       "dtype: float64"
      ]
     },
     "execution_count": 3,
     "metadata": {},
     "output_type": "execute_result"
    }
   ],
   "source": [
    "import numpy as np\n",
    "np.exp(s)"
   ]
  },
  {
   "cell_type": "markdown",
   "id": "2ae0cb00",
   "metadata": {},
   "source": [
    "Arithmetic operations on Series are also possible, and they apply elementwise, just like for ndarrays:"
   ]
  },
  {
   "cell_type": "code",
   "execution_count": 4,
   "id": "28874bf1",
   "metadata": {},
   "outputs": [
    {
     "data": {
      "text/plain": [
       "0    1002\n",
       "1    1999\n",
       "2    3003\n",
       "3    4005\n",
       "dtype: int64"
      ]
     },
     "execution_count": 4,
     "metadata": {},
     "output_type": "execute_result"
    }
   ],
   "source": [
    "s + [1000, 2000, 3000, 4000]"
   ]
  },
  {
   "cell_type": "markdown",
   "id": "524614a3",
   "metadata": {},
   "source": [
    "Similar to NumPy, if you add a single number to a Series, that number is added to all items in the Series. This is called * broadcasting*:"
   ]
  },
  {
   "cell_type": "code",
   "execution_count": 5,
   "id": "ef52db48",
   "metadata": {},
   "outputs": [
    {
     "data": {
      "text/plain": [
       "0    1002\n",
       "1     999\n",
       "2    1003\n",
       "3    1005\n",
       "dtype: int64"
      ]
     },
     "execution_count": 5,
     "metadata": {},
     "output_type": "execute_result"
    }
   ],
   "source": [
    "s + 1000"
   ]
  },
  {
   "cell_type": "markdown",
   "id": "544cfbcb",
   "metadata": {},
   "source": [
    "The same is true for all binary operations such as * or /, and even conditional operations:"
   ]
  },
  {
   "cell_type": "code",
   "execution_count": 6,
   "id": "833eb78c",
   "metadata": {},
   "outputs": [
    {
     "data": {
      "text/plain": [
       "0    False\n",
       "1     True\n",
       "2    False\n",
       "3    False\n",
       "dtype: bool"
      ]
     },
     "execution_count": 6,
     "metadata": {},
     "output_type": "execute_result"
    }
   ],
   "source": [
    "s < 0"
   ]
  },
  {
   "cell_type": "markdown",
   "id": "713cb75b",
   "metadata": {},
   "source": [
    "# Index labels"
   ]
  },
  {
   "cell_type": "markdown",
   "id": "b27abc1f",
   "metadata": {},
   "source": [
    "Each item in a Series object has a unique identifier called the index label. By default, it is simply the rank of the item in the Series (starting at 0) but you can also set the index labels manually:"
   ]
  },
  {
   "cell_type": "code",
   "execution_count": 7,
   "id": "39dd9818",
   "metadata": {},
   "outputs": [
    {
     "data": {
      "text/plain": [
       "alice       68\n",
       "bob         83\n",
       "charles    112\n",
       "darwin      68\n",
       "dtype: int64"
      ]
     },
     "execution_count": 7,
     "metadata": {},
     "output_type": "execute_result"
    }
   ],
   "source": [
    "s2 = pd.Series([68, 83, 112, 68], index=[\"alice\", \"bob\", \"charles\", \"darwin\"])\n",
    "s2"
   ]
  },
  {
   "cell_type": "code",
   "execution_count": 8,
   "id": "25f6fe48",
   "metadata": {},
   "outputs": [
    {
     "data": {
      "text/plain": [
       "83"
      ]
     },
     "execution_count": 8,
     "metadata": {},
     "output_type": "execute_result"
    }
   ],
   "source": [
    "s2[\"bob\"]"
   ]
  },
  {
   "cell_type": "code",
   "execution_count": 9,
   "id": "d15a394b",
   "metadata": {},
   "outputs": [
    {
     "data": {
      "text/plain": [
       "83"
      ]
     },
     "execution_count": 9,
     "metadata": {},
     "output_type": "execute_result"
    }
   ],
   "source": [
    "s2[1]"
   ]
  },
  {
   "cell_type": "code",
   "execution_count": 10,
   "id": "9f2c34f9",
   "metadata": {},
   "outputs": [
    {
     "data": {
      "text/plain": [
       "68"
      ]
     },
     "execution_count": 10,
     "metadata": {},
     "output_type": "execute_result"
    }
   ],
   "source": [
    "s2[3]"
   ]
  },
  {
   "cell_type": "markdown",
   "id": "bf9621e3",
   "metadata": {},
   "source": [
    "To make it clear when you are accessing by label or by integer location, it is recommended to always use the loc attribute when accessing by label, and the iloc attribute when accessing by integer location:"
   ]
  },
  {
   "cell_type": "code",
   "execution_count": 11,
   "id": "8a41b2b6",
   "metadata": {},
   "outputs": [
    {
     "data": {
      "text/plain": [
       "83"
      ]
     },
     "execution_count": 11,
     "metadata": {},
     "output_type": "execute_result"
    }
   ],
   "source": [
    "s2.loc[\"bob\"]"
   ]
  },
  {
   "cell_type": "code",
   "execution_count": 12,
   "id": "8b9a7f2e",
   "metadata": {},
   "outputs": [
    {
     "data": {
      "text/plain": [
       "83"
      ]
     },
     "execution_count": 12,
     "metadata": {},
     "output_type": "execute_result"
    }
   ],
   "source": [
    "s2.iloc[1]"
   ]
  },
  {
   "cell_type": "markdown",
   "id": "6a46f6bb",
   "metadata": {},
   "source": [
    "Slicing a Series also slices the index labels:"
   ]
  },
  {
   "cell_type": "code",
   "execution_count": 13,
   "id": "6c0009a2",
   "metadata": {},
   "outputs": [
    {
     "data": {
      "text/plain": [
       "bob         83\n",
       "charles    112\n",
       "dtype: int64"
      ]
     },
     "execution_count": 13,
     "metadata": {},
     "output_type": "execute_result"
    }
   ],
   "source": [
    "s2.iloc[1:3]"
   ]
  },
  {
   "cell_type": "markdown",
   "id": "43458d7e",
   "metadata": {},
   "source": [
    "This can lead to unexpected results when using the default numeric labels, so be careful:"
   ]
  },
  {
   "cell_type": "code",
   "execution_count": 14,
   "id": "aec7ca36",
   "metadata": {},
   "outputs": [
    {
     "data": {
      "text/plain": [
       "0    1000\n",
       "1    1001\n",
       "2    1002\n",
       "3    1003\n",
       "dtype: int64"
      ]
     },
     "execution_count": 14,
     "metadata": {},
     "output_type": "execute_result"
    }
   ],
   "source": [
    "surprise = pd.Series([1000, 1001, 1002, 1003])\n",
    "surprise"
   ]
  },
  {
   "cell_type": "code",
   "execution_count": 15,
   "id": "2b5f509d",
   "metadata": {},
   "outputs": [
    {
     "data": {
      "text/plain": [
       "2    1002\n",
       "3    1003\n",
       "dtype: int64"
      ]
     },
     "execution_count": 15,
     "metadata": {},
     "output_type": "execute_result"
    }
   ],
   "source": [
    "surprise_slice = surprise[2:]\n",
    "surprise_slice"
   ]
  },
  {
   "cell_type": "markdown",
   "id": "707ee854",
   "metadata": {},
   "source": [
    "Oh look! The first element has index label 2. The element with index label 0 is absent from the slice:"
   ]
  },
  {
   "cell_type": "code",
   "execution_count": 16,
   "id": "e3cf756f",
   "metadata": {},
   "outputs": [
    {
     "name": "stdout",
     "output_type": "stream",
     "text": [
      "key error: 0\n"
     ]
    }
   ],
   "source": [
    "try:\n",
    "    surprise_slice[0]\n",
    "except KeyError as e:\n",
    "    print(\"key error:\", e)"
   ]
  },
  {
   "cell_type": "markdown",
   "id": "2f773dae",
   "metadata": {},
   "source": [
    "But remember that you can access elements by integer location using the iloc attribute. This illustrates another reason why it's always better to use loc and iloc to access Series objects:"
   ]
  },
  {
   "cell_type": "code",
   "execution_count": 17,
   "id": "6d545c21",
   "metadata": {},
   "outputs": [
    {
     "data": {
      "text/plain": [
       "1002"
      ]
     },
     "execution_count": 17,
     "metadata": {},
     "output_type": "execute_result"
    }
   ],
   "source": [
    "surprise_slice.iloc[0]"
   ]
  },
  {
   "cell_type": "markdown",
   "id": "c57d3531",
   "metadata": {},
   "source": [
    "# Init from dict"
   ]
  },
  {
   "cell_type": "markdown",
   "id": "123852ec",
   "metadata": {},
   "source": [
    "You can create a Series object from a dict. The keys will be used as index labels:"
   ]
  },
  {
   "cell_type": "code",
   "execution_count": 19,
   "id": "b6f2da7b",
   "metadata": {},
   "outputs": [
    {
     "data": {
      "text/plain": [
       "alice     68\n",
       "bob       83\n",
       "colin     86\n",
       "darwin    68\n",
       "dtype: int64"
      ]
     },
     "execution_count": 19,
     "metadata": {},
     "output_type": "execute_result"
    }
   ],
   "source": [
    "weights = {\"alice\":68, \"bob\" : 83, \"colin\": 86, \"darwin\": 68}\n",
    "s3 = pd.Series(weights)\n",
    "s3"
   ]
  },
  {
   "cell_type": "markdown",
   "id": "68f50e87",
   "metadata": {},
   "source": [
    "You can control which elements you want to include in the Series and in what order by explicitly specifying the desired index:"
   ]
  },
  {
   "cell_type": "code",
   "execution_count": 20,
   "id": "f0af4000",
   "metadata": {},
   "outputs": [
    {
     "data": {
      "text/plain": [
       "colin    86\n",
       "alice    68\n",
       "dtype: int64"
      ]
     },
     "execution_count": 20,
     "metadata": {},
     "output_type": "execute_result"
    }
   ],
   "source": [
    "s4 = pd.Series(weights, index = [\"colin\", \"alice\"])\n",
    "s4"
   ]
  },
  {
   "cell_type": "markdown",
   "id": "7294285f",
   "metadata": {},
   "source": [
    "# Automatic Alignment"
   ]
  },
  {
   "cell_type": "markdown",
   "id": "8c6ca35e",
   "metadata": {},
   "source": [
    "When an operation involves multiple Series objects, pandas automatically aligns items by matching index labels."
   ]
  },
  {
   "cell_type": "code",
   "execution_count": 21,
   "id": "2fc19bdd",
   "metadata": {},
   "outputs": [
    {
     "name": "stdout",
     "output_type": "stream",
     "text": [
      "Index(['alice', 'bob', 'charles', 'darwin'], dtype='object')\n",
      "Index(['alice', 'bob', 'colin', 'darwin'], dtype='object')\n"
     ]
    },
    {
     "data": {
      "text/plain": [
       "alice      136.0\n",
       "bob        166.0\n",
       "charles      NaN\n",
       "colin        NaN\n",
       "darwin     136.0\n",
       "dtype: float64"
      ]
     },
     "execution_count": 21,
     "metadata": {},
     "output_type": "execute_result"
    }
   ],
   "source": [
    "print(s2.keys())\n",
    "print(s3.keys())\n",
    "s2 + s3"
   ]
  },
  {
   "cell_type": "markdown",
   "id": "e4bb01eb",
   "metadata": {},
   "source": [
    "The resulting Series contains the union of index labels from s2 and s3. Since \"colin\" is missing from s2 and \"charles\" is missing from s3, these items have a NaN result value. (ie. Not-a-Number means missing).\n",
    "\n",
    "Automatic alignment is very handy when working with data that may come from various sources with varying structure and missing items. But if you forget to set the right index labels, you can have surprising results:"
   ]
  },
  {
   "cell_type": "code",
   "execution_count": 22,
   "id": "9b18bd5b",
   "metadata": {},
   "outputs": [
    {
     "name": "stdout",
     "output_type": "stream",
     "text": [
      "s2= [ 68  83 112  68]\n",
      "s5= [1000 1000 1000 1000]\n"
     ]
    },
    {
     "data": {
      "text/plain": [
       "alice     NaN\n",
       "bob       NaN\n",
       "charles   NaN\n",
       "darwin    NaN\n",
       "0         NaN\n",
       "1         NaN\n",
       "2         NaN\n",
       "3         NaN\n",
       "dtype: float64"
      ]
     },
     "execution_count": 22,
     "metadata": {},
     "output_type": "execute_result"
    }
   ],
   "source": [
    "s5 = pd.Series([1000, 1000, 1000, 1000])\n",
    "print(\"s2=\", s2.values)\n",
    "print(\"s5=\", s5.values)\n",
    "s2 + s5"
   ]
  },
  {
   "cell_type": "markdown",
   "id": "57d14a05",
   "metadata": {},
   "source": [
    "Pandas could not align the Series, since their labels do not match at all, hence the full NaN result."
   ]
  },
  {
   "cell_type": "markdown",
   "id": "7614d395",
   "metadata": {},
   "source": [
    "# Init with a scalar"
   ]
  },
  {
   "cell_type": "markdown",
   "id": "d64724d6",
   "metadata": {},
   "source": [
    "You can also initialize a Series object using a scalar and a list of index labels: all items will be set to the scalar."
   ]
  },
  {
   "cell_type": "code",
   "execution_count": 23,
   "id": "e16a1781",
   "metadata": {},
   "outputs": [
    {
     "data": {
      "text/plain": [
       "life          42\n",
       "universe      42\n",
       "everything    42\n",
       "dtype: int64"
      ]
     },
     "execution_count": 23,
     "metadata": {},
     "output_type": "execute_result"
    }
   ],
   "source": [
    "meaning = pd.Series(42, [\"life\", \"universe\", \"everything\"])\n",
    "meaning"
   ]
  },
  {
   "cell_type": "markdown",
   "id": "7a09ba43",
   "metadata": {},
   "source": [
    "# Series name"
   ]
  },
  {
   "cell_type": "markdown",
   "id": "24e55750",
   "metadata": {},
   "source": [
    "A Series can have a name:"
   ]
  },
  {
   "cell_type": "code",
   "execution_count": 24,
   "id": "c2cfe22c",
   "metadata": {},
   "outputs": [
    {
     "data": {
      "text/plain": [
       "bob      83\n",
       "alice    68\n",
       "Name: weights, dtype: int64"
      ]
     },
     "execution_count": 24,
     "metadata": {},
     "output_type": "execute_result"
    }
   ],
   "source": [
    "s6 = pd.Series([83, 68], index=[\"bob\", \"alice\"], name=\"weights\")\n",
    "s6"
   ]
  },
  {
   "cell_type": "markdown",
   "id": "bbb351f1",
   "metadata": {},
   "source": [
    "# Plotting a Series"
   ]
  },
  {
   "cell_type": "markdown",
   "id": "58dfd437",
   "metadata": {},
   "source": [
    "Pandas makes it easy to plot Series data using matplotlib (for more details on matplotlib, check out the matplotlib tutorial). Just import matplotlib and call the plot() method:"
   ]
  },
  {
   "cell_type": "code",
   "execution_count": 26,
   "id": "27190bda",
   "metadata": {},
   "outputs": [
    {
     "data": {
      "image/png": "[encoded data removed]",
      "text/plain": [
       "<Figure size 640x480 with 1 Axes>"
      ]
     },
     "metadata": {},
     "output_type": "display_data"
    }
   ],
   "source": [
    "%matplotlib inline\n",
    "import matplotlib.pyplot as plt\n",
    "temperatures = [4.4, 5.1, 6.1,6.2,6.1,6.1,5.7,5.2,4.7,4.1,3.9,3.5]\n",
    "s7 = pd.Series(temperatures, name=\"Temperature\")\n",
    "s7.plot()\n",
    "plt.show()"
   ]
  },
  {
   "cell_type": "markdown",
   "id": "41d75662",
   "metadata": {},
   "source": [
    "# Handling time"
   ]
  },
  {
   "cell_type": "markdown",
   "id": "3e8fbbe0",
   "metadata": {},
   "source": [
    "Many datasets have timestamps, and pandas is awesome at manipulating such data:\n",
    "it can represent periods (such as 2016Q3) and frequencies (such as \"monthly\"),\n",
    "it can convert periods to actual timestamps, and vice versa,\n",
    "it can resample data and aggregate values any way you like,\n",
    "it can handle timezones.\n"
   ]
  },
  {
   "cell_type": "markdown",
   "id": "184b7220",
   "metadata": {},
   "source": [
    "# Time range"
   ]
  },
  {
   "cell_type": "markdown",
   "id": "dfb68342",
   "metadata": {},
   "source": [
    "Let's start by creating a time series using pd.date_range(). This returns a DatetimeIndex containing one datetime per hour for 12 hours starting on October 29th 2016 at 5:30pm."
   ]
  },
  {
   "cell_type": "code",
   "execution_count": 27,
   "id": "9c75db0f",
   "metadata": {},
   "outputs": [
    {
     "data": {
      "text/plain": [
       "DatetimeIndex(['2016-10-29 17:30:00', '2016-10-29 18:30:00',\n",
       "               '2016-10-29 19:30:00', '2016-10-29 20:30:00',\n",
       "               '2016-10-29 21:30:00', '2016-10-29 22:30:00',\n",
       "               '2016-10-29 23:30:00', '2016-10-30 00:30:00',\n",
       "               '2016-10-30 01:30:00', '2016-10-30 02:30:00',\n",
       "               '2016-10-30 03:30:00', '2016-10-30 04:30:00'],\n",
       "              dtype='datetime64[ns]', freq='H')"
      ]
     },
     "execution_count": 27,
     "metadata": {},
     "output_type": "execute_result"
    }
   ],
   "source": [
    "dates = pd.date_range('2016/10/29 5:30pm', periods=12, freq='H')\n",
    "dates"
   ]
  },
  {
   "cell_type": "code",
   "execution_count": 29,
   "id": "f70c9daa",
   "metadata": {},
   "outputs": [
    {
     "data": {
      "text/plain": [
       "2016-10-29 17:30:00    4.4\n",
       "2016-10-29 18:30:00    5.1\n",
       "2016-10-29 19:30:00    6.1\n",
       "2016-10-29 20:30:00    6.2\n",
       "2016-10-29 21:30:00    6.1\n",
       "2016-10-29 22:30:00    6.1\n",
       "2016-10-29 23:30:00    5.7\n",
       "2016-10-30 00:30:00    5.2\n",
       "2016-10-30 01:30:00    4.7\n",
       "2016-10-30 02:30:00    4.1\n",
       "2016-10-30 03:30:00    3.9\n",
       "2016-10-30 04:30:00    3.5\n",
       "Freq: H, dtype: float64"
      ]
     },
     "execution_count": 29,
     "metadata": {},
     "output_type": "execute_result"
    }
   ],
   "source": [
    "temp_series = pd.Series(temperatures, dates)\n",
    "temp_series"
   ]
  },
  {
   "cell_type": "code",
   "execution_count": 33,
   "id": "0e29bbe8",
   "metadata": {},
   "outputs": [
    {
     "data": {
      "image/png": "[encoded data removed]",
      "text/plain": [
       "<Figure size 640x480 with 1 Axes>"
      ]
     },
     "metadata": {},
     "output_type": "display_data"
    }
   ],
   "source": [
    "temp_series.plot(kind=\"bar\")\n",
    "plt.grid(True)\n",
    "plt.show()"
   ]
  },
  {
   "cell_type": "markdown",
   "id": "edf0819b",
   "metadata": {},
   "source": [
    "# Resampling"
   ]
  },
  {
   "cell_type": "markdown",
   "id": "35d8bcdc",
   "metadata": {},
   "source": [
    "Pandas lets us resample a time series very simply. Just call the resample() method and specify a new frequency:"
   ]
  },
  {
   "cell_type": "code",
   "execution_count": 36,
   "id": "38646abf",
   "metadata": {},
   "outputs": [
    {
     "data": {
      "text/plain": [
       "<pandas.core.resample.DatetimeIndexResampler object at 0x13702dc90>"
      ]
     },
     "execution_count": 36,
     "metadata": {},
     "output_type": "execute_result"
    }
   ],
   "source": [
    "temp_series_freq_2H =temp_series.resample(\"2H\")\n",
    "temp_series_freq_2H"
   ]
  },
  {
   "cell_type": "markdown",
   "id": "7668e819",
   "metadata": {},
   "source": [
    "The resampling operation is actually a deferred operation, which is why we did not get a Series object, but a DatetimeIndexResampler object instead. To actually perform the resampling operation, we can simply call the mean() method: Pandas will compute the mean of every pair of consecutive hours:"
   ]
  },
  {
   "cell_type": "code",
   "execution_count": 37,
   "id": "f10dda49",
   "metadata": {},
   "outputs": [],
   "source": [
    "temp_series_freq_2H = temp_series_freq_2H.mean()"
   ]
  },
  {
   "cell_type": "code",
   "execution_count": 38,
   "id": "038e2208",
   "metadata": {},
   "outputs": [
    {
     "data": {
      "image/png": "[encoded data removed]",
      "text/plain": [
       "<Figure size 640x480 with 1 Axes>"
      ]
     },
     "metadata": {},
     "output_type": "display_data"
    }
   ],
   "source": [
    "# Lets plot the results\n",
    "temp_series_freq_2H.plot(kind=\"bar\")\n",
    "plt.show()"
   ]
  },
  {
   "cell_type": "markdown",
   "id": "89c839aa",
   "metadata": {},
   "source": [
    "Note how the values have automatically been aggregated into 2-hour periods. If we look at the 6-8pm period, for example, we had a value of 5.1 at 6:30pm, and 6.1 at 7:30pm. After resampling, we just have one value of 5.6, which is the mean of 5.1 and 6.1. Rather than computing the mean, we could have used any other aggregation function, for example we can decide to keep the minimum value of each period:"
   ]
  },
  {
   "cell_type": "code",
   "execution_count": 39,
   "id": "342804c2",
   "metadata": {},
   "outputs": [
    {
     "data": {
      "text/plain": [
       "2016-10-29 16:00:00    4.4\n",
       "2016-10-29 18:00:00    5.1\n",
       "2016-10-29 20:00:00    6.1\n",
       "2016-10-29 22:00:00    5.7\n",
       "2016-10-30 00:00:00    4.7\n",
       "2016-10-30 02:00:00    3.9\n",
       "2016-10-30 04:00:00    3.5\n",
       "Freq: 2H, dtype: float64"
      ]
     },
     "execution_count": 39,
     "metadata": {},
     "output_type": "execute_result"
    }
   ],
   "source": [
    "temp_series_freq_2H = temp_series.resample(\"2H\").min()\n",
    "temp_series_freq_2H"
   ]
  },
  {
   "cell_type": "markdown",
   "id": "ffd1e90e",
   "metadata": {},
   "source": [
    "Or, equivalently, we could use the apply() method instead:"
   ]
  },
  {
   "cell_type": "code",
   "execution_count": 40,
   "id": "e7f5c571",
   "metadata": {},
   "outputs": [
    {
     "data": {
      "text/plain": [
       "2016-10-29 16:00:00    4.4\n",
       "2016-10-29 18:00:00    5.1\n",
       "2016-10-29 20:00:00    6.1\n",
       "2016-10-29 22:00:00    5.7\n",
       "2016-10-30 00:00:00    4.7\n",
       "2016-10-30 02:00:00    3.9\n",
       "2016-10-30 04:00:00    3.5\n",
       "Freq: 2H, dtype: float64"
      ]
     },
     "execution_count": 40,
     "metadata": {},
     "output_type": "execute_result"
    }
   ],
   "source": [
    "temp_series_freq_2H = temp_series.resample(\"2H\").apply(np.min)\n",
    "temp_series_freq_2H"
   ]
  },
  {
   "cell_type": "markdown",
   "id": "76044f57",
   "metadata": {},
   "source": [
    "# Upsampling and interpolation"
   ]
  },
  {
   "cell_type": "markdown",
   "id": "10a40a55",
   "metadata": {},
   "source": [
    "This was an example of downsampling. We can also upsample (ie. increase the frequency), but this creates holes in our data:"
   ]
  },
  {
   "cell_type": "code",
   "execution_count": 41,
   "id": "61106ea9",
   "metadata": {},
   "outputs": [
    {
     "data": {
      "text/plain": [
       "2016-10-29 17:30:00    4.4\n",
       "2016-10-29 17:45:00    NaN\n",
       "2016-10-29 18:00:00    NaN\n",
       "2016-10-29 18:15:00    NaN\n",
       "2016-10-29 18:30:00    5.1\n",
       "2016-10-29 18:45:00    NaN\n",
       "2016-10-29 19:00:00    NaN\n",
       "2016-10-29 19:15:00    NaN\n",
       "2016-10-29 19:30:00    6.1\n",
       "2016-10-29 19:45:00    NaN\n",
       "Freq: 15T, dtype: float64"
      ]
     },
     "execution_count": 41,
     "metadata": {},
     "output_type": "execute_result"
    }
   ],
   "source": [
    "temp_series_freq_15min =temp_series.resample(\"15Min\").mean()\n",
    "temp_series_freq_15min.head(n=10)"
   ]
  },
  {
   "cell_type": "markdown",
   "id": "cbe49891",
   "metadata": {},
   "source": [
    "One solution is to fill the gaps by interpolating. We just call the interpolate() method. The default is to use linear interpolation, but we can also select another method, such as cubic interpolation:"
   ]
  },
  {
   "cell_type": "code",
   "execution_count": 43,
   "id": "fb852157",
   "metadata": {},
   "outputs": [
    {
     "data": {
      "text/plain": [
       "2016-10-29 17:30:00    4.400000\n",
       "2016-10-29 17:45:00    4.452911\n",
       "2016-10-29 18:00:00    4.605113\n",
       "2016-10-29 18:15:00    4.829758\n",
       "2016-10-29 18:30:00    5.100000\n",
       "2016-10-29 18:45:00    5.388992\n",
       "2016-10-29 19:00:00    5.669887\n",
       "2016-10-29 19:15:00    5.915839\n",
       "2016-10-29 19:30:00    6.100000\n",
       "2016-10-29 19:45:00    6.203621\n",
       "Freq: 15T, dtype: float64"
      ]
     },
     "execution_count": 43,
     "metadata": {},
     "output_type": "execute_result"
    }
   ],
   "source": [
    "temp_series_freq_15min = temp_series.resample(\"15Min\").interpolate(method=\"cubic\")\n",
    "temp_series_freq_15min.head(n=10)"
   ]
  },
  {
   "cell_type": "code",
   "execution_count": 46,
   "id": "53fd29a9",
   "metadata": {},
   "outputs": [
    {
     "data": {
      "image/png": "[encoded data removed]",
      "text/plain": [
       "<Figure size 640x480 with 1 Axes>"
      ]
     },
     "metadata": {},
     "output_type": "display_data"
    }
   ],
   "source": [
    "temp_series.plot(label=\"Period: 1 hour\")\n",
    "temp_series_freq_15min.plot(label=\"Period: 15 minutes\")\n",
    "plt.legend()\n",
    "plt.show()"
   ]
  },
  {
   "cell_type": "markdown",
   "id": "b9d32332",
   "metadata": {},
   "source": [
    "# Timezones"
   ]
  },
  {
   "cell_type": "markdown",
   "id": "0ba71467",
   "metadata": {},
   "source": [
    "By default datetimes are naive: they are not aware of timezones, so 2016-10-30 02:30 might mean October 30th 2016 at 2:30am in Paris or in New York. We can make datetimes timezone aware by calling the tz_localize() method:"
   ]
  },
  {
   "cell_type": "code",
   "execution_count": 48,
   "id": "1883894b",
   "metadata": {},
   "outputs": [
    {
     "data": {
      "text/plain": [
       "2016-10-29 17:30:00-04:00    4.4\n",
       "2016-10-29 18:30:00-04:00    5.1\n",
       "2016-10-29 19:30:00-04:00    6.1\n",
       "2016-10-29 20:30:00-04:00    6.2\n",
       "2016-10-29 21:30:00-04:00    6.1\n",
       "2016-10-29 22:30:00-04:00    6.1\n",
       "2016-10-29 23:30:00-04:00    5.7\n",
       "2016-10-30 00:30:00-04:00    5.2\n",
       "2016-10-30 01:30:00-04:00    4.7\n",
       "2016-10-30 02:30:00-04:00    4.1\n",
       "2016-10-30 03:30:00-04:00    3.9\n",
       "2016-10-30 04:30:00-04:00    3.5\n",
       "dtype: float64"
      ]
     },
     "execution_count": 48,
     "metadata": {},
     "output_type": "execute_result"
    }
   ],
   "source": [
    "temp_series_ny = temp_series.tz_localize(\"America/New_York\")\n",
    "temp_series_ny"
   ]
  },
  {
   "cell_type": "markdown",
   "id": "14452bbb",
   "metadata": {},
   "source": [
    "Note that -04:00 is now appended to all the datetimes. This means that these datetimes refer to UTC - 4 hours."
   ]
  },
  {
   "cell_type": "markdown",
   "id": "da1e5b7e",
   "metadata": {},
   "source": [
    "We can convert these datetimes to Paris time like this:"
   ]
  },
  {
   "cell_type": "code",
   "execution_count": 49,
   "id": "248abe25",
   "metadata": {},
   "outputs": [
    {
     "data": {
      "text/plain": [
       "2016-10-29 23:30:00+02:00    4.4\n",
       "2016-10-30 00:30:00+02:00    5.1\n",
       "2016-10-30 01:30:00+02:00    6.1\n",
       "2016-10-30 02:30:00+02:00    6.2\n",
       "2016-10-30 02:30:00+01:00    6.1\n",
       "2016-10-30 03:30:00+01:00    6.1\n",
       "2016-10-30 04:30:00+01:00    5.7\n",
       "2016-10-30 05:30:00+01:00    5.2\n",
       "2016-10-30 06:30:00+01:00    4.7\n",
       "2016-10-30 07:30:00+01:00    4.1\n",
       "2016-10-30 08:30:00+01:00    3.9\n",
       "2016-10-30 09:30:00+01:00    3.5\n",
       "dtype: float64"
      ]
     },
     "execution_count": 49,
     "metadata": {},
     "output_type": "execute_result"
    }
   ],
   "source": [
    "temp_series_paris = temp_series_ny.tz_convert(\"europe/Paris\")\n",
    "temp_series_paris"
   ]
  },
  {
   "cell_type": "markdown",
   "id": "00ea26f4",
   "metadata": {},
   "source": [
    "You may have noticed that the UTC offset changes from +02:00 to +01:00: this is because France switches to winter time at 3am that particular night (time goes back to 2am). Notice that 2:30am occurs twice! Let's go back to a naive representation (if you log some data hourly using local time, without storing the timezone, you might get something like this):"
   ]
  },
  {
   "cell_type": "code",
   "execution_count": 50,
   "id": "c5775773",
   "metadata": {},
   "outputs": [
    {
     "data": {
      "text/plain": [
       "2016-10-29 17:30:00    4.4\n",
       "2016-10-29 18:30:00    5.1\n",
       "2016-10-29 19:30:00    6.1\n",
       "2016-10-29 20:30:00    6.2\n",
       "2016-10-29 21:30:00    6.1\n",
       "2016-10-29 22:30:00    6.1\n",
       "2016-10-29 23:30:00    5.7\n",
       "2016-10-30 00:30:00    5.2\n",
       "2016-10-30 01:30:00    4.7\n",
       "2016-10-30 02:30:00    4.1\n",
       "2016-10-30 03:30:00    3.9\n",
       "2016-10-30 04:30:00    3.5\n",
       "Freq: H, dtype: float64"
      ]
     },
     "execution_count": 50,
     "metadata": {},
     "output_type": "execute_result"
    }
   ],
   "source": [
    "temp_series_paris_naive = temp_series.tz_localize(None)\n",
    "temp_series_paris_naive"
   ]
  },
  {
   "cell_type": "markdown",
   "id": "462ed654",
   "metadata": {},
   "source": [
    "Now 02:30 is really ambiguous. If we try to localize these naive datetimes to the Paris timezone, we get an error:"
   ]
  },
  {
   "cell_type": "code",
   "execution_count": 51,
   "id": "90524f78",
   "metadata": {},
   "outputs": [
    {
     "name": "stdout",
     "output_type": "stream",
     "text": [
      "<class 'pytz.exceptions.AmbiguousTimeError'>\n",
      "Cannot infer dst time from 2016-10-30 02:30:00, try using the 'ambiguous' argument\n"
     ]
    }
   ],
   "source": [
    "try:\n",
    "    temp_series_paris_naive.tz_localize(\"Europe/Paris\")\n",
    "except Exception as e:\n",
    "    print(type(e))\n",
    "    print(e)"
   ]
  },
  {
   "cell_type": "markdown",
   "id": "634028da",
   "metadata": {},
   "source": [
    "Fortunately using the ambiguous argument we can tell pandas to infer the right DST (Daylight Saving Time) based on the order of the ambiguous timestamps:"
   ]
  },
  {
   "cell_type": "markdown",
   "id": "4c1e05bc",
   "metadata": {},
   "source": [
    "# Periods"
   ]
  },
  {
   "cell_type": "markdown",
   "id": "bdf0c824",
   "metadata": {},
   "source": [
    "The pd.period_range() function returns a PeriodIndex instead of a DatetimeIndex. For example, let's get all quarters in 2016 and 2017:"
   ]
  },
  {
   "cell_type": "code",
   "execution_count": 55,
   "id": "5b656ef6",
   "metadata": {},
   "outputs": [
    {
     "data": {
      "text/plain": [
       "PeriodIndex(['2016Q1', '2016Q2', '2016Q3', '2016Q4', '2017Q1', '2017Q2',\n",
       "             '2017Q3', '2017Q4'],\n",
       "            dtype='period[Q-DEC]')"
      ]
     },
     "execution_count": 55,
     "metadata": {},
     "output_type": "execute_result"
    }
   ],
   "source": [
    "quarters = pd.period_range('2016Q1', periods=8, freq='Q')\n",
    "quarters"
   ]
  },
  {
   "cell_type": "code",
   "execution_count": 56,
   "id": "a4de6e5f",
   "metadata": {},
   "outputs": [
    {
     "data": {
      "text/plain": [
       "PeriodIndex(['2016Q4', '2017Q1', '2017Q2', '2017Q3', '2017Q4', '2018Q1',\n",
       "             '2018Q2', '2018Q3'],\n",
       "            dtype='period[Q-DEC]')"
      ]
     },
     "execution_count": 56,
     "metadata": {},
     "output_type": "execute_result"
    }
   ],
   "source": [
    "quarters + 3"
   ]
  },
  {
   "cell_type": "markdown",
   "id": "dc8884df",
   "metadata": {},
   "source": [
    "The asfreq() method lets us change the frequency of the PeriodIndex. All periods are lengthened or shortened accordingly. For example, let's convert all the quarterly periods to monthly periods (zooming in):"
   ]
  },
  {
   "cell_type": "code",
   "execution_count": 57,
   "id": "008b8d3a",
   "metadata": {},
   "outputs": [
    {
     "data": {
      "text/plain": [
       "PeriodIndex(['2016-03', '2016-06', '2016-09', '2016-12', '2017-03', '2017-06',\n",
       "             '2017-09', '2017-12'],\n",
       "            dtype='period[M]')"
      ]
     },
     "execution_count": 57,
     "metadata": {},
     "output_type": "execute_result"
    }
   ],
   "source": [
    "quarters.asfreq(\"M\")"
   ]
  },
  {
   "cell_type": "markdown",
   "id": "a71658b0",
   "metadata": {},
   "source": [
    "By default, the asfreq zooms on the end of each period. We can tell it to zoom on the start of each period instead:"
   ]
  },
  {
   "cell_type": "code",
   "execution_count": 58,
   "id": "9a4479f2",
   "metadata": {},
   "outputs": [
    {
     "data": {
      "text/plain": [
       "PeriodIndex(['2016-01', '2016-04', '2016-07', '2016-10', '2017-01', '2017-04',\n",
       "             '2017-07', '2017-10'],\n",
       "            dtype='period[M]')"
      ]
     },
     "execution_count": 58,
     "metadata": {},
     "output_type": "execute_result"
    }
   ],
   "source": [
    "quarters.asfreq(\"M\", how=\"start\")"
   ]
  },
  {
   "cell_type": "code",
   "execution_count": 60,
   "id": "eaf41d99",
   "metadata": {},
   "outputs": [
    {
     "data": {
      "text/plain": [
       "PeriodIndex(['2016', '2016', '2016', '2016', '2017', '2017', '2017', '2017'], dtype='period[A-DEC]')"
      ]
     },
     "execution_count": 60,
     "metadata": {},
     "output_type": "execute_result"
    }
   ],
   "source": [
    "quarters.asfreq(\"A\")"
   ]
  },
  {
   "cell_type": "markdown",
   "id": "5979cfc5",
   "metadata": {},
   "source": [
    "Of course we can create a Series with a PeriodIndex:"
   ]
  },
  {
   "cell_type": "code",
   "execution_count": 62,
   "id": "2f94c282",
   "metadata": {},
   "outputs": [
    {
     "data": {
      "text/plain": [
       "2016Q1    300\n",
       "2016Q2    320\n",
       "2016Q3    290\n",
       "2016Q4    390\n",
       "2017Q1    320\n",
       "2017Q2    360\n",
       "2017Q3    310\n",
       "2017Q4    410\n",
       "Freq: Q-DEC, dtype: int64"
      ]
     },
     "execution_count": 62,
     "metadata": {},
     "output_type": "execute_result"
    }
   ],
   "source": [
    "quarterly_revenue =pd.Series([300, 320, 290, 390, 320, 360, 310, 410], index = quarters)\n",
    "quarterly_revenue"
   ]
  },
  {
   "cell_type": "code",
   "execution_count": 63,
   "id": "59c429e4",
   "metadata": {},
   "outputs": [
    {
     "data": {
      "image/png": "[encoded data removed]",
      "text/plain": [
       "<Figure size 640x480 with 1 Axes>"
      ]
     },
     "metadata": {},
     "output_type": "display_data"
    }
   ],
   "source": [
    "quarterly_revenue.plot(kind=\"line\")\n",
    "plt.show()"
   ]
  },
  {
   "cell_type": "markdown",
   "id": "a083109d",
   "metadata": {},
   "source": [
    "We can convert periods to timestamps by calling to_timestamp. By default this will give us the first day of each period, but by setting how and freq, we can get the last hour of each period:"
   ]
  },
  {
   "cell_type": "code",
   "execution_count": 64,
   "id": "3cbe0e40",
   "metadata": {},
   "outputs": [
    {
     "data": {
      "text/plain": [
       "2016-03-31 23:59:59.999999999    300\n",
       "2016-06-30 23:59:59.999999999    320\n",
       "2016-09-30 23:59:59.999999999    290\n",
       "2016-12-31 23:59:59.999999999    390\n",
       "2017-03-31 23:59:59.999999999    320\n",
       "2017-06-30 23:59:59.999999999    360\n",
       "2017-09-30 23:59:59.999999999    310\n",
       "2017-12-31 23:59:59.999999999    410\n",
       "dtype: int64"
      ]
     },
     "execution_count": 64,
     "metadata": {},
     "output_type": "execute_result"
    }
   ],
   "source": [
    "last_hours = quarterly_revenue.to_timestamp(how=\"end\", freq=\"H\")\n",
    "last_hours"
   ]
  },
  {
   "cell_type": "markdown",
   "id": "435ef405",
   "metadata": {},
   "source": [
    "And back to periods by calling to_period:"
   ]
  },
  {
   "cell_type": "code",
   "execution_count": 65,
   "id": "49cf710a",
   "metadata": {},
   "outputs": [
    {
     "data": {
      "text/plain": [
       "2016Q1    300\n",
       "2016Q2    320\n",
       "2016Q3    290\n",
       "2016Q4    390\n",
       "2017Q1    320\n",
       "2017Q2    360\n",
       "2017Q3    310\n",
       "2017Q4    410\n",
       "Freq: Q-DEC, dtype: int64"
      ]
     },
     "execution_count": 65,
     "metadata": {},
     "output_type": "execute_result"
    }
   ],
   "source": [
    "last_hours.to_period()"
   ]
  },
  {
   "cell_type": "code",
   "execution_count": 67,
   "id": "5bd30515",
   "metadata": {},
   "outputs": [
    {
     "data": {
      "text/plain": [
       "PeriodIndex(['2016-01-29 09:00', '2016-02-29 09:00', '2016-03-31 09:00',\n",
       "             '2016-04-29 09:00', '2016-05-31 09:00', '2016-06-30 09:00',\n",
       "             '2016-07-29 09:00', '2016-08-31 09:00', '2016-09-30 09:00',\n",
       "             '2016-10-31 09:00', '2016-11-30 09:00', '2016-12-30 09:00'],\n",
       "            dtype='period[H]')"
      ]
     },
     "execution_count": 67,
     "metadata": {},
     "output_type": "execute_result"
    }
   ],
   "source": [
    "months_2016 = pd.period_range(\"2016\", periods=12, freq=\"M\")\n",
    "one_day_after_last_days = months_2016.asfreq(\"D\") + 1\n",
    "last_bdays = one_day_after_last_days.to_timestamp() - pd.tseries.offsets.BDay()\n",
    "last_bdays.to_period(\"H\") + 9"
   ]
  },
  {
   "cell_type": "markdown",
   "id": "0fb91b48",
   "metadata": {},
   "source": [
    "# DataFrame objects"
   ]
  },
  {
   "cell_type": "markdown",
   "id": "d92c0d95",
   "metadata": {},
   "source": [
    "A DataFrame object represents a spreadsheet, with cell values, column names and row index labels. You can define expressions to compute columns based on other columns, create pivot-tables, group rows, draw graphs, etc. You can see DataFrames as dictionaries of Series.\n",
    "\n"
   ]
  },
  {
   "cell_type": "markdown",
   "id": "145967c8",
   "metadata": {},
   "source": [
    "# Creating a DataFrame"
   ]
  },
  {
   "cell_type": "markdown",
   "id": "910d5ad1",
   "metadata": {},
   "source": [
    "ou can create a DataFrame by passing a dictionary of Series objects:"
   ]
  },
  {
   "cell_type": "code",
   "execution_count": 72,
   "id": "0615cb7c",
   "metadata": {},
   "outputs": [
    {
     "data": {
      "text/html": [
       "<div>\n",
       "<style scoped>\n",
       "    .dataframe tbody tr th:only-of-type {\n",
       "        vertical-align: middle;\n",
       "    }\n",
       "\n",
       "    .dataframe tbody tr th {\n",
       "        vertical-align: top;\n",
       "    }\n",
       "\n",
       "    .dataframe thead th {\n",
       "        text-align: right;\n",
       "    }\n",
       "</style>\n",
       "<table border=\"1\" class=\"dataframe\">\n",
       "  <thead>\n",
       "    <tr style=\"text-align: right;\">\n",
       "      <th></th>\n",
       "      <th>weight</th>\n",
       "      <th>birthyear</th>\n",
       "      <th>children</th>\n",
       "      <th>hobby</th>\n",
       "    </tr>\n",
       "  </thead>\n",
       "  <tbody>\n",
       "    <tr>\n",
       "      <th>alice</th>\n",
       "      <td>68</td>\n",
       "      <td>1985</td>\n",
       "      <td>NaN</td>\n",
       "      <td>Baking</td>\n",
       "    </tr>\n",
       "    <tr>\n",
       "      <th>bob</th>\n",
       "      <td>83</td>\n",
       "      <td>1984</td>\n",
       "      <td>3.0</td>\n",
       "      <td>Dancing</td>\n",
       "    </tr>\n",
       "    <tr>\n",
       "      <th>charles</th>\n",
       "      <td>112</td>\n",
       "      <td>1992</td>\n",
       "      <td>0.0</td>\n",
       "      <td>NaN</td>\n",
       "    </tr>\n",
       "  </tbody>\n",
       "</table>\n",
       "</div>"
      ],
      "text/plain": [
       "         weight  birthyear  children    hobby\n",
       "alice        68       1985       NaN   Baking\n",
       "bob          83       1984       3.0  Dancing\n",
       "charles     112       1992       0.0      NaN"
      ]
     },
     "execution_count": 72,
     "metadata": {},
     "output_type": "execute_result"
    }
   ],
   "source": [
    "people_dict = {\n",
    "    \"weight\": pd.Series([68, 83, 112], index=[\"alice\", \"bob\",\"charles\"]),\n",
    "    \"birthyear\":pd.Series([1984, 1985, 1992], index=[\"bob\", \"alice\", \"charles\"], name=\"year\"),\n",
    "    \"children\":pd.Series([0, 3], index=[\"charles\", \"bob\"]),\n",
    "    \"hobby\":pd.Series([\"Baking\", \"Dancing\"], index=[\"alice\", \"bob\"]),\n",
    "}\n",
    "people = pd.DataFrame(people_dict)\n",
    "people"
   ]
  },
  {
   "cell_type": "code",
   "execution_count": 73,
   "id": "1a3bdc1f",
   "metadata": {},
   "outputs": [
    {
     "data": {
      "text/plain": [
       "alice      1985\n",
       "bob        1984\n",
       "charles    1992\n",
       "Name: birthyear, dtype: int64"
      ]
     },
     "execution_count": 73,
     "metadata": {},
     "output_type": "execute_result"
    }
   ],
   "source": [
    "people[\"birthyear\"]"
   ]
  },
  {
   "cell_type": "code",
   "execution_count": 74,
   "id": "0b672ef6",
   "metadata": {},
   "outputs": [
    {
     "data": {
      "text/html": [
       "<div>\n",
       "<style scoped>\n",
       "    .dataframe tbody tr th:only-of-type {\n",
       "        vertical-align: middle;\n",
       "    }\n",
       "\n",
       "    .dataframe tbody tr th {\n",
       "        vertical-align: top;\n",
       "    }\n",
       "\n",
       "    .dataframe thead th {\n",
       "        text-align: right;\n",
       "    }\n",
       "</style>\n",
       "<table border=\"1\" class=\"dataframe\">\n",
       "  <thead>\n",
       "    <tr style=\"text-align: right;\">\n",
       "      <th></th>\n",
       "      <th>birthyear</th>\n",
       "      <th>hobby</th>\n",
       "    </tr>\n",
       "  </thead>\n",
       "  <tbody>\n",
       "    <tr>\n",
       "      <th>alice</th>\n",
       "      <td>1985</td>\n",
       "      <td>Baking</td>\n",
       "    </tr>\n",
       "    <tr>\n",
       "      <th>bob</th>\n",
       "      <td>1984</td>\n",
       "      <td>Dancing</td>\n",
       "    </tr>\n",
       "    <tr>\n",
       "      <th>charles</th>\n",
       "      <td>1992</td>\n",
       "      <td>NaN</td>\n",
       "    </tr>\n",
       "  </tbody>\n",
       "</table>\n",
       "</div>"
      ],
      "text/plain": [
       "         birthyear    hobby\n",
       "alice         1985   Baking\n",
       "bob           1984  Dancing\n",
       "charles       1992      NaN"
      ]
     },
     "execution_count": 74,
     "metadata": {},
     "output_type": "execute_result"
    }
   ],
   "source": [
    "people[[\"birthyear\", \"hobby\"]]"
   ]
  },
  {
   "cell_type": "code",
   "execution_count": 75,
   "id": "fc1f502e",
   "metadata": {},
   "outputs": [
    {
     "data": {
      "text/html": [
       "<div>\n",
       "<style scoped>\n",
       "    .dataframe tbody tr th:only-of-type {\n",
       "        vertical-align: middle;\n",
       "    }\n",
       "\n",
       "    .dataframe tbody tr th {\n",
       "        vertical-align: top;\n",
       "    }\n",
       "\n",
       "    .dataframe thead th {\n",
       "        text-align: right;\n",
       "    }\n",
       "</style>\n",
       "<table border=\"1\" class=\"dataframe\">\n",
       "  <thead>\n",
       "    <tr style=\"text-align: right;\">\n",
       "      <th></th>\n",
       "      <th>birthyear</th>\n",
       "      <th>weight</th>\n",
       "      <th>height</th>\n",
       "    </tr>\n",
       "  </thead>\n",
       "  <tbody>\n",
       "    <tr>\n",
       "      <th>bob</th>\n",
       "      <td>1984.0</td>\n",
       "      <td>83.0</td>\n",
       "      <td>NaN</td>\n",
       "    </tr>\n",
       "    <tr>\n",
       "      <th>alice</th>\n",
       "      <td>1985.0</td>\n",
       "      <td>68.0</td>\n",
       "      <td>NaN</td>\n",
       "    </tr>\n",
       "    <tr>\n",
       "      <th>eugene</th>\n",
       "      <td>NaN</td>\n",
       "      <td>NaN</td>\n",
       "      <td>NaN</td>\n",
       "    </tr>\n",
       "  </tbody>\n",
       "</table>\n",
       "</div>"
      ],
      "text/plain": [
       "        birthyear  weight height\n",
       "bob        1984.0    83.0    NaN\n",
       "alice      1985.0    68.0    NaN\n",
       "eugene        NaN     NaN    NaN"
      ]
     },
     "execution_count": 75,
     "metadata": {},
     "output_type": "execute_result"
    }
   ],
   "source": [
    "d2 =pd.DataFrame(\n",
    "    people_dict,\n",
    "    columns=[\"birthyear\", \"weight\", \"height\"],\n",
    "    index=[\"bob\", \"alice\", \"eugene\"]\n",
    ")\n",
    "d2"
   ]
  },
  {
   "cell_type": "markdown",
   "id": "40e723b1",
   "metadata": {},
   "source": [
    "Another convenient way to create a DataFrame is to pass all the values to the constructor as an ndarray, or a list of lists, and specify the column names and row index labels separately:"
   ]
  },
  {
   "cell_type": "code",
   "execution_count": 76,
   "id": "34073ea2",
   "metadata": {},
   "outputs": [
    {
     "data": {
      "text/html": [
       "<div>\n",
       "<style scoped>\n",
       "    .dataframe tbody tr th:only-of-type {\n",
       "        vertical-align: middle;\n",
       "    }\n",
       "\n",
       "    .dataframe tbody tr th {\n",
       "        vertical-align: top;\n",
       "    }\n",
       "\n",
       "    .dataframe thead th {\n",
       "        text-align: right;\n",
       "    }\n",
       "</style>\n",
       "<table border=\"1\" class=\"dataframe\">\n",
       "  <thead>\n",
       "    <tr style=\"text-align: right;\">\n",
       "      <th></th>\n",
       "      <th>birthyear</th>\n",
       "      <th>children</th>\n",
       "      <th>hobby</th>\n",
       "      <th>weight</th>\n",
       "    </tr>\n",
       "  </thead>\n",
       "  <tbody>\n",
       "    <tr>\n",
       "      <th>alice</th>\n",
       "      <td>1985</td>\n",
       "      <td>NaN</td>\n",
       "      <td>Baking</td>\n",
       "      <td>68</td>\n",
       "    </tr>\n",
       "    <tr>\n",
       "      <th>bob</th>\n",
       "      <td>1984</td>\n",
       "      <td>3.0</td>\n",
       "      <td>Dancing</td>\n",
       "      <td>83</td>\n",
       "    </tr>\n",
       "    <tr>\n",
       "      <th>charles</th>\n",
       "      <td>1992</td>\n",
       "      <td>0.0</td>\n",
       "      <td>NaN</td>\n",
       "      <td>112</td>\n",
       "    </tr>\n",
       "  </tbody>\n",
       "</table>\n",
       "</div>"
      ],
      "text/plain": [
       "         birthyear  children    hobby  weight\n",
       "alice         1985       NaN   Baking      68\n",
       "bob           1984       3.0  Dancing      83\n",
       "charles       1992       0.0      NaN     112"
      ]
     },
     "execution_count": 76,
     "metadata": {},
     "output_type": "execute_result"
    }
   ],
   "source": [
    "values = [\n",
    "    [1985, np.nan, \"Baking\", 68],\n",
    "    [1984,  3,     \"Dancing\", 83],\n",
    "    [1992,   0,     np.nan, 112]\n",
    "]\n",
    "\n",
    "d3 = pd.DataFrame(\n",
    "values,\n",
    "columns=[\"birthyear\", \"children\", \"hobby\", \"weight\"],\n",
    "index= [\"alice\", \"bob\", \"charles\"])\n",
    "d3"
   ]
  },
  {
   "cell_type": "markdown",
   "id": "e1ed7cae",
   "metadata": {},
   "source": [
    "To specify missing values, you can either use np.nan or NumPy's masked arrays:"
   ]
  },
  {
   "cell_type": "code",
   "execution_count": 79,
   "id": "c194e73e",
   "metadata": {},
   "outputs": [
    {
     "data": {
      "text/html": [
       "<div>\n",
       "<style scoped>\n",
       "    .dataframe tbody tr th:only-of-type {\n",
       "        vertical-align: middle;\n",
       "    }\n",
       "\n",
       "    .dataframe tbody tr th {\n",
       "        vertical-align: top;\n",
       "    }\n",
       "\n",
       "    .dataframe thead th {\n",
       "        text-align: right;\n",
       "    }\n",
       "</style>\n",
       "<table border=\"1\" class=\"dataframe\">\n",
       "  <thead>\n",
       "    <tr style=\"text-align: right;\">\n",
       "      <th></th>\n",
       "      <th>hobby</th>\n",
       "      <th>children</th>\n",
       "    </tr>\n",
       "  </thead>\n",
       "  <tbody>\n",
       "    <tr>\n",
       "      <th>alice</th>\n",
       "      <td>Baking</td>\n",
       "      <td>NaN</td>\n",
       "    </tr>\n",
       "    <tr>\n",
       "      <th>bob</th>\n",
       "      <td>Dancing</td>\n",
       "      <td>3.0</td>\n",
       "    </tr>\n",
       "  </tbody>\n",
       "</table>\n",
       "</div>"
      ],
      "text/plain": [
       "         hobby  children\n",
       "alice   Baking       NaN\n",
       "bob    Dancing       3.0"
      ]
     },
     "execution_count": 79,
     "metadata": {},
     "output_type": "execute_result"
    }
   ],
   "source": [
    "d4 = pd.DataFrame(\n",
    "d3,\n",
    "columns=[\"hobby\", \"children\"],\n",
    "index=[\"alice\", \"bob\"]\n",
    ")\n",
    "d4"
   ]
  },
  {
   "cell_type": "markdown",
   "id": "0e30c369",
   "metadata": {},
   "source": [
    "It is also possible to create a DataFrame with a dictionary (or list) of dictionaries (or list):"
   ]
  },
  {
   "cell_type": "code",
   "execution_count": 80,
   "id": "5505b621",
   "metadata": {},
   "outputs": [
    {
     "data": {
      "text/html": [
       "<div>\n",
       "<style scoped>\n",
       "    .dataframe tbody tr th:only-of-type {\n",
       "        vertical-align: middle;\n",
       "    }\n",
       "\n",
       "    .dataframe tbody tr th {\n",
       "        vertical-align: top;\n",
       "    }\n",
       "\n",
       "    .dataframe thead th {\n",
       "        text-align: right;\n",
       "    }\n",
       "</style>\n",
       "<table border=\"1\" class=\"dataframe\">\n",
       "  <thead>\n",
       "    <tr style=\"text-align: right;\">\n",
       "      <th></th>\n",
       "      <th>birthyear</th>\n",
       "      <th>hobby</th>\n",
       "      <th>weight</th>\n",
       "      <th>children</th>\n",
       "    </tr>\n",
       "  </thead>\n",
       "  <tbody>\n",
       "    <tr>\n",
       "      <th>alice</th>\n",
       "      <td>1985</td>\n",
       "      <td>Biking</td>\n",
       "      <td>68</td>\n",
       "      <td>NaN</td>\n",
       "    </tr>\n",
       "    <tr>\n",
       "      <th>bob</th>\n",
       "      <td>1984</td>\n",
       "      <td>Dancing</td>\n",
       "      <td>83</td>\n",
       "      <td>3.0</td>\n",
       "    </tr>\n",
       "    <tr>\n",
       "      <th>charles</th>\n",
       "      <td>1992</td>\n",
       "      <td>NaN</td>\n",
       "      <td>112</td>\n",
       "      <td>0.0</td>\n",
       "    </tr>\n",
       "  </tbody>\n",
       "</table>\n",
       "</div>"
      ],
      "text/plain": [
       "         birthyear    hobby  weight  children\n",
       "alice         1985   Biking      68       NaN\n",
       "bob           1984  Dancing      83       3.0\n",
       "charles       1992      NaN     112       0.0"
      ]
     },
     "execution_count": 80,
     "metadata": {},
     "output_type": "execute_result"
    }
   ],
   "source": [
    "people = pd.DataFrame({\n",
    "    \"birthyear\": {\"alice\": 1985, \"bob\": 1984, \"charles\": 1992},\n",
    "    \"hobby\": {\"alice\":\"Biking\", \"bob\": \"Dancing\"},\n",
    "    \"weight\": {\"alice\":68, \"bob\": 83, \"charles\":112},\n",
    "    \"children\": {\"bob\":3, \"charles\":0}\n",
    "})\n",
    "people"
   ]
  },
  {
   "cell_type": "markdown",
   "id": "0b58cc1a",
   "metadata": {},
   "source": [
    "# Multi-indexing"
   ]
  },
  {
   "cell_type": "markdown",
   "id": "5908f0b9",
   "metadata": {},
   "source": [
    "If all columns are tuples of the same size, then they are understood as a multi-index. The same goes for row index labels. For example:"
   ]
  },
  {
   "cell_type": "code",
   "execution_count": 83,
   "id": "77bc17de",
   "metadata": {},
   "outputs": [
    {
     "data": {
      "text/html": [
       "<div>\n",
       "<style scoped>\n",
       "    .dataframe tbody tr th:only-of-type {\n",
       "        vertical-align: middle;\n",
       "    }\n",
       "\n",
       "    .dataframe tbody tr th {\n",
       "        vertical-align: top;\n",
       "    }\n",
       "\n",
       "    .dataframe thead tr th {\n",
       "        text-align: left;\n",
       "    }\n",
       "</style>\n",
       "<table border=\"1\" class=\"dataframe\">\n",
       "  <thead>\n",
       "    <tr>\n",
       "      <th></th>\n",
       "      <th></th>\n",
       "      <th colspan=\"2\" halign=\"left\">public</th>\n",
       "      <th colspan=\"2\" halign=\"left\">private</th>\n",
       "    </tr>\n",
       "    <tr>\n",
       "      <th></th>\n",
       "      <th></th>\n",
       "      <th>birthyear</th>\n",
       "      <th>hobby</th>\n",
       "      <th>weight</th>\n",
       "      <th>children</th>\n",
       "    </tr>\n",
       "  </thead>\n",
       "  <tbody>\n",
       "    <tr>\n",
       "      <th rowspan=\"2\" valign=\"top\">Paris</th>\n",
       "      <th>alice</th>\n",
       "      <td>1985</td>\n",
       "      <td>Biking</td>\n",
       "      <td>68</td>\n",
       "      <td>NaN</td>\n",
       "    </tr>\n",
       "    <tr>\n",
       "      <th>bob</th>\n",
       "      <td>1984</td>\n",
       "      <td>Dancing</td>\n",
       "      <td>83</td>\n",
       "      <td>3.0</td>\n",
       "    </tr>\n",
       "    <tr>\n",
       "      <th>London</th>\n",
       "      <th>charles</th>\n",
       "      <td>1992</td>\n",
       "      <td>NaN</td>\n",
       "      <td>112</td>\n",
       "      <td>0.0</td>\n",
       "    </tr>\n",
       "  </tbody>\n",
       "</table>\n",
       "</div>"
      ],
      "text/plain": [
       "                  public          private         \n",
       "               birthyear    hobby  weight children\n",
       "Paris  alice        1985   Biking      68      NaN\n",
       "       bob          1984  Dancing      83      3.0\n",
       "London charles      1992      NaN     112      0.0"
      ]
     },
     "execution_count": 83,
     "metadata": {},
     "output_type": "execute_result"
    }
   ],
   "source": [
    "d5 = pd.DataFrame(\n",
    "  {\n",
    "    (\"public\", \"birthyear\"):\n",
    "        {(\"Paris\",\"alice\"):1985, (\"Paris\",\"bob\"): 1984, (\"London\",\"charles\"): 1992},\n",
    "    (\"public\", \"hobby\"):\n",
    "        {(\"Paris\",\"alice\"):\"Biking\", (\"Paris\",\"bob\"): \"Dancing\"},\n",
    "    (\"private\", \"weight\"):\n",
    "        {(\"Paris\",\"alice\"):68, (\"Paris\",\"bob\"): 83, (\"London\",\"charles\"): 112},\n",
    "    (\"private\", \"children\"):\n",
    "        {(\"Paris\", \"alice\"):np.nan, (\"Paris\",\"bob\"): 3, (\"London\",\"charles\"): 0}\n",
    "  }\n",
    ")\n",
    "d5"
   ]
  },
  {
   "cell_type": "markdown",
   "id": "c4bf988a",
   "metadata": {},
   "source": [
    "You can now get a DataFrame containing all the \"public\" columns very simply:"
   ]
  },
  {
   "cell_type": "code",
   "execution_count": 84,
   "id": "cf3e20d5",
   "metadata": {},
   "outputs": [
    {
     "data": {
      "text/html": [
       "<div>\n",
       "<style scoped>\n",
       "    .dataframe tbody tr th:only-of-type {\n",
       "        vertical-align: middle;\n",
       "    }\n",
       "\n",
       "    .dataframe tbody tr th {\n",
       "        vertical-align: top;\n",
       "    }\n",
       "\n",
       "    .dataframe thead th {\n",
       "        text-align: right;\n",
       "    }\n",
       "</style>\n",
       "<table border=\"1\" class=\"dataframe\">\n",
       "  <thead>\n",
       "    <tr style=\"text-align: right;\">\n",
       "      <th></th>\n",
       "      <th></th>\n",
       "      <th>birthyear</th>\n",
       "      <th>hobby</th>\n",
       "    </tr>\n",
       "  </thead>\n",
       "  <tbody>\n",
       "    <tr>\n",
       "      <th rowspan=\"2\" valign=\"top\">Paris</th>\n",
       "      <th>alice</th>\n",
       "      <td>1985</td>\n",
       "      <td>Biking</td>\n",
       "    </tr>\n",
       "    <tr>\n",
       "      <th>bob</th>\n",
       "      <td>1984</td>\n",
       "      <td>Dancing</td>\n",
       "    </tr>\n",
       "    <tr>\n",
       "      <th>London</th>\n",
       "      <th>charles</th>\n",
       "      <td>1992</td>\n",
       "      <td>NaN</td>\n",
       "    </tr>\n",
       "  </tbody>\n",
       "</table>\n",
       "</div>"
      ],
      "text/plain": [
       "                birthyear    hobby\n",
       "Paris  alice         1985   Biking\n",
       "       bob           1984  Dancing\n",
       "London charles       1992      NaN"
      ]
     },
     "execution_count": 84,
     "metadata": {},
     "output_type": "execute_result"
    }
   ],
   "source": [
    "d5[\"public\"]"
   ]
  },
  {
   "cell_type": "code",
   "execution_count": 85,
   "id": "ff9c7397",
   "metadata": {},
   "outputs": [
    {
     "data": {
      "text/plain": [
       "Paris   alice       Biking\n",
       "        bob        Dancing\n",
       "London  charles        NaN\n",
       "Name: (public, hobby), dtype: object"
      ]
     },
     "execution_count": 85,
     "metadata": {},
     "output_type": "execute_result"
    }
   ],
   "source": [
    "d5[\"public\", \"hobby\"]"
   ]
  },
  {
   "cell_type": "markdown",
   "id": "bb3b633c",
   "metadata": {},
   "source": [
    "# Dropping a level\n",
    "\n"
   ]
  },
  {
   "cell_type": "code",
   "execution_count": 86,
   "id": "8c88bb2c",
   "metadata": {},
   "outputs": [
    {
     "data": {
      "text/html": [
       "<div>\n",
       "<style scoped>\n",
       "    .dataframe tbody tr th:only-of-type {\n",
       "        vertical-align: middle;\n",
       "    }\n",
       "\n",
       "    .dataframe tbody tr th {\n",
       "        vertical-align: top;\n",
       "    }\n",
       "\n",
       "    .dataframe thead tr th {\n",
       "        text-align: left;\n",
       "    }\n",
       "</style>\n",
       "<table border=\"1\" class=\"dataframe\">\n",
       "  <thead>\n",
       "    <tr>\n",
       "      <th></th>\n",
       "      <th></th>\n",
       "      <th colspan=\"2\" halign=\"left\">public</th>\n",
       "      <th colspan=\"2\" halign=\"left\">private</th>\n",
       "    </tr>\n",
       "    <tr>\n",
       "      <th></th>\n",
       "      <th></th>\n",
       "      <th>birthyear</th>\n",
       "      <th>hobby</th>\n",
       "      <th>weight</th>\n",
       "      <th>children</th>\n",
       "    </tr>\n",
       "  </thead>\n",
       "  <tbody>\n",
       "    <tr>\n",
       "      <th rowspan=\"2\" valign=\"top\">Paris</th>\n",
       "      <th>alice</th>\n",
       "      <td>1985</td>\n",
       "      <td>Biking</td>\n",
       "      <td>68</td>\n",
       "      <td>NaN</td>\n",
       "    </tr>\n",
       "    <tr>\n",
       "      <th>bob</th>\n",
       "      <td>1984</td>\n",
       "      <td>Dancing</td>\n",
       "      <td>83</td>\n",
       "      <td>3.0</td>\n",
       "    </tr>\n",
       "    <tr>\n",
       "      <th>London</th>\n",
       "      <th>charles</th>\n",
       "      <td>1992</td>\n",
       "      <td>NaN</td>\n",
       "      <td>112</td>\n",
       "      <td>0.0</td>\n",
       "    </tr>\n",
       "  </tbody>\n",
       "</table>\n",
       "</div>"
      ],
      "text/plain": [
       "                  public          private         \n",
       "               birthyear    hobby  weight children\n",
       "Paris  alice        1985   Biking      68      NaN\n",
       "       bob          1984  Dancing      83      3.0\n",
       "London charles      1992      NaN     112      0.0"
      ]
     },
     "execution_count": 86,
     "metadata": {},
     "output_type": "execute_result"
    }
   ],
   "source": [
    "d5"
   ]
  },
  {
   "cell_type": "markdown",
   "id": "c00c7eb5",
   "metadata": {},
   "source": [
    "There are two levels of columns, and two levels of indices. We can drop a column level by calling droplevel() (the same goes for indices):"
   ]
  },
  {
   "cell_type": "code",
   "execution_count": 87,
   "id": "cbd31016",
   "metadata": {},
   "outputs": [
    {
     "data": {
      "text/html": [
       "<div>\n",
       "<style scoped>\n",
       "    .dataframe tbody tr th:only-of-type {\n",
       "        vertical-align: middle;\n",
       "    }\n",
       "\n",
       "    .dataframe tbody tr th {\n",
       "        vertical-align: top;\n",
       "    }\n",
       "\n",
       "    .dataframe thead th {\n",
       "        text-align: right;\n",
       "    }\n",
       "</style>\n",
       "<table border=\"1\" class=\"dataframe\">\n",
       "  <thead>\n",
       "    <tr style=\"text-align: right;\">\n",
       "      <th></th>\n",
       "      <th></th>\n",
       "      <th>birthyear</th>\n",
       "      <th>hobby</th>\n",
       "      <th>weight</th>\n",
       "      <th>children</th>\n",
       "    </tr>\n",
       "  </thead>\n",
       "  <tbody>\n",
       "    <tr>\n",
       "      <th rowspan=\"2\" valign=\"top\">Paris</th>\n",
       "      <th>alice</th>\n",
       "      <td>1985</td>\n",
       "      <td>Biking</td>\n",
       "      <td>68</td>\n",
       "      <td>NaN</td>\n",
       "    </tr>\n",
       "    <tr>\n",
       "      <th>bob</th>\n",
       "      <td>1984</td>\n",
       "      <td>Dancing</td>\n",
       "      <td>83</td>\n",
       "      <td>3.0</td>\n",
       "    </tr>\n",
       "    <tr>\n",
       "      <th>London</th>\n",
       "      <th>charles</th>\n",
       "      <td>1992</td>\n",
       "      <td>NaN</td>\n",
       "      <td>112</td>\n",
       "      <td>0.0</td>\n",
       "    </tr>\n",
       "  </tbody>\n",
       "</table>\n",
       "</div>"
      ],
      "text/plain": [
       "                birthyear    hobby  weight  children\n",
       "Paris  alice         1985   Biking      68       NaN\n",
       "       bob           1984  Dancing      83       3.0\n",
       "London charles       1992      NaN     112       0.0"
      ]
     },
     "execution_count": 87,
     "metadata": {},
     "output_type": "execute_result"
    }
   ],
   "source": [
    "d5.columns = d5.columns.droplevel(level = 0)\n",
    "d5"
   ]
  },
  {
   "cell_type": "markdown",
   "id": "3c62c35c",
   "metadata": {},
   "source": [
    "# Transposing"
   ]
  },
  {
   "cell_type": "markdown",
   "id": "ec8e0142",
   "metadata": {},
   "source": [
    "You can swap columns and indices using the T attribute:"
   ]
  },
  {
   "cell_type": "code",
   "execution_count": 88,
   "id": "f783cf19",
   "metadata": {},
   "outputs": [
    {
     "data": {
      "text/html": [
       "<div>\n",
       "<style scoped>\n",
       "    .dataframe tbody tr th:only-of-type {\n",
       "        vertical-align: middle;\n",
       "    }\n",
       "\n",
       "    .dataframe tbody tr th {\n",
       "        vertical-align: top;\n",
       "    }\n",
       "\n",
       "    .dataframe thead tr th {\n",
       "        text-align: left;\n",
       "    }\n",
       "</style>\n",
       "<table border=\"1\" class=\"dataframe\">\n",
       "  <thead>\n",
       "    <tr>\n",
       "      <th></th>\n",
       "      <th colspan=\"2\" halign=\"left\">Paris</th>\n",
       "      <th>London</th>\n",
       "    </tr>\n",
       "    <tr>\n",
       "      <th></th>\n",
       "      <th>alice</th>\n",
       "      <th>bob</th>\n",
       "      <th>charles</th>\n",
       "    </tr>\n",
       "  </thead>\n",
       "  <tbody>\n",
       "    <tr>\n",
       "      <th>birthyear</th>\n",
       "      <td>1985</td>\n",
       "      <td>1984</td>\n",
       "      <td>1992</td>\n",
       "    </tr>\n",
       "    <tr>\n",
       "      <th>hobby</th>\n",
       "      <td>Biking</td>\n",
       "      <td>Dancing</td>\n",
       "      <td>NaN</td>\n",
       "    </tr>\n",
       "    <tr>\n",
       "      <th>weight</th>\n",
       "      <td>68</td>\n",
       "      <td>83</td>\n",
       "      <td>112</td>\n",
       "    </tr>\n",
       "    <tr>\n",
       "      <th>children</th>\n",
       "      <td>NaN</td>\n",
       "      <td>3.0</td>\n",
       "      <td>0.0</td>\n",
       "    </tr>\n",
       "  </tbody>\n",
       "</table>\n",
       "</div>"
      ],
      "text/plain": [
       "            Paris           London\n",
       "            alice      bob charles\n",
       "birthyear    1985     1984    1992\n",
       "hobby      Biking  Dancing     NaN\n",
       "weight         68       83     112\n",
       "children      NaN      3.0     0.0"
      ]
     },
     "execution_count": 88,
     "metadata": {},
     "output_type": "execute_result"
    }
   ],
   "source": [
    "d6 = d5.T\n",
    "d6"
   ]
  },
  {
   "cell_type": "markdown",
   "id": "190d0527",
   "metadata": {},
   "source": [
    "# Stacking and unstacking levels"
   ]
  },
  {
   "cell_type": "markdown",
   "id": "2314581d",
   "metadata": {},
   "source": [
    "Calling the stack() method will push the lowest column level after the lowest index:"
   ]
  },
  {
   "cell_type": "code",
   "execution_count": 89,
   "id": "b996b9f1",
   "metadata": {},
   "outputs": [
    {
     "data": {
      "text/html": [
       "<div>\n",
       "<style scoped>\n",
       "    .dataframe tbody tr th:only-of-type {\n",
       "        vertical-align: middle;\n",
       "    }\n",
       "\n",
       "    .dataframe tbody tr th {\n",
       "        vertical-align: top;\n",
       "    }\n",
       "\n",
       "    .dataframe thead th {\n",
       "        text-align: right;\n",
       "    }\n",
       "</style>\n",
       "<table border=\"1\" class=\"dataframe\">\n",
       "  <thead>\n",
       "    <tr style=\"text-align: right;\">\n",
       "      <th></th>\n",
       "      <th></th>\n",
       "      <th>London</th>\n",
       "      <th>Paris</th>\n",
       "    </tr>\n",
       "  </thead>\n",
       "  <tbody>\n",
       "    <tr>\n",
       "      <th rowspan=\"3\" valign=\"top\">birthyear</th>\n",
       "      <th>alice</th>\n",
       "      <td>NaN</td>\n",
       "      <td>1985</td>\n",
       "    </tr>\n",
       "    <tr>\n",
       "      <th>bob</th>\n",
       "      <td>NaN</td>\n",
       "      <td>1984</td>\n",
       "    </tr>\n",
       "    <tr>\n",
       "      <th>charles</th>\n",
       "      <td>1992</td>\n",
       "      <td>NaN</td>\n",
       "    </tr>\n",
       "    <tr>\n",
       "      <th rowspan=\"2\" valign=\"top\">hobby</th>\n",
       "      <th>alice</th>\n",
       "      <td>NaN</td>\n",
       "      <td>Biking</td>\n",
       "    </tr>\n",
       "    <tr>\n",
       "      <th>bob</th>\n",
       "      <td>NaN</td>\n",
       "      <td>Dancing</td>\n",
       "    </tr>\n",
       "    <tr>\n",
       "      <th rowspan=\"3\" valign=\"top\">weight</th>\n",
       "      <th>alice</th>\n",
       "      <td>NaN</td>\n",
       "      <td>68</td>\n",
       "    </tr>\n",
       "    <tr>\n",
       "      <th>bob</th>\n",
       "      <td>NaN</td>\n",
       "      <td>83</td>\n",
       "    </tr>\n",
       "    <tr>\n",
       "      <th>charles</th>\n",
       "      <td>112</td>\n",
       "      <td>NaN</td>\n",
       "    </tr>\n",
       "    <tr>\n",
       "      <th rowspan=\"2\" valign=\"top\">children</th>\n",
       "      <th>bob</th>\n",
       "      <td>NaN</td>\n",
       "      <td>3.0</td>\n",
       "    </tr>\n",
       "    <tr>\n",
       "      <th>charles</th>\n",
       "      <td>0.0</td>\n",
       "      <td>NaN</td>\n",
       "    </tr>\n",
       "  </tbody>\n",
       "</table>\n",
       "</div>"
      ],
      "text/plain": [
       "                  London    Paris\n",
       "birthyear alice      NaN     1985\n",
       "          bob        NaN     1984\n",
       "          charles   1992      NaN\n",
       "hobby     alice      NaN   Biking\n",
       "          bob        NaN  Dancing\n",
       "weight    alice      NaN       68\n",
       "          bob        NaN       83\n",
       "          charles    112      NaN\n",
       "children  bob        NaN      3.0\n",
       "          charles    0.0      NaN"
      ]
     },
     "execution_count": 89,
     "metadata": {},
     "output_type": "execute_result"
    }
   ],
   "source": [
    "d7 = d6.stack()\n",
    "d7"
   ]
  },
  {
   "cell_type": "markdown",
   "id": "c431e785",
   "metadata": {},
   "source": [
    "Note that many NaN values appeared. This makes sense because many new combinations did not exist before (eg. there was no bob in London).\n",
    "\n",
    "Calling unstack() will do the reverse, once again creating many NaN values."
   ]
  },
  {
   "cell_type": "code",
   "execution_count": 90,
   "id": "d5fb5bb1",
   "metadata": {},
   "outputs": [
    {
     "data": {
      "text/html": [
       "<div>\n",
       "<style scoped>\n",
       "    .dataframe tbody tr th:only-of-type {\n",
       "        vertical-align: middle;\n",
       "    }\n",
       "\n",
       "    .dataframe tbody tr th {\n",
       "        vertical-align: top;\n",
       "    }\n",
       "\n",
       "    .dataframe thead tr th {\n",
       "        text-align: left;\n",
       "    }\n",
       "</style>\n",
       "<table border=\"1\" class=\"dataframe\">\n",
       "  <thead>\n",
       "    <tr>\n",
       "      <th></th>\n",
       "      <th colspan=\"3\" halign=\"left\">London</th>\n",
       "      <th colspan=\"3\" halign=\"left\">Paris</th>\n",
       "    </tr>\n",
       "    <tr>\n",
       "      <th></th>\n",
       "      <th>alice</th>\n",
       "      <th>bob</th>\n",
       "      <th>charles</th>\n",
       "      <th>alice</th>\n",
       "      <th>bob</th>\n",
       "      <th>charles</th>\n",
       "    </tr>\n",
       "  </thead>\n",
       "  <tbody>\n",
       "    <tr>\n",
       "      <th>birthyear</th>\n",
       "      <td>NaN</td>\n",
       "      <td>NaN</td>\n",
       "      <td>1992</td>\n",
       "      <td>1985</td>\n",
       "      <td>1984</td>\n",
       "      <td>NaN</td>\n",
       "    </tr>\n",
       "    <tr>\n",
       "      <th>children</th>\n",
       "      <td>NaN</td>\n",
       "      <td>NaN</td>\n",
       "      <td>0.0</td>\n",
       "      <td>NaN</td>\n",
       "      <td>3.0</td>\n",
       "      <td>NaN</td>\n",
       "    </tr>\n",
       "    <tr>\n",
       "      <th>hobby</th>\n",
       "      <td>NaN</td>\n",
       "      <td>NaN</td>\n",
       "      <td>NaN</td>\n",
       "      <td>Biking</td>\n",
       "      <td>Dancing</td>\n",
       "      <td>NaN</td>\n",
       "    </tr>\n",
       "    <tr>\n",
       "      <th>weight</th>\n",
       "      <td>NaN</td>\n",
       "      <td>NaN</td>\n",
       "      <td>112</td>\n",
       "      <td>68</td>\n",
       "      <td>83</td>\n",
       "      <td>NaN</td>\n",
       "    </tr>\n",
       "  </tbody>\n",
       "</table>\n",
       "</div>"
      ],
      "text/plain": [
       "          London                Paris                 \n",
       "           alice  bob charles   alice      bob charles\n",
       "birthyear    NaN  NaN    1992    1985     1984     NaN\n",
       "children     NaN  NaN     0.0     NaN      3.0     NaN\n",
       "hobby        NaN  NaN     NaN  Biking  Dancing     NaN\n",
       "weight       NaN  NaN     112      68       83     NaN"
      ]
     },
     "execution_count": 90,
     "metadata": {},
     "output_type": "execute_result"
    }
   ],
   "source": [
    "d8 = d7.unstack()\n",
    "d8"
   ]
  },
  {
   "cell_type": "code",
   "execution_count": 91,
   "id": "e477746e",
   "metadata": {},
   "outputs": [
    {
     "data": {
      "text/plain": [
       "London  alice    birthyear        NaN\n",
       "                 children         NaN\n",
       "                 hobby            NaN\n",
       "                 weight           NaN\n",
       "        bob      birthyear        NaN\n",
       "                 children         NaN\n",
       "                 hobby            NaN\n",
       "                 weight           NaN\n",
       "        charles  birthyear       1992\n",
       "                 children         0.0\n",
       "                 hobby            NaN\n",
       "                 weight           112\n",
       "Paris   alice    birthyear       1985\n",
       "                 children         NaN\n",
       "                 hobby         Biking\n",
       "                 weight            68\n",
       "        bob      birthyear       1984\n",
       "                 children         3.0\n",
       "                 hobby        Dancing\n",
       "                 weight            83\n",
       "        charles  birthyear        NaN\n",
       "                 children         NaN\n",
       "                 hobby            NaN\n",
       "                 weight           NaN\n",
       "dtype: object"
      ]
     },
     "execution_count": 91,
     "metadata": {},
     "output_type": "execute_result"
    }
   ],
   "source": [
    "d9 = d8.unstack()\n",
    "d9"
   ]
  },
  {
   "cell_type": "markdown",
   "id": "c141539e",
   "metadata": {},
   "source": [
    "The stack() and unstack() methods let you select the level to stack/unstack. You can even stack/unstack multiple levels at once:"
   ]
  },
  {
   "cell_type": "code",
   "execution_count": 92,
   "id": "e3a72d87",
   "metadata": {},
   "outputs": [
    {
     "data": {
      "text/html": [
       "<div>\n",
       "<style scoped>\n",
       "    .dataframe tbody tr th:only-of-type {\n",
       "        vertical-align: middle;\n",
       "    }\n",
       "\n",
       "    .dataframe tbody tr th {\n",
       "        vertical-align: top;\n",
       "    }\n",
       "\n",
       "    .dataframe thead tr th {\n",
       "        text-align: left;\n",
       "    }\n",
       "</style>\n",
       "<table border=\"1\" class=\"dataframe\">\n",
       "  <thead>\n",
       "    <tr>\n",
       "      <th></th>\n",
       "      <th colspan=\"3\" halign=\"left\">London</th>\n",
       "      <th colspan=\"3\" halign=\"left\">Paris</th>\n",
       "    </tr>\n",
       "    <tr>\n",
       "      <th></th>\n",
       "      <th>alice</th>\n",
       "      <th>bob</th>\n",
       "      <th>charles</th>\n",
       "      <th>alice</th>\n",
       "      <th>bob</th>\n",
       "      <th>charles</th>\n",
       "    </tr>\n",
       "  </thead>\n",
       "  <tbody>\n",
       "    <tr>\n",
       "      <th>birthyear</th>\n",
       "      <td>NaN</td>\n",
       "      <td>NaN</td>\n",
       "      <td>1992</td>\n",
       "      <td>1985</td>\n",
       "      <td>1984</td>\n",
       "      <td>NaN</td>\n",
       "    </tr>\n",
       "    <tr>\n",
       "      <th>children</th>\n",
       "      <td>NaN</td>\n",
       "      <td>NaN</td>\n",
       "      <td>0.0</td>\n",
       "      <td>NaN</td>\n",
       "      <td>3.0</td>\n",
       "      <td>NaN</td>\n",
       "    </tr>\n",
       "    <tr>\n",
       "      <th>hobby</th>\n",
       "      <td>NaN</td>\n",
       "      <td>NaN</td>\n",
       "      <td>NaN</td>\n",
       "      <td>Biking</td>\n",
       "      <td>Dancing</td>\n",
       "      <td>NaN</td>\n",
       "    </tr>\n",
       "    <tr>\n",
       "      <th>weight</th>\n",
       "      <td>NaN</td>\n",
       "      <td>NaN</td>\n",
       "      <td>112</td>\n",
       "      <td>68</td>\n",
       "      <td>83</td>\n",
       "      <td>NaN</td>\n",
       "    </tr>\n",
       "  </tbody>\n",
       "</table>\n",
       "</div>"
      ],
      "text/plain": [
       "          London                Paris                 \n",
       "           alice  bob charles   alice      bob charles\n",
       "birthyear    NaN  NaN    1992    1985     1984     NaN\n",
       "children     NaN  NaN     0.0     NaN      3.0     NaN\n",
       "hobby        NaN  NaN     NaN  Biking  Dancing     NaN\n",
       "weight       NaN  NaN     112      68       83     NaN"
      ]
     },
     "execution_count": 92,
     "metadata": {},
     "output_type": "execute_result"
    }
   ],
   "source": [
    "d10 = d9.unstack(level = (0,1))\n",
    "d10"
   ]
  },
  {
   "cell_type": "markdown",
   "id": "7b3b1a4c",
   "metadata": {},
   "source": [
    "# Most methods return modified copies"
   ]
  },
  {
   "cell_type": "markdown",
   "id": "d5438557",
   "metadata": {},
   "source": [
    "As you may have noticed, the stack() and unstack() methods do not modify the object they apply to. Instead, they work on a copy and return that copy. This is true of most methods in pandas."
   ]
  },
  {
   "cell_type": "markdown",
   "id": "6cb06176",
   "metadata": {},
   "source": [
    "# Accessing rows"
   ]
  },
  {
   "cell_type": "markdown",
   "id": "1c9d5c31",
   "metadata": {},
   "source": [
    "Let's go back to the people DataFrame:"
   ]
  },
  {
   "cell_type": "code",
   "execution_count": 93,
   "id": "06b914b7",
   "metadata": {},
   "outputs": [
    {
     "data": {
      "text/html": [
       "<div>\n",
       "<style scoped>\n",
       "    .dataframe tbody tr th:only-of-type {\n",
       "        vertical-align: middle;\n",
       "    }\n",
       "\n",
       "    .dataframe tbody tr th {\n",
       "        vertical-align: top;\n",
       "    }\n",
       "\n",
       "    .dataframe thead th {\n",
       "        text-align: right;\n",
       "    }\n",
       "</style>\n",
       "<table border=\"1\" class=\"dataframe\">\n",
       "  <thead>\n",
       "    <tr style=\"text-align: right;\">\n",
       "      <th></th>\n",
       "      <th>birthyear</th>\n",
       "      <th>hobby</th>\n",
       "      <th>weight</th>\n",
       "      <th>children</th>\n",
       "    </tr>\n",
       "  </thead>\n",
       "  <tbody>\n",
       "    <tr>\n",
       "      <th>alice</th>\n",
       "      <td>1985</td>\n",
       "      <td>Biking</td>\n",
       "      <td>68</td>\n",
       "      <td>NaN</td>\n",
       "    </tr>\n",
       "    <tr>\n",
       "      <th>bob</th>\n",
       "      <td>1984</td>\n",
       "      <td>Dancing</td>\n",
       "      <td>83</td>\n",
       "      <td>3.0</td>\n",
       "    </tr>\n",
       "    <tr>\n",
       "      <th>charles</th>\n",
       "      <td>1992</td>\n",
       "      <td>NaN</td>\n",
       "      <td>112</td>\n",
       "      <td>0.0</td>\n",
       "    </tr>\n",
       "  </tbody>\n",
       "</table>\n",
       "</div>"
      ],
      "text/plain": [
       "         birthyear    hobby  weight  children\n",
       "alice         1985   Biking      68       NaN\n",
       "bob           1984  Dancing      83       3.0\n",
       "charles       1992      NaN     112       0.0"
      ]
     },
     "execution_count": 93,
     "metadata": {},
     "output_type": "execute_result"
    }
   ],
   "source": [
    "people"
   ]
  },
  {
   "cell_type": "markdown",
   "id": "b5b953a4",
   "metadata": {},
   "source": [
    "The loc attribute lets you access rows instead of columns. The result is a Series object in which the DataFrame's column names are mapped to row index labels:"
   ]
  },
  {
   "cell_type": "code",
   "execution_count": 94,
   "id": "e1345242",
   "metadata": {},
   "outputs": [
    {
     "data": {
      "text/plain": [
       "birthyear    1992\n",
       "hobby         NaN\n",
       "weight        112\n",
       "children      0.0\n",
       "Name: charles, dtype: object"
      ]
     },
     "execution_count": 94,
     "metadata": {},
     "output_type": "execute_result"
    }
   ],
   "source": [
    "people.loc[\"charles\"]"
   ]
  },
  {
   "cell_type": "code",
   "execution_count": 95,
   "id": "dad5a813",
   "metadata": {},
   "outputs": [
    {
     "data": {
      "text/plain": [
       "birthyear    1992\n",
       "hobby         NaN\n",
       "weight        112\n",
       "children      0.0\n",
       "Name: charles, dtype: object"
      ]
     },
     "execution_count": 95,
     "metadata": {},
     "output_type": "execute_result"
    }
   ],
   "source": [
    "# You can also access rows by integer location using the iloc attribute:\n",
    "people.iloc[2]"
   ]
  },
  {
   "cell_type": "code",
   "execution_count": 96,
   "id": "8f81fc36",
   "metadata": {},
   "outputs": [
    {
     "data": {
      "text/html": [
       "<div>\n",
       "<style scoped>\n",
       "    .dataframe tbody tr th:only-of-type {\n",
       "        vertical-align: middle;\n",
       "    }\n",
       "\n",
       "    .dataframe tbody tr th {\n",
       "        vertical-align: top;\n",
       "    }\n",
       "\n",
       "    .dataframe thead th {\n",
       "        text-align: right;\n",
       "    }\n",
       "</style>\n",
       "<table border=\"1\" class=\"dataframe\">\n",
       "  <thead>\n",
       "    <tr style=\"text-align: right;\">\n",
       "      <th></th>\n",
       "      <th>birthyear</th>\n",
       "      <th>hobby</th>\n",
       "      <th>weight</th>\n",
       "      <th>children</th>\n",
       "    </tr>\n",
       "  </thead>\n",
       "  <tbody>\n",
       "    <tr>\n",
       "      <th>bob</th>\n",
       "      <td>1984</td>\n",
       "      <td>Dancing</td>\n",
       "      <td>83</td>\n",
       "      <td>3.0</td>\n",
       "    </tr>\n",
       "    <tr>\n",
       "      <th>charles</th>\n",
       "      <td>1992</td>\n",
       "      <td>NaN</td>\n",
       "      <td>112</td>\n",
       "      <td>0.0</td>\n",
       "    </tr>\n",
       "  </tbody>\n",
       "</table>\n",
       "</div>"
      ],
      "text/plain": [
       "         birthyear    hobby  weight  children\n",
       "bob           1984  Dancing      83       3.0\n",
       "charles       1992      NaN     112       0.0"
      ]
     },
     "execution_count": 96,
     "metadata": {},
     "output_type": "execute_result"
    }
   ],
   "source": [
    "people.iloc[1:3]"
   ]
  },
  {
   "cell_type": "code",
   "execution_count": 97,
   "id": "6ad4779f",
   "metadata": {},
   "outputs": [
    {
     "data": {
      "text/html": [
       "<div>\n",
       "<style scoped>\n",
       "    .dataframe tbody tr th:only-of-type {\n",
       "        vertical-align: middle;\n",
       "    }\n",
       "\n",
       "    .dataframe tbody tr th {\n",
       "        vertical-align: top;\n",
       "    }\n",
       "\n",
       "    .dataframe thead th {\n",
       "        text-align: right;\n",
       "    }\n",
       "</style>\n",
       "<table border=\"1\" class=\"dataframe\">\n",
       "  <thead>\n",
       "    <tr style=\"text-align: right;\">\n",
       "      <th></th>\n",
       "      <th>birthyear</th>\n",
       "      <th>hobby</th>\n",
       "      <th>weight</th>\n",
       "      <th>children</th>\n",
       "    </tr>\n",
       "  </thead>\n",
       "  <tbody>\n",
       "    <tr>\n",
       "      <th>alice</th>\n",
       "      <td>1985</td>\n",
       "      <td>Biking</td>\n",
       "      <td>68</td>\n",
       "      <td>NaN</td>\n",
       "    </tr>\n",
       "    <tr>\n",
       "      <th>charles</th>\n",
       "      <td>1992</td>\n",
       "      <td>NaN</td>\n",
       "      <td>112</td>\n",
       "      <td>0.0</td>\n",
       "    </tr>\n",
       "  </tbody>\n",
       "</table>\n",
       "</div>"
      ],
      "text/plain": [
       "         birthyear   hobby  weight  children\n",
       "alice         1985  Biking      68       NaN\n",
       "charles       1992     NaN     112       0.0"
      ]
     },
     "execution_count": 97,
     "metadata": {},
     "output_type": "execute_result"
    }
   ],
   "source": [
    "# Finally, you can pass a boolean array to get the matching rows:\n",
    "people[np.array([True, False, True])]"
   ]
  },
  {
   "cell_type": "code",
   "execution_count": 98,
   "id": "6b798f51",
   "metadata": {},
   "outputs": [
    {
     "data": {
      "text/html": [
       "<div>\n",
       "<style scoped>\n",
       "    .dataframe tbody tr th:only-of-type {\n",
       "        vertical-align: middle;\n",
       "    }\n",
       "\n",
       "    .dataframe tbody tr th {\n",
       "        vertical-align: top;\n",
       "    }\n",
       "\n",
       "    .dataframe thead th {\n",
       "        text-align: right;\n",
       "    }\n",
       "</style>\n",
       "<table border=\"1\" class=\"dataframe\">\n",
       "  <thead>\n",
       "    <tr style=\"text-align: right;\">\n",
       "      <th></th>\n",
       "      <th>birthyear</th>\n",
       "      <th>hobby</th>\n",
       "      <th>weight</th>\n",
       "      <th>children</th>\n",
       "    </tr>\n",
       "  </thead>\n",
       "  <tbody>\n",
       "    <tr>\n",
       "      <th>alice</th>\n",
       "      <td>1985</td>\n",
       "      <td>Biking</td>\n",
       "      <td>68</td>\n",
       "      <td>NaN</td>\n",
       "    </tr>\n",
       "    <tr>\n",
       "      <th>bob</th>\n",
       "      <td>1984</td>\n",
       "      <td>Dancing</td>\n",
       "      <td>83</td>\n",
       "      <td>3.0</td>\n",
       "    </tr>\n",
       "  </tbody>\n",
       "</table>\n",
       "</div>"
      ],
      "text/plain": [
       "       birthyear    hobby  weight  children\n",
       "alice       1985   Biking      68       NaN\n",
       "bob         1984  Dancing      83       3.0"
      ]
     },
     "execution_count": 98,
     "metadata": {},
     "output_type": "execute_result"
    }
   ],
   "source": [
    "people[people[\"birthyear\"] < 1990]"
   ]
  },
  {
   "cell_type": "markdown",
   "id": "cfca037d",
   "metadata": {},
   "source": [
    "# Adding and removing columns"
   ]
  },
  {
   "cell_type": "markdown",
   "id": "7818664d",
   "metadata": {},
   "source": [
    "ou can generally treat DataFrame objects like dictionaries of Series, so the following work fine:"
   ]
  },
  {
   "cell_type": "code",
   "execution_count": 99,
   "id": "93071a4d",
   "metadata": {},
   "outputs": [
    {
     "data": {
      "text/html": [
       "<div>\n",
       "<style scoped>\n",
       "    .dataframe tbody tr th:only-of-type {\n",
       "        vertical-align: middle;\n",
       "    }\n",
       "\n",
       "    .dataframe tbody tr th {\n",
       "        vertical-align: top;\n",
       "    }\n",
       "\n",
       "    .dataframe thead th {\n",
       "        text-align: right;\n",
       "    }\n",
       "</style>\n",
       "<table border=\"1\" class=\"dataframe\">\n",
       "  <thead>\n",
       "    <tr style=\"text-align: right;\">\n",
       "      <th></th>\n",
       "      <th>birthyear</th>\n",
       "      <th>hobby</th>\n",
       "      <th>weight</th>\n",
       "      <th>children</th>\n",
       "    </tr>\n",
       "  </thead>\n",
       "  <tbody>\n",
       "    <tr>\n",
       "      <th>alice</th>\n",
       "      <td>1985</td>\n",
       "      <td>Biking</td>\n",
       "      <td>68</td>\n",
       "      <td>NaN</td>\n",
       "    </tr>\n",
       "    <tr>\n",
       "      <th>bob</th>\n",
       "      <td>1984</td>\n",
       "      <td>Dancing</td>\n",
       "      <td>83</td>\n",
       "      <td>3.0</td>\n",
       "    </tr>\n",
       "    <tr>\n",
       "      <th>charles</th>\n",
       "      <td>1992</td>\n",
       "      <td>NaN</td>\n",
       "      <td>112</td>\n",
       "      <td>0.0</td>\n",
       "    </tr>\n",
       "  </tbody>\n",
       "</table>\n",
       "</div>"
      ],
      "text/plain": [
       "         birthyear    hobby  weight  children\n",
       "alice         1985   Biking      68       NaN\n",
       "bob           1984  Dancing      83       3.0\n",
       "charles       1992      NaN     112       0.0"
      ]
     },
     "execution_count": 99,
     "metadata": {},
     "output_type": "execute_result"
    }
   ],
   "source": [
    "people"
   ]
  },
  {
   "cell_type": "code",
   "execution_count": 100,
   "id": "253eb940",
   "metadata": {},
   "outputs": [
    {
     "data": {
      "text/html": [
       "<div>\n",
       "<style scoped>\n",
       "    .dataframe tbody tr th:only-of-type {\n",
       "        vertical-align: middle;\n",
       "    }\n",
       "\n",
       "    .dataframe tbody tr th {\n",
       "        vertical-align: top;\n",
       "    }\n",
       "\n",
       "    .dataframe thead th {\n",
       "        text-align: right;\n",
       "    }\n",
       "</style>\n",
       "<table border=\"1\" class=\"dataframe\">\n",
       "  <thead>\n",
       "    <tr style=\"text-align: right;\">\n",
       "      <th></th>\n",
       "      <th>hobby</th>\n",
       "      <th>weight</th>\n",
       "      <th>age</th>\n",
       "      <th>over 30</th>\n",
       "    </tr>\n",
       "  </thead>\n",
       "  <tbody>\n",
       "    <tr>\n",
       "      <th>alice</th>\n",
       "      <td>Biking</td>\n",
       "      <td>68</td>\n",
       "      <td>33</td>\n",
       "      <td>True</td>\n",
       "    </tr>\n",
       "    <tr>\n",
       "      <th>bob</th>\n",
       "      <td>Dancing</td>\n",
       "      <td>83</td>\n",
       "      <td>34</td>\n",
       "      <td>True</td>\n",
       "    </tr>\n",
       "    <tr>\n",
       "      <th>charles</th>\n",
       "      <td>NaN</td>\n",
       "      <td>112</td>\n",
       "      <td>26</td>\n",
       "      <td>False</td>\n",
       "    </tr>\n",
       "  </tbody>\n",
       "</table>\n",
       "</div>"
      ],
      "text/plain": [
       "           hobby  weight  age  over 30\n",
       "alice     Biking      68   33     True\n",
       "bob      Dancing      83   34     True\n",
       "charles      NaN     112   26    False"
      ]
     },
     "execution_count": 100,
     "metadata": {},
     "output_type": "execute_result"
    }
   ],
   "source": [
    "people[\"age\"] = 2018 - people[\"birthyear\"]\n",
    "people[\"over 30\"] = people[\"age\"] > 30\n",
    "birthyears = people.pop(\"birthyear\")\n",
    "del people[\"children\"]\n",
    "people"
   ]
  },
  {
   "cell_type": "code",
   "execution_count": 101,
   "id": "321d89b1",
   "metadata": {},
   "outputs": [
    {
     "data": {
      "text/plain": [
       "alice      1985\n",
       "bob        1984\n",
       "charles    1992\n",
       "Name: birthyear, dtype: int64"
      ]
     },
     "execution_count": 101,
     "metadata": {},
     "output_type": "execute_result"
    }
   ],
   "source": [
    "birthyears"
   ]
  },
  {
   "cell_type": "markdown",
   "id": "2c6a74ce",
   "metadata": {},
   "source": [
    "When you add a new colum, it must have the same number of rows. Missing rows are filled with NaN, and extra rows are ignored:"
   ]
  },
  {
   "cell_type": "code",
   "execution_count": 102,
   "id": "be6b5924",
   "metadata": {},
   "outputs": [
    {
     "data": {
      "text/html": [
       "<div>\n",
       "<style scoped>\n",
       "    .dataframe tbody tr th:only-of-type {\n",
       "        vertical-align: middle;\n",
       "    }\n",
       "\n",
       "    .dataframe tbody tr th {\n",
       "        vertical-align: top;\n",
       "    }\n",
       "\n",
       "    .dataframe thead th {\n",
       "        text-align: right;\n",
       "    }\n",
       "</style>\n",
       "<table border=\"1\" class=\"dataframe\">\n",
       "  <thead>\n",
       "    <tr style=\"text-align: right;\">\n",
       "      <th></th>\n",
       "      <th>hobby</th>\n",
       "      <th>weight</th>\n",
       "      <th>age</th>\n",
       "      <th>over 30</th>\n",
       "      <th>pets</th>\n",
       "    </tr>\n",
       "  </thead>\n",
       "  <tbody>\n",
       "    <tr>\n",
       "      <th>alice</th>\n",
       "      <td>Biking</td>\n",
       "      <td>68</td>\n",
       "      <td>33</td>\n",
       "      <td>True</td>\n",
       "      <td>NaN</td>\n",
       "    </tr>\n",
       "    <tr>\n",
       "      <th>bob</th>\n",
       "      <td>Dancing</td>\n",
       "      <td>83</td>\n",
       "      <td>34</td>\n",
       "      <td>True</td>\n",
       "      <td>0.0</td>\n",
       "    </tr>\n",
       "    <tr>\n",
       "      <th>charles</th>\n",
       "      <td>NaN</td>\n",
       "      <td>112</td>\n",
       "      <td>26</td>\n",
       "      <td>False</td>\n",
       "      <td>5.0</td>\n",
       "    </tr>\n",
       "  </tbody>\n",
       "</table>\n",
       "</div>"
      ],
      "text/plain": [
       "           hobby  weight  age  over 30  pets\n",
       "alice     Biking      68   33     True   NaN\n",
       "bob      Dancing      83   34     True   0.0\n",
       "charles      NaN     112   26    False   5.0"
      ]
     },
     "execution_count": 102,
     "metadata": {},
     "output_type": "execute_result"
    }
   ],
   "source": [
    "people[\"pets\"] = pd.Series({\"bob\":0, \"charles\": 5, \"eugene\": 1})\n",
    "people"
   ]
  },
  {
   "cell_type": "markdown",
   "id": "9b1f133d",
   "metadata": {},
   "source": [
    "When adding a new column, it is added at the end (on the right) by default. You can also insert a column anywhere else using the insert() method:"
   ]
  },
  {
   "cell_type": "code",
   "execution_count": 109,
   "id": "44a291bb",
   "metadata": {},
   "outputs": [
    {
     "data": {
      "text/html": [
       "<div>\n",
       "<style scoped>\n",
       "    .dataframe tbody tr th:only-of-type {\n",
       "        vertical-align: middle;\n",
       "    }\n",
       "\n",
       "    .dataframe tbody tr th {\n",
       "        vertical-align: top;\n",
       "    }\n",
       "\n",
       "    .dataframe thead th {\n",
       "        text-align: right;\n",
       "    }\n",
       "</style>\n",
       "<table border=\"1\" class=\"dataframe\">\n",
       "  <thead>\n",
       "    <tr style=\"text-align: right;\">\n",
       "      <th></th>\n",
       "      <th>hobby</th>\n",
       "      <th>height</th>\n",
       "      <th>weight</th>\n",
       "      <th>age</th>\n",
       "      <th>over 30</th>\n",
       "      <th>pets</th>\n",
       "    </tr>\n",
       "  </thead>\n",
       "  <tbody>\n",
       "    <tr>\n",
       "      <th>alice</th>\n",
       "      <td>Biking</td>\n",
       "      <td>172</td>\n",
       "      <td>68</td>\n",
       "      <td>33</td>\n",
       "      <td>True</td>\n",
       "      <td>NaN</td>\n",
       "    </tr>\n",
       "    <tr>\n",
       "      <th>bob</th>\n",
       "      <td>Dancing</td>\n",
       "      <td>181</td>\n",
       "      <td>83</td>\n",
       "      <td>34</td>\n",
       "      <td>True</td>\n",
       "      <td>0.0</td>\n",
       "    </tr>\n",
       "    <tr>\n",
       "      <th>charles</th>\n",
       "      <td>NaN</td>\n",
       "      <td>185</td>\n",
       "      <td>112</td>\n",
       "      <td>26</td>\n",
       "      <td>False</td>\n",
       "      <td>5.0</td>\n",
       "    </tr>\n",
       "  </tbody>\n",
       "</table>\n",
       "</div>"
      ],
      "text/plain": [
       "           hobby  height  weight  age  over 30  pets\n",
       "alice     Biking     172      68   33     True   NaN\n",
       "bob      Dancing     181      83   34     True   0.0\n",
       "charles      NaN     185     112   26    False   5.0"
      ]
     },
     "execution_count": 109,
     "metadata": {},
     "output_type": "execute_result"
    }
   ],
   "source": [
    "people"
   ]
  },
  {
   "cell_type": "markdown",
   "id": "c19d2648",
   "metadata": {},
   "source": [
    "# Assigning new columns"
   ]
  },
  {
   "cell_type": "markdown",
   "id": "44e41695",
   "metadata": {},
   "source": [
    "You can also create new columns by calling the assign() method. Note that this returns a new DataFrame object, the original is not modified:"
   ]
  },
  {
   "cell_type": "code",
   "execution_count": 110,
   "id": "a2e900d2",
   "metadata": {},
   "outputs": [
    {
     "data": {
      "text/html": [
       "<div>\n",
       "<style scoped>\n",
       "    .dataframe tbody tr th:only-of-type {\n",
       "        vertical-align: middle;\n",
       "    }\n",
       "\n",
       "    .dataframe tbody tr th {\n",
       "        vertical-align: top;\n",
       "    }\n",
       "\n",
       "    .dataframe thead th {\n",
       "        text-align: right;\n",
       "    }\n",
       "</style>\n",
       "<table border=\"1\" class=\"dataframe\">\n",
       "  <thead>\n",
       "    <tr style=\"text-align: right;\">\n",
       "      <th></th>\n",
       "      <th>hobby</th>\n",
       "      <th>height</th>\n",
       "      <th>weight</th>\n",
       "      <th>age</th>\n",
       "      <th>over 30</th>\n",
       "      <th>pets</th>\n",
       "      <th>body_mass_index</th>\n",
       "      <th>has_pets</th>\n",
       "    </tr>\n",
       "  </thead>\n",
       "  <tbody>\n",
       "    <tr>\n",
       "      <th>alice</th>\n",
       "      <td>Biking</td>\n",
       "      <td>172</td>\n",
       "      <td>68</td>\n",
       "      <td>33</td>\n",
       "      <td>True</td>\n",
       "      <td>NaN</td>\n",
       "      <td>22.985398</td>\n",
       "      <td>False</td>\n",
       "    </tr>\n",
       "    <tr>\n",
       "      <th>bob</th>\n",
       "      <td>Dancing</td>\n",
       "      <td>181</td>\n",
       "      <td>83</td>\n",
       "      <td>34</td>\n",
       "      <td>True</td>\n",
       "      <td>0.0</td>\n",
       "      <td>25.335002</td>\n",
       "      <td>False</td>\n",
       "    </tr>\n",
       "    <tr>\n",
       "      <th>charles</th>\n",
       "      <td>NaN</td>\n",
       "      <td>185</td>\n",
       "      <td>112</td>\n",
       "      <td>26</td>\n",
       "      <td>False</td>\n",
       "      <td>5.0</td>\n",
       "      <td>32.724617</td>\n",
       "      <td>True</td>\n",
       "    </tr>\n",
       "  </tbody>\n",
       "</table>\n",
       "</div>"
      ],
      "text/plain": [
       "           hobby  height  weight  age  over 30  pets  body_mass_index  \\\n",
       "alice     Biking     172      68   33     True   NaN        22.985398   \n",
       "bob      Dancing     181      83   34     True   0.0        25.335002   \n",
       "charles      NaN     185     112   26    False   5.0        32.724617   \n",
       "\n",
       "         has_pets  \n",
       "alice       False  \n",
       "bob         False  \n",
       "charles      True  "
      ]
     },
     "execution_count": 110,
     "metadata": {},
     "output_type": "execute_result"
    }
   ],
   "source": [
    "people.assign(\n",
    "body_mass_index = people[\"weight\"]/ (people[\"height\"]/100) ** 2,\n",
    "has_pets = people[\"pets\"] > 0)"
   ]
  },
  {
   "cell_type": "markdown",
   "id": "94dbcc4c",
   "metadata": {},
   "source": [
    "\n",
    "Note that you cannot access columns created within the same assignment:"
   ]
  },
  {
   "cell_type": "code",
   "execution_count": 111,
   "id": "98ab4ee2",
   "metadata": {},
   "outputs": [
    {
     "name": "stdout",
     "output_type": "stream",
     "text": [
      "Key error: 'body_mass_index'\n"
     ]
    }
   ],
   "source": [
    "try:\n",
    "    people.assign(\n",
    "    body_mass_index = people[\"weight\"]/ (people[\"height\"] / 100) ** 2,\n",
    "    overweight = people[\"body_mass_index\"] > 25\n",
    "    )\n",
    "except KeyError as e:\n",
    "    print(\"Key error:\", e)\n",
    "    "
   ]
  },
  {
   "cell_type": "code",
   "execution_count": 112,
   "id": "ea714443",
   "metadata": {},
   "outputs": [
    {
     "data": {
      "text/html": [
       "<div>\n",
       "<style scoped>\n",
       "    .dataframe tbody tr th:only-of-type {\n",
       "        vertical-align: middle;\n",
       "    }\n",
       "\n",
       "    .dataframe tbody tr th {\n",
       "        vertical-align: top;\n",
       "    }\n",
       "\n",
       "    .dataframe thead th {\n",
       "        text-align: right;\n",
       "    }\n",
       "</style>\n",
       "<table border=\"1\" class=\"dataframe\">\n",
       "  <thead>\n",
       "    <tr style=\"text-align: right;\">\n",
       "      <th></th>\n",
       "      <th>hobby</th>\n",
       "      <th>height</th>\n",
       "      <th>weight</th>\n",
       "      <th>age</th>\n",
       "      <th>over 30</th>\n",
       "      <th>pets</th>\n",
       "      <th>body_mass_index</th>\n",
       "      <th>overweight</th>\n",
       "    </tr>\n",
       "  </thead>\n",
       "  <tbody>\n",
       "    <tr>\n",
       "      <th>alice</th>\n",
       "      <td>Biking</td>\n",
       "      <td>172</td>\n",
       "      <td>68</td>\n",
       "      <td>33</td>\n",
       "      <td>True</td>\n",
       "      <td>NaN</td>\n",
       "      <td>22.985398</td>\n",
       "      <td>False</td>\n",
       "    </tr>\n",
       "    <tr>\n",
       "      <th>bob</th>\n",
       "      <td>Dancing</td>\n",
       "      <td>181</td>\n",
       "      <td>83</td>\n",
       "      <td>34</td>\n",
       "      <td>True</td>\n",
       "      <td>0.0</td>\n",
       "      <td>25.335002</td>\n",
       "      <td>True</td>\n",
       "    </tr>\n",
       "    <tr>\n",
       "      <th>charles</th>\n",
       "      <td>NaN</td>\n",
       "      <td>185</td>\n",
       "      <td>112</td>\n",
       "      <td>26</td>\n",
       "      <td>False</td>\n",
       "      <td>5.0</td>\n",
       "      <td>32.724617</td>\n",
       "      <td>True</td>\n",
       "    </tr>\n",
       "  </tbody>\n",
       "</table>\n",
       "</div>"
      ],
      "text/plain": [
       "           hobby  height  weight  age  over 30  pets  body_mass_index  \\\n",
       "alice     Biking     172      68   33     True   NaN        22.985398   \n",
       "bob      Dancing     181      83   34     True   0.0        25.335002   \n",
       "charles      NaN     185     112   26    False   5.0        32.724617   \n",
       "\n",
       "         overweight  \n",
       "alice         False  \n",
       "bob            True  \n",
       "charles        True  "
      ]
     },
     "execution_count": 112,
     "metadata": {},
     "output_type": "execute_result"
    }
   ],
   "source": [
    "d6 = people.assign(body_mass_index = people[\"weight\"] / (people[\"height\"]/ 100) ** 2)\n",
    "d6.assign(overweight = d6[\"body_mass_index\"] > 25)"
   ]
  },
  {
   "cell_type": "markdown",
   "id": "1251f3bf",
   "metadata": {},
   "source": [
    "Having to create a temporary variable d6 is not very convenient. You may want to just chain the assigment calls, but it does not work because the people object is not actually modified by the first assignment:"
   ]
  },
  {
   "cell_type": "code",
   "execution_count": 113,
   "id": "127ca752",
   "metadata": {},
   "outputs": [
    {
     "name": "stdout",
     "output_type": "stream",
     "text": [
      "key error: 'body_mass_index'\n"
     ]
    }
   ],
   "source": [
    "try:\n",
    "    (people\n",
    "    .assign(body_mass_index = people[\"weight\"] / (people[\"height\"] / 100) **2)\n",
    "    .assign(overweight = people[\"body_mass_index\"] > 25)\n",
    "    )\n",
    "except KeyError as e:\n",
    "    print(\"key error:\", e)\n",
    "    "
   ]
  },
  {
   "cell_type": "markdown",
   "id": "aaa0d5c9",
   "metadata": {},
   "source": [
    "But fear not, there is a simple solution. You can pass a function to the assign() method (typically a lambda function), and this function will be called with the DataFrame as a parameter:"
   ]
  },
  {
   "cell_type": "code",
   "execution_count": 114,
   "id": "301cb4e9",
   "metadata": {},
   "outputs": [
    {
     "data": {
      "text/html": [
       "<div>\n",
       "<style scoped>\n",
       "    .dataframe tbody tr th:only-of-type {\n",
       "        vertical-align: middle;\n",
       "    }\n",
       "\n",
       "    .dataframe tbody tr th {\n",
       "        vertical-align: top;\n",
       "    }\n",
       "\n",
       "    .dataframe thead th {\n",
       "        text-align: right;\n",
       "    }\n",
       "</style>\n",
       "<table border=\"1\" class=\"dataframe\">\n",
       "  <thead>\n",
       "    <tr style=\"text-align: right;\">\n",
       "      <th></th>\n",
       "      <th>hobby</th>\n",
       "      <th>height</th>\n",
       "      <th>weight</th>\n",
       "      <th>age</th>\n",
       "      <th>over 30</th>\n",
       "      <th>pets</th>\n",
       "      <th>body_mass_index</th>\n",
       "      <th>overweight</th>\n",
       "    </tr>\n",
       "  </thead>\n",
       "  <tbody>\n",
       "    <tr>\n",
       "      <th>alice</th>\n",
       "      <td>Biking</td>\n",
       "      <td>172</td>\n",
       "      <td>68</td>\n",
       "      <td>33</td>\n",
       "      <td>True</td>\n",
       "      <td>NaN</td>\n",
       "      <td>22.985398</td>\n",
       "      <td>False</td>\n",
       "    </tr>\n",
       "    <tr>\n",
       "      <th>bob</th>\n",
       "      <td>Dancing</td>\n",
       "      <td>181</td>\n",
       "      <td>83</td>\n",
       "      <td>34</td>\n",
       "      <td>True</td>\n",
       "      <td>0.0</td>\n",
       "      <td>25.335002</td>\n",
       "      <td>True</td>\n",
       "    </tr>\n",
       "    <tr>\n",
       "      <th>charles</th>\n",
       "      <td>NaN</td>\n",
       "      <td>185</td>\n",
       "      <td>112</td>\n",
       "      <td>26</td>\n",
       "      <td>False</td>\n",
       "      <td>5.0</td>\n",
       "      <td>32.724617</td>\n",
       "      <td>True</td>\n",
       "    </tr>\n",
       "  </tbody>\n",
       "</table>\n",
       "</div>"
      ],
      "text/plain": [
       "           hobby  height  weight  age  over 30  pets  body_mass_index  \\\n",
       "alice     Biking     172      68   33     True   NaN        22.985398   \n",
       "bob      Dancing     181      83   34     True   0.0        25.335002   \n",
       "charles      NaN     185     112   26    False   5.0        32.724617   \n",
       "\n",
       "         overweight  \n",
       "alice         False  \n",
       "bob            True  \n",
       "charles        True  "
      ]
     },
     "execution_count": 114,
     "metadata": {},
     "output_type": "execute_result"
    }
   ],
   "source": [
    "(people\n",
    ".assign(body_mass_index = lambda df: df[\"weight\"] / (df[\"height\"] / 100) **2)\n",
    ".assign(overweight = lambda df: df[\"body_mass_index\"] > 25)\n",
    ")"
   ]
  },
  {
   "cell_type": "markdown",
   "id": "601147d0",
   "metadata": {},
   "source": [
    "# Evaluating an expression"
   ]
  },
  {
   "cell_type": "markdown",
   "id": "29073eaf",
   "metadata": {},
   "source": [
    "A great feature supported by pandas is expression evaluation. This relies on the numexpr library which must be installed."
   ]
  },
  {
   "cell_type": "code",
   "execution_count": 115,
   "id": "05301e9a",
   "metadata": {},
   "outputs": [
    {
     "data": {
      "text/plain": [
       "alice      False\n",
       "bob         True\n",
       "charles     True\n",
       "dtype: bool"
      ]
     },
     "execution_count": 115,
     "metadata": {},
     "output_type": "execute_result"
    }
   ],
   "source": [
    "people.eval(\"weight/(height/100) ** 2 > 25\")"
   ]
  },
  {
   "cell_type": "markdown",
   "id": "ec9109a1",
   "metadata": {},
   "source": [
    "Assignment expressions are also supported. Let's set inplace=True to directly modify the DataFrame rather than getting a modified copy:"
   ]
  },
  {
   "cell_type": "code",
   "execution_count": 116,
   "id": "5d7643bc",
   "metadata": {},
   "outputs": [
    {
     "data": {
      "text/html": [
       "<div>\n",
       "<style scoped>\n",
       "    .dataframe tbody tr th:only-of-type {\n",
       "        vertical-align: middle;\n",
       "    }\n",
       "\n",
       "    .dataframe tbody tr th {\n",
       "        vertical-align: top;\n",
       "    }\n",
       "\n",
       "    .dataframe thead th {\n",
       "        text-align: right;\n",
       "    }\n",
       "</style>\n",
       "<table border=\"1\" class=\"dataframe\">\n",
       "  <thead>\n",
       "    <tr style=\"text-align: right;\">\n",
       "      <th></th>\n",
       "      <th>hobby</th>\n",
       "      <th>height</th>\n",
       "      <th>weight</th>\n",
       "      <th>age</th>\n",
       "      <th>over 30</th>\n",
       "      <th>pets</th>\n",
       "      <th>body_mass_index</th>\n",
       "    </tr>\n",
       "  </thead>\n",
       "  <tbody>\n",
       "    <tr>\n",
       "      <th>alice</th>\n",
       "      <td>Biking</td>\n",
       "      <td>172</td>\n",
       "      <td>68</td>\n",
       "      <td>33</td>\n",
       "      <td>True</td>\n",
       "      <td>NaN</td>\n",
       "      <td>22.985398</td>\n",
       "    </tr>\n",
       "    <tr>\n",
       "      <th>bob</th>\n",
       "      <td>Dancing</td>\n",
       "      <td>181</td>\n",
       "      <td>83</td>\n",
       "      <td>34</td>\n",
       "      <td>True</td>\n",
       "      <td>0.0</td>\n",
       "      <td>25.335002</td>\n",
       "    </tr>\n",
       "    <tr>\n",
       "      <th>charles</th>\n",
       "      <td>NaN</td>\n",
       "      <td>185</td>\n",
       "      <td>112</td>\n",
       "      <td>26</td>\n",
       "      <td>False</td>\n",
       "      <td>5.0</td>\n",
       "      <td>32.724617</td>\n",
       "    </tr>\n",
       "  </tbody>\n",
       "</table>\n",
       "</div>"
      ],
      "text/plain": [
       "           hobby  height  weight  age  over 30  pets  body_mass_index\n",
       "alice     Biking     172      68   33     True   NaN        22.985398\n",
       "bob      Dancing     181      83   34     True   0.0        25.335002\n",
       "charles      NaN     185     112   26    False   5.0        32.724617"
      ]
     },
     "execution_count": 116,
     "metadata": {},
     "output_type": "execute_result"
    }
   ],
   "source": [
    "people.eval(\"body_mass_index = weight / (height/100) ** 2\", inplace=True)\n",
    "people"
   ]
  },
  {
   "cell_type": "markdown",
   "id": "6e776170",
   "metadata": {},
   "source": [
    "You can use a local or global variable in an expression by prefixing it with '@':"
   ]
  },
  {
   "cell_type": "code",
   "execution_count": 117,
   "id": "69f696f4",
   "metadata": {},
   "outputs": [
    {
     "data": {
      "text/html": [
       "<div>\n",
       "<style scoped>\n",
       "    .dataframe tbody tr th:only-of-type {\n",
       "        vertical-align: middle;\n",
       "    }\n",
       "\n",
       "    .dataframe tbody tr th {\n",
       "        vertical-align: top;\n",
       "    }\n",
       "\n",
       "    .dataframe thead th {\n",
       "        text-align: right;\n",
       "    }\n",
       "</style>\n",
       "<table border=\"1\" class=\"dataframe\">\n",
       "  <thead>\n",
       "    <tr style=\"text-align: right;\">\n",
       "      <th></th>\n",
       "      <th>hobby</th>\n",
       "      <th>height</th>\n",
       "      <th>weight</th>\n",
       "      <th>age</th>\n",
       "      <th>over 30</th>\n",
       "      <th>pets</th>\n",
       "      <th>body_mass_index</th>\n",
       "      <th>overweight</th>\n",
       "    </tr>\n",
       "  </thead>\n",
       "  <tbody>\n",
       "    <tr>\n",
       "      <th>alice</th>\n",
       "      <td>Biking</td>\n",
       "      <td>172</td>\n",
       "      <td>68</td>\n",
       "      <td>33</td>\n",
       "      <td>True</td>\n",
       "      <td>NaN</td>\n",
       "      <td>22.985398</td>\n",
       "      <td>False</td>\n",
       "    </tr>\n",
       "    <tr>\n",
       "      <th>bob</th>\n",
       "      <td>Dancing</td>\n",
       "      <td>181</td>\n",
       "      <td>83</td>\n",
       "      <td>34</td>\n",
       "      <td>True</td>\n",
       "      <td>0.0</td>\n",
       "      <td>25.335002</td>\n",
       "      <td>False</td>\n",
       "    </tr>\n",
       "    <tr>\n",
       "      <th>charles</th>\n",
       "      <td>NaN</td>\n",
       "      <td>185</td>\n",
       "      <td>112</td>\n",
       "      <td>26</td>\n",
       "      <td>False</td>\n",
       "      <td>5.0</td>\n",
       "      <td>32.724617</td>\n",
       "      <td>True</td>\n",
       "    </tr>\n",
       "  </tbody>\n",
       "</table>\n",
       "</div>"
      ],
      "text/plain": [
       "           hobby  height  weight  age  over 30  pets  body_mass_index  \\\n",
       "alice     Biking     172      68   33     True   NaN        22.985398   \n",
       "bob      Dancing     181      83   34     True   0.0        25.335002   \n",
       "charles      NaN     185     112   26    False   5.0        32.724617   \n",
       "\n",
       "         overweight  \n",
       "alice         False  \n",
       "bob           False  \n",
       "charles        True  "
      ]
     },
     "execution_count": 117,
     "metadata": {},
     "output_type": "execute_result"
    }
   ],
   "source": [
    "overweight_threshold = 30\n",
    "people.eval(\"overweight = body_mass_index > @overweight_threshold\", inplace=True)\n",
    "people"
   ]
  },
  {
   "cell_type": "markdown",
   "id": "210b3108",
   "metadata": {},
   "source": [
    "# Querying a DataFrame"
   ]
  },
  {
   "cell_type": "markdown",
   "id": "c52f5ec0",
   "metadata": {},
   "source": [
    "The query() method lets you filter a DataFrame based on a query expression:"
   ]
  },
  {
   "cell_type": "code",
   "execution_count": 118,
   "id": "383a436c",
   "metadata": {},
   "outputs": [
    {
     "data": {
      "text/html": [
       "<div>\n",
       "<style scoped>\n",
       "    .dataframe tbody tr th:only-of-type {\n",
       "        vertical-align: middle;\n",
       "    }\n",
       "\n",
       "    .dataframe tbody tr th {\n",
       "        vertical-align: top;\n",
       "    }\n",
       "\n",
       "    .dataframe thead th {\n",
       "        text-align: right;\n",
       "    }\n",
       "</style>\n",
       "<table border=\"1\" class=\"dataframe\">\n",
       "  <thead>\n",
       "    <tr style=\"text-align: right;\">\n",
       "      <th></th>\n",
       "      <th>hobby</th>\n",
       "      <th>height</th>\n",
       "      <th>weight</th>\n",
       "      <th>age</th>\n",
       "      <th>over 30</th>\n",
       "      <th>pets</th>\n",
       "      <th>body_mass_index</th>\n",
       "      <th>overweight</th>\n",
       "    </tr>\n",
       "  </thead>\n",
       "  <tbody>\n",
       "    <tr>\n",
       "      <th>bob</th>\n",
       "      <td>Dancing</td>\n",
       "      <td>181</td>\n",
       "      <td>83</td>\n",
       "      <td>34</td>\n",
       "      <td>True</td>\n",
       "      <td>0.0</td>\n",
       "      <td>25.335002</td>\n",
       "      <td>False</td>\n",
       "    </tr>\n",
       "  </tbody>\n",
       "</table>\n",
       "</div>"
      ],
      "text/plain": [
       "       hobby  height  weight  age  over 30  pets  body_mass_index  overweight\n",
       "bob  Dancing     181      83   34     True   0.0        25.335002       False"
      ]
     },
     "execution_count": 118,
     "metadata": {},
     "output_type": "execute_result"
    }
   ],
   "source": [
    "people.query(\"age > 30 and pets == 0\")"
   ]
  },
  {
   "cell_type": "markdown",
   "id": "897c08ce",
   "metadata": {},
   "source": [
    "# Sorting a DataFrame"
   ]
  },
  {
   "cell_type": "markdown",
   "id": "f6e36a05",
   "metadata": {},
   "source": [
    "You can sort a DataFrame by calling its sort_index method. By default it sorts the rows by their index label, in ascending order, but let's reverse the order:"
   ]
  },
  {
   "cell_type": "code",
   "execution_count": 119,
   "id": "307fa6c2",
   "metadata": {},
   "outputs": [
    {
     "data": {
      "text/html": [
       "<div>\n",
       "<style scoped>\n",
       "    .dataframe tbody tr th:only-of-type {\n",
       "        vertical-align: middle;\n",
       "    }\n",
       "\n",
       "    .dataframe tbody tr th {\n",
       "        vertical-align: top;\n",
       "    }\n",
       "\n",
       "    .dataframe thead th {\n",
       "        text-align: right;\n",
       "    }\n",
       "</style>\n",
       "<table border=\"1\" class=\"dataframe\">\n",
       "  <thead>\n",
       "    <tr style=\"text-align: right;\">\n",
       "      <th></th>\n",
       "      <th>hobby</th>\n",
       "      <th>height</th>\n",
       "      <th>weight</th>\n",
       "      <th>age</th>\n",
       "      <th>over 30</th>\n",
       "      <th>pets</th>\n",
       "      <th>body_mass_index</th>\n",
       "      <th>overweight</th>\n",
       "    </tr>\n",
       "  </thead>\n",
       "  <tbody>\n",
       "    <tr>\n",
       "      <th>charles</th>\n",
       "      <td>NaN</td>\n",
       "      <td>185</td>\n",
       "      <td>112</td>\n",
       "      <td>26</td>\n",
       "      <td>False</td>\n",
       "      <td>5.0</td>\n",
       "      <td>32.724617</td>\n",
       "      <td>True</td>\n",
       "    </tr>\n",
       "    <tr>\n",
       "      <th>bob</th>\n",
       "      <td>Dancing</td>\n",
       "      <td>181</td>\n",
       "      <td>83</td>\n",
       "      <td>34</td>\n",
       "      <td>True</td>\n",
       "      <td>0.0</td>\n",
       "      <td>25.335002</td>\n",
       "      <td>False</td>\n",
       "    </tr>\n",
       "    <tr>\n",
       "      <th>alice</th>\n",
       "      <td>Biking</td>\n",
       "      <td>172</td>\n",
       "      <td>68</td>\n",
       "      <td>33</td>\n",
       "      <td>True</td>\n",
       "      <td>NaN</td>\n",
       "      <td>22.985398</td>\n",
       "      <td>False</td>\n",
       "    </tr>\n",
       "  </tbody>\n",
       "</table>\n",
       "</div>"
      ],
      "text/plain": [
       "           hobby  height  weight  age  over 30  pets  body_mass_index  \\\n",
       "charles      NaN     185     112   26    False   5.0        32.724617   \n",
       "bob      Dancing     181      83   34     True   0.0        25.335002   \n",
       "alice     Biking     172      68   33     True   NaN        22.985398   \n",
       "\n",
       "         overweight  \n",
       "charles        True  \n",
       "bob           False  \n",
       "alice         False  "
      ]
     },
     "execution_count": 119,
     "metadata": {},
     "output_type": "execute_result"
    }
   ],
   "source": [
    "people.sort_index(ascending=False)"
   ]
  },
  {
   "cell_type": "markdown",
   "id": "d138c6f8",
   "metadata": {},
   "source": [
    "Note that sort_index returned a sorted copy of the DataFrame. To modify people directly, we can set the inplace argument to True. Also, we can sort the columns instead of the rows by setting axis=1:"
   ]
  },
  {
   "cell_type": "code",
   "execution_count": 120,
   "id": "e45bd3a0",
   "metadata": {},
   "outputs": [
    {
     "data": {
      "text/html": [
       "<div>\n",
       "<style scoped>\n",
       "    .dataframe tbody tr th:only-of-type {\n",
       "        vertical-align: middle;\n",
       "    }\n",
       "\n",
       "    .dataframe tbody tr th {\n",
       "        vertical-align: top;\n",
       "    }\n",
       "\n",
       "    .dataframe thead th {\n",
       "        text-align: right;\n",
       "    }\n",
       "</style>\n",
       "<table border=\"1\" class=\"dataframe\">\n",
       "  <thead>\n",
       "    <tr style=\"text-align: right;\">\n",
       "      <th></th>\n",
       "      <th>age</th>\n",
       "      <th>body_mass_index</th>\n",
       "      <th>height</th>\n",
       "      <th>hobby</th>\n",
       "      <th>over 30</th>\n",
       "      <th>overweight</th>\n",
       "      <th>pets</th>\n",
       "      <th>weight</th>\n",
       "    </tr>\n",
       "  </thead>\n",
       "  <tbody>\n",
       "    <tr>\n",
       "      <th>alice</th>\n",
       "      <td>33</td>\n",
       "      <td>22.985398</td>\n",
       "      <td>172</td>\n",
       "      <td>Biking</td>\n",
       "      <td>True</td>\n",
       "      <td>False</td>\n",
       "      <td>NaN</td>\n",
       "      <td>68</td>\n",
       "    </tr>\n",
       "    <tr>\n",
       "      <th>bob</th>\n",
       "      <td>34</td>\n",
       "      <td>25.335002</td>\n",
       "      <td>181</td>\n",
       "      <td>Dancing</td>\n",
       "      <td>True</td>\n",
       "      <td>False</td>\n",
       "      <td>0.0</td>\n",
       "      <td>83</td>\n",
       "    </tr>\n",
       "    <tr>\n",
       "      <th>charles</th>\n",
       "      <td>26</td>\n",
       "      <td>32.724617</td>\n",
       "      <td>185</td>\n",
       "      <td>NaN</td>\n",
       "      <td>False</td>\n",
       "      <td>True</td>\n",
       "      <td>5.0</td>\n",
       "      <td>112</td>\n",
       "    </tr>\n",
       "  </tbody>\n",
       "</table>\n",
       "</div>"
      ],
      "text/plain": [
       "         age  body_mass_index  height    hobby  over 30  overweight  pets  \\\n",
       "alice     33        22.985398     172   Biking     True       False   NaN   \n",
       "bob       34        25.335002     181  Dancing     True       False   0.0   \n",
       "charles   26        32.724617     185      NaN    False        True   5.0   \n",
       "\n",
       "         weight  \n",
       "alice        68  \n",
       "bob          83  \n",
       "charles     112  "
      ]
     },
     "execution_count": 120,
     "metadata": {},
     "output_type": "execute_result"
    }
   ],
   "source": [
    "people.sort_index(axis=1, inplace=True)\n",
    "people"
   ]
  },
  {
   "cell_type": "markdown",
   "id": "c50588d7",
   "metadata": {},
   "source": [
    "To sort the DataFrame by the values instead of the labels, we can use sort_values and specify the column to sort by:"
   ]
  },
  {
   "cell_type": "code",
   "execution_count": 121,
   "id": "0002b3ad",
   "metadata": {},
   "outputs": [
    {
     "data": {
      "text/html": [
       "<div>\n",
       "<style scoped>\n",
       "    .dataframe tbody tr th:only-of-type {\n",
       "        vertical-align: middle;\n",
       "    }\n",
       "\n",
       "    .dataframe tbody tr th {\n",
       "        vertical-align: top;\n",
       "    }\n",
       "\n",
       "    .dataframe thead th {\n",
       "        text-align: right;\n",
       "    }\n",
       "</style>\n",
       "<table border=\"1\" class=\"dataframe\">\n",
       "  <thead>\n",
       "    <tr style=\"text-align: right;\">\n",
       "      <th></th>\n",
       "      <th>age</th>\n",
       "      <th>body_mass_index</th>\n",
       "      <th>height</th>\n",
       "      <th>hobby</th>\n",
       "      <th>over 30</th>\n",
       "      <th>overweight</th>\n",
       "      <th>pets</th>\n",
       "      <th>weight</th>\n",
       "    </tr>\n",
       "  </thead>\n",
       "  <tbody>\n",
       "    <tr>\n",
       "      <th>charles</th>\n",
       "      <td>26</td>\n",
       "      <td>32.724617</td>\n",
       "      <td>185</td>\n",
       "      <td>NaN</td>\n",
       "      <td>False</td>\n",
       "      <td>True</td>\n",
       "      <td>5.0</td>\n",
       "      <td>112</td>\n",
       "    </tr>\n",
       "    <tr>\n",
       "      <th>alice</th>\n",
       "      <td>33</td>\n",
       "      <td>22.985398</td>\n",
       "      <td>172</td>\n",
       "      <td>Biking</td>\n",
       "      <td>True</td>\n",
       "      <td>False</td>\n",
       "      <td>NaN</td>\n",
       "      <td>68</td>\n",
       "    </tr>\n",
       "    <tr>\n",
       "      <th>bob</th>\n",
       "      <td>34</td>\n",
       "      <td>25.335002</td>\n",
       "      <td>181</td>\n",
       "      <td>Dancing</td>\n",
       "      <td>True</td>\n",
       "      <td>False</td>\n",
       "      <td>0.0</td>\n",
       "      <td>83</td>\n",
       "    </tr>\n",
       "  </tbody>\n",
       "</table>\n",
       "</div>"
      ],
      "text/plain": [
       "         age  body_mass_index  height    hobby  over 30  overweight  pets  \\\n",
       "charles   26        32.724617     185      NaN    False        True   5.0   \n",
       "alice     33        22.985398     172   Biking     True       False   NaN   \n",
       "bob       34        25.335002     181  Dancing     True       False   0.0   \n",
       "\n",
       "         weight  \n",
       "charles     112  \n",
       "alice        68  \n",
       "bob          83  "
      ]
     },
     "execution_count": 121,
     "metadata": {},
     "output_type": "execute_result"
    }
   ],
   "source": [
    "people.sort_values(by=\"age\", inplace=True)\n",
    "people"
   ]
  },
  {
   "cell_type": "markdown",
   "id": "a76955b6",
   "metadata": {},
   "source": [
    "# Plotting a DataFrame"
   ]
  },
  {
   "cell_type": "markdown",
   "id": "7c754810",
   "metadata": {},
   "source": [
    "Just like for Series, pandas makes it easy to draw nice graphs based on a DataFrame.\n",
    "\n",
    "For example, it is trivial to create a line plot from a DataFrame's data by calling its plot method:"
   ]
  },
  {
   "cell_type": "code",
   "execution_count": 123,
   "id": "53272410",
   "metadata": {},
   "outputs": [
    {
     "data": {
      "image/png": "[encoded data removed]",
      "text/plain": [
       "<Figure size 640x480 with 1 Axes>"
      ]
     },
     "metadata": {},
     "output_type": "display_data"
    }
   ],
   "source": [
    "people.plot(kind = \"line\", x = \"body_mass_index\", y = [\"height\", \"weight\"])\n",
    "plt.show()"
   ]
  },
  {
   "cell_type": "markdown",
   "id": "6d2d13fb",
   "metadata": {},
   "source": [
    "You can pass extra arguments supported by matplotlib's functions. For example, we can create scatterplot and pass it a list of sizes using the s argument of matplotlib's scatter() function:"
   ]
  },
  {
   "cell_type": "code",
   "execution_count": 124,
   "id": "189a5383",
   "metadata": {},
   "outputs": [
    {
     "data": {
      "image/png": "[encoded data removed]",
      "text/plain": [
       "<Figure size 640x480 with 1 Axes>"
      ]
     },
     "metadata": {},
     "output_type": "display_data"
    }
   ],
   "source": [
    "people.plot(kind = \"scatter\", x = \"height\", y = \"weight\", s=[40, 120, 200])\n",
    "plt.show()"
   ]
  },
  {
   "cell_type": "markdown",
   "id": "0ae8fc30",
   "metadata": {},
   "source": [
    "# Operations on DataFrames"
   ]
  },
  {
   "cell_type": "markdown",
   "id": "22c5e626",
   "metadata": {},
   "source": [
    "Although DataFrames do not try to mimick NumPy arrays, there are a few similarities. Let's create a DataFrame to demonstrate this:"
   ]
  },
  {
   "cell_type": "code",
   "execution_count": 125,
   "id": "992c62c7",
   "metadata": {},
   "outputs": [
    {
     "data": {
      "text/html": [
       "<div>\n",
       "<style scoped>\n",
       "    .dataframe tbody tr th:only-of-type {\n",
       "        vertical-align: middle;\n",
       "    }\n",
       "\n",
       "    .dataframe tbody tr th {\n",
       "        vertical-align: top;\n",
       "    }\n",
       "\n",
       "    .dataframe thead th {\n",
       "        text-align: right;\n",
       "    }\n",
       "</style>\n",
       "<table border=\"1\" class=\"dataframe\">\n",
       "  <thead>\n",
       "    <tr style=\"text-align: right;\">\n",
       "      <th></th>\n",
       "      <th>sep</th>\n",
       "      <th>oct</th>\n",
       "      <th>nov</th>\n",
       "    </tr>\n",
       "  </thead>\n",
       "  <tbody>\n",
       "    <tr>\n",
       "      <th>alice</th>\n",
       "      <td>8</td>\n",
       "      <td>8</td>\n",
       "      <td>9</td>\n",
       "    </tr>\n",
       "    <tr>\n",
       "      <th>bob</th>\n",
       "      <td>10</td>\n",
       "      <td>9</td>\n",
       "      <td>9</td>\n",
       "    </tr>\n",
       "    <tr>\n",
       "      <th>charles</th>\n",
       "      <td>4</td>\n",
       "      <td>8</td>\n",
       "      <td>2</td>\n",
       "    </tr>\n",
       "    <tr>\n",
       "      <th>darwin</th>\n",
       "      <td>9</td>\n",
       "      <td>10</td>\n",
       "      <td>10</td>\n",
       "    </tr>\n",
       "  </tbody>\n",
       "</table>\n",
       "</div>"
      ],
      "text/plain": [
       "         sep  oct  nov\n",
       "alice      8    8    9\n",
       "bob       10    9    9\n",
       "charles    4    8    2\n",
       "darwin     9   10   10"
      ]
     },
     "execution_count": 125,
     "metadata": {},
     "output_type": "execute_result"
    }
   ],
   "source": [
    "grades_array = np.array([[8,8,9], [10,9,9], [4,8,2], [9,10,10]])\n",
    "grades = pd.DataFrame(grades_array, columns=[\"sep\", \"oct\", \"nov\"], index=[\"alice\",\"bob\",\"charles\", \"darwin\"])\n",
    "grades"
   ]
  },
  {
   "cell_type": "markdown",
   "id": "dbe57f91",
   "metadata": {},
   "source": [
    "You can apply NumPy mathematical functions on a DataFrame: the function is applied to all values:"
   ]
  },
  {
   "cell_type": "code",
   "execution_count": 126,
   "id": "7b00b12c",
   "metadata": {},
   "outputs": [
    {
     "data": {
      "text/html": [
       "<div>\n",
       "<style scoped>\n",
       "    .dataframe tbody tr th:only-of-type {\n",
       "        vertical-align: middle;\n",
       "    }\n",
       "\n",
       "    .dataframe tbody tr th {\n",
       "        vertical-align: top;\n",
       "    }\n",
       "\n",
       "    .dataframe thead th {\n",
       "        text-align: right;\n",
       "    }\n",
       "</style>\n",
       "<table border=\"1\" class=\"dataframe\">\n",
       "  <thead>\n",
       "    <tr style=\"text-align: right;\">\n",
       "      <th></th>\n",
       "      <th>sep</th>\n",
       "      <th>oct</th>\n",
       "      <th>nov</th>\n",
       "    </tr>\n",
       "  </thead>\n",
       "  <tbody>\n",
       "    <tr>\n",
       "      <th>alice</th>\n",
       "      <td>2.828427</td>\n",
       "      <td>2.828427</td>\n",
       "      <td>3.000000</td>\n",
       "    </tr>\n",
       "    <tr>\n",
       "      <th>bob</th>\n",
       "      <td>3.162278</td>\n",
       "      <td>3.000000</td>\n",
       "      <td>3.000000</td>\n",
       "    </tr>\n",
       "    <tr>\n",
       "      <th>charles</th>\n",
       "      <td>2.000000</td>\n",
       "      <td>2.828427</td>\n",
       "      <td>1.414214</td>\n",
       "    </tr>\n",
       "    <tr>\n",
       "      <th>darwin</th>\n",
       "      <td>3.000000</td>\n",
       "      <td>3.162278</td>\n",
       "      <td>3.162278</td>\n",
       "    </tr>\n",
       "  </tbody>\n",
       "</table>\n",
       "</div>"
      ],
      "text/plain": [
       "              sep       oct       nov\n",
       "alice    2.828427  2.828427  3.000000\n",
       "bob      3.162278  3.000000  3.000000\n",
       "charles  2.000000  2.828427  1.414214\n",
       "darwin   3.000000  3.162278  3.162278"
      ]
     },
     "execution_count": 126,
     "metadata": {},
     "output_type": "execute_result"
    }
   ],
   "source": [
    "np.sqrt(grades)"
   ]
  },
  {
   "cell_type": "markdown",
   "id": "9648dfd9",
   "metadata": {},
   "source": [
    "Similarly, adding a single value to a DataFrame will add that value to all elements in the DataFrame. This is called broadcasting:"
   ]
  },
  {
   "cell_type": "code",
   "execution_count": 127,
   "id": "3b87a7fa",
   "metadata": {},
   "outputs": [
    {
     "data": {
      "text/html": [
       "<div>\n",
       "<style scoped>\n",
       "    .dataframe tbody tr th:only-of-type {\n",
       "        vertical-align: middle;\n",
       "    }\n",
       "\n",
       "    .dataframe tbody tr th {\n",
       "        vertical-align: top;\n",
       "    }\n",
       "\n",
       "    .dataframe thead th {\n",
       "        text-align: right;\n",
       "    }\n",
       "</style>\n",
       "<table border=\"1\" class=\"dataframe\">\n",
       "  <thead>\n",
       "    <tr style=\"text-align: right;\">\n",
       "      <th></th>\n",
       "      <th>sep</th>\n",
       "      <th>oct</th>\n",
       "      <th>nov</th>\n",
       "    </tr>\n",
       "  </thead>\n",
       "  <tbody>\n",
       "    <tr>\n",
       "      <th>alice</th>\n",
       "      <td>9</td>\n",
       "      <td>9</td>\n",
       "      <td>10</td>\n",
       "    </tr>\n",
       "    <tr>\n",
       "      <th>bob</th>\n",
       "      <td>11</td>\n",
       "      <td>10</td>\n",
       "      <td>10</td>\n",
       "    </tr>\n",
       "    <tr>\n",
       "      <th>charles</th>\n",
       "      <td>5</td>\n",
       "      <td>9</td>\n",
       "      <td>3</td>\n",
       "    </tr>\n",
       "    <tr>\n",
       "      <th>darwin</th>\n",
       "      <td>10</td>\n",
       "      <td>11</td>\n",
       "      <td>11</td>\n",
       "    </tr>\n",
       "  </tbody>\n",
       "</table>\n",
       "</div>"
      ],
      "text/plain": [
       "         sep  oct  nov\n",
       "alice      9    9   10\n",
       "bob       11   10   10\n",
       "charles    5    9    3\n",
       "darwin    10   11   11"
      ]
     },
     "execution_count": 127,
     "metadata": {},
     "output_type": "execute_result"
    }
   ],
   "source": [
    "grades + 1"
   ]
  },
  {
   "cell_type": "markdown",
   "id": "30456b53",
   "metadata": {},
   "source": [
    "Of course, the same is true for all other binary operations, including arithmetic (*,/,**...) and conditional (>, ==...) operations:"
   ]
  },
  {
   "cell_type": "code",
   "execution_count": 128,
   "id": "c78f4c7d",
   "metadata": {},
   "outputs": [
    {
     "data": {
      "text/html": [
       "<div>\n",
       "<style scoped>\n",
       "    .dataframe tbody tr th:only-of-type {\n",
       "        vertical-align: middle;\n",
       "    }\n",
       "\n",
       "    .dataframe tbody tr th {\n",
       "        vertical-align: top;\n",
       "    }\n",
       "\n",
       "    .dataframe thead th {\n",
       "        text-align: right;\n",
       "    }\n",
       "</style>\n",
       "<table border=\"1\" class=\"dataframe\">\n",
       "  <thead>\n",
       "    <tr style=\"text-align: right;\">\n",
       "      <th></th>\n",
       "      <th>sep</th>\n",
       "      <th>oct</th>\n",
       "      <th>nov</th>\n",
       "    </tr>\n",
       "  </thead>\n",
       "  <tbody>\n",
       "    <tr>\n",
       "      <th>alice</th>\n",
       "      <td>True</td>\n",
       "      <td>True</td>\n",
       "      <td>True</td>\n",
       "    </tr>\n",
       "    <tr>\n",
       "      <th>bob</th>\n",
       "      <td>True</td>\n",
       "      <td>True</td>\n",
       "      <td>True</td>\n",
       "    </tr>\n",
       "    <tr>\n",
       "      <th>charles</th>\n",
       "      <td>False</td>\n",
       "      <td>True</td>\n",
       "      <td>False</td>\n",
       "    </tr>\n",
       "    <tr>\n",
       "      <th>darwin</th>\n",
       "      <td>True</td>\n",
       "      <td>True</td>\n",
       "      <td>True</td>\n",
       "    </tr>\n",
       "  </tbody>\n",
       "</table>\n",
       "</div>"
      ],
      "text/plain": [
       "           sep   oct    nov\n",
       "alice     True  True   True\n",
       "bob       True  True   True\n",
       "charles  False  True  False\n",
       "darwin    True  True   True"
      ]
     },
     "execution_count": 128,
     "metadata": {},
     "output_type": "execute_result"
    }
   ],
   "source": [
    "grades >= 5"
   ]
  },
  {
   "cell_type": "markdown",
   "id": "1b13b6e7",
   "metadata": {},
   "source": [
    "Aggregation operations, such as computing the max, the sum or the mean of a DataFrame, apply to each column, and you get back a Series object:"
   ]
  },
  {
   "cell_type": "code",
   "execution_count": 130,
   "id": "f88c8824",
   "metadata": {},
   "outputs": [
    {
     "data": {
      "text/plain": [
       "sep    7.75\n",
       "oct    8.75\n",
       "nov    7.50\n",
       "dtype: float64"
      ]
     },
     "execution_count": 130,
     "metadata": {},
     "output_type": "execute_result"
    }
   ],
   "source": [
    "grades.mean()"
   ]
  },
  {
   "cell_type": "markdown",
   "id": "ec3dabab",
   "metadata": {},
   "source": [
    "he all method is also an aggregation operation: it checks whether all values are True or not. Let's see during which months all students got a grade greater than 5:"
   ]
  },
  {
   "cell_type": "code",
   "execution_count": 132,
   "id": "bf8b0c46",
   "metadata": {},
   "outputs": [
    {
     "data": {
      "text/plain": [
       "sep    False\n",
       "oct     True\n",
       "nov    False\n",
       "dtype: bool"
      ]
     },
     "execution_count": 132,
     "metadata": {},
     "output_type": "execute_result"
    }
   ],
   "source": [
    "(grades > 5).all()"
   ]
  },
  {
   "cell_type": "markdown",
   "id": "bca53ebf",
   "metadata": {},
   "source": [
    "Most of these functions take an optional axis parameter which lets you specify along which axis of the DataFrame you want the operation executed. The default is axis=0, meaning that the operation is executed vertically (on each column). You can set axis=1 to execute the operation horizontally (on each row). For example, let's find out which students had all grades greater than 5:"
   ]
  },
  {
   "cell_type": "code",
   "execution_count": 133,
   "id": "9f59ec4c",
   "metadata": {},
   "outputs": [
    {
     "data": {
      "text/plain": [
       "alice       True\n",
       "bob         True\n",
       "charles    False\n",
       "darwin      True\n",
       "dtype: bool"
      ]
     },
     "execution_count": 133,
     "metadata": {},
     "output_type": "execute_result"
    }
   ],
   "source": [
    "(grades > 5).all(axis = 1)"
   ]
  },
  {
   "cell_type": "markdown",
   "id": "7cf89c1b",
   "metadata": {},
   "source": [
    "The any method returns True if any value is True. Let's see who got at least one grade 10:"
   ]
  },
  {
   "cell_type": "code",
   "execution_count": 135,
   "id": "ba24072e",
   "metadata": {},
   "outputs": [
    {
     "data": {
      "text/plain": [
       "alice      False\n",
       "bob         True\n",
       "charles    False\n",
       "darwin      True\n",
       "dtype: bool"
      ]
     },
     "execution_count": 135,
     "metadata": {},
     "output_type": "execute_result"
    }
   ],
   "source": [
    "(grades == 10).any(axis =1)"
   ]
  },
  {
   "cell_type": "markdown",
   "id": "0ec2ed60",
   "metadata": {},
   "source": [
    "If you add a Series object to a DataFrame (or execute any other binary operation), pandas attempts to broadcast the operation to all rows in the DataFrame. This only works if the Series has the same size as the DataFrames rows. For example, let's subtract the mean of the DataFrame (a Series object) from the DataFrame:"
   ]
  },
  {
   "cell_type": "code",
   "execution_count": 136,
   "id": "bc529d45",
   "metadata": {},
   "outputs": [
    {
     "data": {
      "text/html": [
       "<div>\n",
       "<style scoped>\n",
       "    .dataframe tbody tr th:only-of-type {\n",
       "        vertical-align: middle;\n",
       "    }\n",
       "\n",
       "    .dataframe tbody tr th {\n",
       "        vertical-align: top;\n",
       "    }\n",
       "\n",
       "    .dataframe thead th {\n",
       "        text-align: right;\n",
       "    }\n",
       "</style>\n",
       "<table border=\"1\" class=\"dataframe\">\n",
       "  <thead>\n",
       "    <tr style=\"text-align: right;\">\n",
       "      <th></th>\n",
       "      <th>sep</th>\n",
       "      <th>oct</th>\n",
       "      <th>nov</th>\n",
       "    </tr>\n",
       "  </thead>\n",
       "  <tbody>\n",
       "    <tr>\n",
       "      <th>alice</th>\n",
       "      <td>0.25</td>\n",
       "      <td>-0.75</td>\n",
       "      <td>1.5</td>\n",
       "    </tr>\n",
       "    <tr>\n",
       "      <th>bob</th>\n",
       "      <td>2.25</td>\n",
       "      <td>0.25</td>\n",
       "      <td>1.5</td>\n",
       "    </tr>\n",
       "    <tr>\n",
       "      <th>charles</th>\n",
       "      <td>-3.75</td>\n",
       "      <td>-0.75</td>\n",
       "      <td>-5.5</td>\n",
       "    </tr>\n",
       "    <tr>\n",
       "      <th>darwin</th>\n",
       "      <td>1.25</td>\n",
       "      <td>1.25</td>\n",
       "      <td>2.5</td>\n",
       "    </tr>\n",
       "  </tbody>\n",
       "</table>\n",
       "</div>"
      ],
      "text/plain": [
       "          sep   oct  nov\n",
       "alice    0.25 -0.75  1.5\n",
       "bob      2.25  0.25  1.5\n",
       "charles -3.75 -0.75 -5.5\n",
       "darwin   1.25  1.25  2.5"
      ]
     },
     "execution_count": 136,
     "metadata": {},
     "output_type": "execute_result"
    }
   ],
   "source": [
    "grades - grades.mean()"
   ]
  },
  {
   "cell_type": "markdown",
   "id": "f2ba3d9e",
   "metadata": {},
   "source": [
    "We subtracted 7.75 from all September grades, 8.75 from October grades and 7.50 from November grades. It is equivalent to subtracting this DataFrame:"
   ]
  },
  {
   "cell_type": "code",
   "execution_count": 138,
   "id": "c8189407",
   "metadata": {},
   "outputs": [
    {
     "data": {
      "text/html": [
       "<div>\n",
       "<style scoped>\n",
       "    .dataframe tbody tr th:only-of-type {\n",
       "        vertical-align: middle;\n",
       "    }\n",
       "\n",
       "    .dataframe tbody tr th {\n",
       "        vertical-align: top;\n",
       "    }\n",
       "\n",
       "    .dataframe thead th {\n",
       "        text-align: right;\n",
       "    }\n",
       "</style>\n",
       "<table border=\"1\" class=\"dataframe\">\n",
       "  <thead>\n",
       "    <tr style=\"text-align: right;\">\n",
       "      <th></th>\n",
       "      <th>sep</th>\n",
       "      <th>oct</th>\n",
       "      <th>nov</th>\n",
       "    </tr>\n",
       "  </thead>\n",
       "  <tbody>\n",
       "    <tr>\n",
       "      <th>alice</th>\n",
       "      <td>7.75</td>\n",
       "      <td>8.75</td>\n",
       "      <td>7.5</td>\n",
       "    </tr>\n",
       "    <tr>\n",
       "      <th>bob</th>\n",
       "      <td>7.75</td>\n",
       "      <td>8.75</td>\n",
       "      <td>7.5</td>\n",
       "    </tr>\n",
       "    <tr>\n",
       "      <th>charles</th>\n",
       "      <td>7.75</td>\n",
       "      <td>8.75</td>\n",
       "      <td>7.5</td>\n",
       "    </tr>\n",
       "    <tr>\n",
       "      <th>darwin</th>\n",
       "      <td>7.75</td>\n",
       "      <td>8.75</td>\n",
       "      <td>7.5</td>\n",
       "    </tr>\n",
       "  </tbody>\n",
       "</table>\n",
       "</div>"
      ],
      "text/plain": [
       "          sep   oct  nov\n",
       "alice    7.75  8.75  7.5\n",
       "bob      7.75  8.75  7.5\n",
       "charles  7.75  8.75  7.5\n",
       "darwin   7.75  8.75  7.5"
      ]
     },
     "execution_count": 138,
     "metadata": {},
     "output_type": "execute_result"
    }
   ],
   "source": [
    "pd.DataFrame([[7.75, 8.75, 7.50]] * 4, index=grades.index, columns=grades.columns)"
   ]
  },
  {
   "cell_type": "markdown",
   "id": "e2c16c51",
   "metadata": {},
   "source": [
    "If you want to subtract the global mean from every grade, here is one way to do it:"
   ]
  },
  {
   "cell_type": "code",
   "execution_count": 139,
   "id": "adcbb912",
   "metadata": {},
   "outputs": [
    {
     "data": {
      "text/html": [
       "<div>\n",
       "<style scoped>\n",
       "    .dataframe tbody tr th:only-of-type {\n",
       "        vertical-align: middle;\n",
       "    }\n",
       "\n",
       "    .dataframe tbody tr th {\n",
       "        vertical-align: top;\n",
       "    }\n",
       "\n",
       "    .dataframe thead th {\n",
       "        text-align: right;\n",
       "    }\n",
       "</style>\n",
       "<table border=\"1\" class=\"dataframe\">\n",
       "  <thead>\n",
       "    <tr style=\"text-align: right;\">\n",
       "      <th></th>\n",
       "      <th>sep</th>\n",
       "      <th>oct</th>\n",
       "      <th>nov</th>\n",
       "    </tr>\n",
       "  </thead>\n",
       "  <tbody>\n",
       "    <tr>\n",
       "      <th>alice</th>\n",
       "      <td>0.0</td>\n",
       "      <td>0.0</td>\n",
       "      <td>1.0</td>\n",
       "    </tr>\n",
       "    <tr>\n",
       "      <th>bob</th>\n",
       "      <td>2.0</td>\n",
       "      <td>1.0</td>\n",
       "      <td>1.0</td>\n",
       "    </tr>\n",
       "    <tr>\n",
       "      <th>charles</th>\n",
       "      <td>-4.0</td>\n",
       "      <td>0.0</td>\n",
       "      <td>-6.0</td>\n",
       "    </tr>\n",
       "    <tr>\n",
       "      <th>darwin</th>\n",
       "      <td>1.0</td>\n",
       "      <td>2.0</td>\n",
       "      <td>2.0</td>\n",
       "    </tr>\n",
       "  </tbody>\n",
       "</table>\n",
       "</div>"
      ],
      "text/plain": [
       "         sep  oct  nov\n",
       "alice    0.0  0.0  1.0\n",
       "bob      2.0  1.0  1.0\n",
       "charles -4.0  0.0 -6.0\n",
       "darwin   1.0  2.0  2.0"
      ]
     },
     "execution_count": 139,
     "metadata": {},
     "output_type": "execute_result"
    }
   ],
   "source": [
    "grades - grades.values.mean()"
   ]
  },
  {
   "cell_type": "markdown",
   "id": "4e86e52c",
   "metadata": {},
   "source": [
    "# Automatic alignment"
   ]
  },
  {
   "cell_type": "markdown",
   "id": "625d5b8f",
   "metadata": {},
   "source": [
    "Similar to Series, when operating on multiple DataFrames, pandas automatically aligns them by row index label, but also by column names. Let's create a DataFrame with bonus points for each person from October to December:"
   ]
  },
  {
   "cell_type": "code",
   "execution_count": 140,
   "id": "a25e1d2e",
   "metadata": {},
   "outputs": [
    {
     "data": {
      "text/html": [
       "<div>\n",
       "<style scoped>\n",
       "    .dataframe tbody tr th:only-of-type {\n",
       "        vertical-align: middle;\n",
       "    }\n",
       "\n",
       "    .dataframe tbody tr th {\n",
       "        vertical-align: top;\n",
       "    }\n",
       "\n",
       "    .dataframe thead th {\n",
       "        text-align: right;\n",
       "    }\n",
       "</style>\n",
       "<table border=\"1\" class=\"dataframe\">\n",
       "  <thead>\n",
       "    <tr style=\"text-align: right;\">\n",
       "      <th></th>\n",
       "      <th>oct</th>\n",
       "      <th>nov</th>\n",
       "      <th>dec</th>\n",
       "    </tr>\n",
       "  </thead>\n",
       "  <tbody>\n",
       "    <tr>\n",
       "      <th>bob</th>\n",
       "      <td>0.0</td>\n",
       "      <td>NaN</td>\n",
       "      <td>2.0</td>\n",
       "    </tr>\n",
       "    <tr>\n",
       "      <th>colin</th>\n",
       "      <td>NaN</td>\n",
       "      <td>1.0</td>\n",
       "      <td>0.0</td>\n",
       "    </tr>\n",
       "    <tr>\n",
       "      <th>darwin</th>\n",
       "      <td>0.0</td>\n",
       "      <td>1.0</td>\n",
       "      <td>0.0</td>\n",
       "    </tr>\n",
       "    <tr>\n",
       "      <th>charles</th>\n",
       "      <td>3.0</td>\n",
       "      <td>3.0</td>\n",
       "      <td>0.0</td>\n",
       "    </tr>\n",
       "  </tbody>\n",
       "</table>\n",
       "</div>"
      ],
      "text/plain": [
       "         oct  nov  dec\n",
       "bob      0.0  NaN  2.0\n",
       "colin    NaN  1.0  0.0\n",
       "darwin   0.0  1.0  0.0\n",
       "charles  3.0  3.0  0.0"
      ]
     },
     "execution_count": 140,
     "metadata": {},
     "output_type": "execute_result"
    }
   ],
   "source": [
    "bonus_array = np.array([[0, np.nan,2],[np.nan,1,0],[0,1,0], [3,3,0]])\n",
    "bonus_points = pd.DataFrame(bonus_array, columns=[\"oct\", \"nov\", \"dec\"], index=[\"bob\", \"colin\", \"darwin\",\"charles\"])\n",
    "bonus_points"
   ]
  },
  {
   "cell_type": "code",
   "execution_count": 141,
   "id": "86065e2e",
   "metadata": {},
   "outputs": [
    {
     "data": {
      "text/html": [
       "<div>\n",
       "<style scoped>\n",
       "    .dataframe tbody tr th:only-of-type {\n",
       "        vertical-align: middle;\n",
       "    }\n",
       "\n",
       "    .dataframe tbody tr th {\n",
       "        vertical-align: top;\n",
       "    }\n",
       "\n",
       "    .dataframe thead th {\n",
       "        text-align: right;\n",
       "    }\n",
       "</style>\n",
       "<table border=\"1\" class=\"dataframe\">\n",
       "  <thead>\n",
       "    <tr style=\"text-align: right;\">\n",
       "      <th></th>\n",
       "      <th>dec</th>\n",
       "      <th>nov</th>\n",
       "      <th>oct</th>\n",
       "      <th>sep</th>\n",
       "    </tr>\n",
       "  </thead>\n",
       "  <tbody>\n",
       "    <tr>\n",
       "      <th>alice</th>\n",
       "      <td>NaN</td>\n",
       "      <td>NaN</td>\n",
       "      <td>NaN</td>\n",
       "      <td>NaN</td>\n",
       "    </tr>\n",
       "    <tr>\n",
       "      <th>bob</th>\n",
       "      <td>NaN</td>\n",
       "      <td>NaN</td>\n",
       "      <td>9.0</td>\n",
       "      <td>NaN</td>\n",
       "    </tr>\n",
       "    <tr>\n",
       "      <th>charles</th>\n",
       "      <td>NaN</td>\n",
       "      <td>5.0</td>\n",
       "      <td>11.0</td>\n",
       "      <td>NaN</td>\n",
       "    </tr>\n",
       "    <tr>\n",
       "      <th>colin</th>\n",
       "      <td>NaN</td>\n",
       "      <td>NaN</td>\n",
       "      <td>NaN</td>\n",
       "      <td>NaN</td>\n",
       "    </tr>\n",
       "    <tr>\n",
       "      <th>darwin</th>\n",
       "      <td>NaN</td>\n",
       "      <td>11.0</td>\n",
       "      <td>10.0</td>\n",
       "      <td>NaN</td>\n",
       "    </tr>\n",
       "  </tbody>\n",
       "</table>\n",
       "</div>"
      ],
      "text/plain": [
       "         dec   nov   oct  sep\n",
       "alice    NaN   NaN   NaN  NaN\n",
       "bob      NaN   NaN   9.0  NaN\n",
       "charles  NaN   5.0  11.0  NaN\n",
       "colin    NaN   NaN   NaN  NaN\n",
       "darwin   NaN  11.0  10.0  NaN"
      ]
     },
     "execution_count": 141,
     "metadata": {},
     "output_type": "execute_result"
    }
   ],
   "source": [
    "grades + bonus_points"
   ]
  },
  {
   "cell_type": "markdown",
   "id": "bb2140d2",
   "metadata": {},
   "source": [
    "Looks like the addition worked in some cases but way too many elements are now empty. That's because when aligning the DataFrames, some columns and rows were only present on one side, and thus they were considered missing on the other side (NaN). Then adding NaN to a number results in NaN, hence the result."
   ]
  },
  {
   "cell_type": "markdown",
   "id": "89bab4cb",
   "metadata": {},
   "source": [
    "# Handling missing data"
   ]
  },
  {
   "cell_type": "markdown",
   "id": "0b6212a8",
   "metadata": {},
   "source": [
    "Dealing with missing data is a frequent task when working with real life data. Pandas offers a few tools to handle missing data.\n",
    "\n",
    "Let's try to fix the problem above. For example, we can decide that missing data should result in a zero, instead of NaN. We can replace all NaN values by a any value using the fillna() method:"
   ]
  },
  {
   "cell_type": "code",
   "execution_count": 142,
   "id": "b5f7b29c",
   "metadata": {},
   "outputs": [
    {
     "data": {
      "text/html": [
       "<div>\n",
       "<style scoped>\n",
       "    .dataframe tbody tr th:only-of-type {\n",
       "        vertical-align: middle;\n",
       "    }\n",
       "\n",
       "    .dataframe tbody tr th {\n",
       "        vertical-align: top;\n",
       "    }\n",
       "\n",
       "    .dataframe thead th {\n",
       "        text-align: right;\n",
       "    }\n",
       "</style>\n",
       "<table border=\"1\" class=\"dataframe\">\n",
       "  <thead>\n",
       "    <tr style=\"text-align: right;\">\n",
       "      <th></th>\n",
       "      <th>dec</th>\n",
       "      <th>nov</th>\n",
       "      <th>oct</th>\n",
       "      <th>sep</th>\n",
       "    </tr>\n",
       "  </thead>\n",
       "  <tbody>\n",
       "    <tr>\n",
       "      <th>alice</th>\n",
       "      <td>0.0</td>\n",
       "      <td>0.0</td>\n",
       "      <td>0.0</td>\n",
       "      <td>0.0</td>\n",
       "    </tr>\n",
       "    <tr>\n",
       "      <th>bob</th>\n",
       "      <td>0.0</td>\n",
       "      <td>0.0</td>\n",
       "      <td>9.0</td>\n",
       "      <td>0.0</td>\n",
       "    </tr>\n",
       "    <tr>\n",
       "      <th>charles</th>\n",
       "      <td>0.0</td>\n",
       "      <td>5.0</td>\n",
       "      <td>11.0</td>\n",
       "      <td>0.0</td>\n",
       "    </tr>\n",
       "    <tr>\n",
       "      <th>colin</th>\n",
       "      <td>0.0</td>\n",
       "      <td>0.0</td>\n",
       "      <td>0.0</td>\n",
       "      <td>0.0</td>\n",
       "    </tr>\n",
       "    <tr>\n",
       "      <th>darwin</th>\n",
       "      <td>0.0</td>\n",
       "      <td>11.0</td>\n",
       "      <td>10.0</td>\n",
       "      <td>0.0</td>\n",
       "    </tr>\n",
       "  </tbody>\n",
       "</table>\n",
       "</div>"
      ],
      "text/plain": [
       "         dec   nov   oct  sep\n",
       "alice    0.0   0.0   0.0  0.0\n",
       "bob      0.0   0.0   9.0  0.0\n",
       "charles  0.0   5.0  11.0  0.0\n",
       "colin    0.0   0.0   0.0  0.0\n",
       "darwin   0.0  11.0  10.0  0.0"
      ]
     },
     "execution_count": 142,
     "metadata": {},
     "output_type": "execute_result"
    }
   ],
   "source": [
    "(grades + bonus_points).fillna(0)"
   ]
  },
  {
   "cell_type": "markdown",
   "id": "d3b8b24b",
   "metadata": {},
   "source": [
    "It's a bit unfair that we're setting grades to zero in September, though. Perhaps we should decide that missing grades are missing grades, but missing bonus points should be replaced by zeros:"
   ]
  },
  {
   "cell_type": "code",
   "execution_count": 143,
   "id": "732c8790",
   "metadata": {},
   "outputs": [
    {
     "data": {
      "text/html": [
       "<div>\n",
       "<style scoped>\n",
       "    .dataframe tbody tr th:only-of-type {\n",
       "        vertical-align: middle;\n",
       "    }\n",
       "\n",
       "    .dataframe tbody tr th {\n",
       "        vertical-align: top;\n",
       "    }\n",
       "\n",
       "    .dataframe thead th {\n",
       "        text-align: right;\n",
       "    }\n",
       "</style>\n",
       "<table border=\"1\" class=\"dataframe\">\n",
       "  <thead>\n",
       "    <tr style=\"text-align: right;\">\n",
       "      <th></th>\n",
       "      <th>dec</th>\n",
       "      <th>nov</th>\n",
       "      <th>oct</th>\n",
       "      <th>sep</th>\n",
       "    </tr>\n",
       "  </thead>\n",
       "  <tbody>\n",
       "    <tr>\n",
       "      <th>alice</th>\n",
       "      <td>NaN</td>\n",
       "      <td>9.0</td>\n",
       "      <td>8.0</td>\n",
       "      <td>8.0</td>\n",
       "    </tr>\n",
       "    <tr>\n",
       "      <th>bob</th>\n",
       "      <td>NaN</td>\n",
       "      <td>9.0</td>\n",
       "      <td>9.0</td>\n",
       "      <td>10.0</td>\n",
       "    </tr>\n",
       "    <tr>\n",
       "      <th>charles</th>\n",
       "      <td>NaN</td>\n",
       "      <td>5.0</td>\n",
       "      <td>11.0</td>\n",
       "      <td>4.0</td>\n",
       "    </tr>\n",
       "    <tr>\n",
       "      <th>colin</th>\n",
       "      <td>NaN</td>\n",
       "      <td>NaN</td>\n",
       "      <td>NaN</td>\n",
       "      <td>NaN</td>\n",
       "    </tr>\n",
       "    <tr>\n",
       "      <th>darwin</th>\n",
       "      <td>NaN</td>\n",
       "      <td>11.0</td>\n",
       "      <td>10.0</td>\n",
       "      <td>9.0</td>\n",
       "    </tr>\n",
       "  </tbody>\n",
       "</table>\n",
       "</div>"
      ],
      "text/plain": [
       "         dec   nov   oct   sep\n",
       "alice    NaN   9.0   8.0   8.0\n",
       "bob      NaN   9.0   9.0  10.0\n",
       "charles  NaN   5.0  11.0   4.0\n",
       "colin    NaN   NaN   NaN   NaN\n",
       "darwin   NaN  11.0  10.0   9.0"
      ]
     },
     "execution_count": 143,
     "metadata": {},
     "output_type": "execute_result"
    }
   ],
   "source": [
    "fixed_bonus_points = bonus_points.fillna(0)\n",
    "fixed_bonus_points.insert(0, \"sep\",0)\n",
    "fixed_bonus_points.loc[\"alice\"] = 0\n",
    "grades + fixed_bonus_points"
   ]
  },
  {
   "cell_type": "markdown",
   "id": "ca110d79",
   "metadata": {},
   "source": [
    "That's much better: although we made up some data, we have not been too unfair.\n",
    "\n",
    "Another way to handle missing data is to interpolate. Let's look at the bonus_points DataFrame again:"
   ]
  },
  {
   "cell_type": "code",
   "execution_count": 144,
   "id": "de7da384",
   "metadata": {},
   "outputs": [
    {
     "data": {
      "text/html": [
       "<div>\n",
       "<style scoped>\n",
       "    .dataframe tbody tr th:only-of-type {\n",
       "        vertical-align: middle;\n",
       "    }\n",
       "\n",
       "    .dataframe tbody tr th {\n",
       "        vertical-align: top;\n",
       "    }\n",
       "\n",
       "    .dataframe thead th {\n",
       "        text-align: right;\n",
       "    }\n",
       "</style>\n",
       "<table border=\"1\" class=\"dataframe\">\n",
       "  <thead>\n",
       "    <tr style=\"text-align: right;\">\n",
       "      <th></th>\n",
       "      <th>oct</th>\n",
       "      <th>nov</th>\n",
       "      <th>dec</th>\n",
       "    </tr>\n",
       "  </thead>\n",
       "  <tbody>\n",
       "    <tr>\n",
       "      <th>bob</th>\n",
       "      <td>0.0</td>\n",
       "      <td>NaN</td>\n",
       "      <td>2.0</td>\n",
       "    </tr>\n",
       "    <tr>\n",
       "      <th>colin</th>\n",
       "      <td>NaN</td>\n",
       "      <td>1.0</td>\n",
       "      <td>0.0</td>\n",
       "    </tr>\n",
       "    <tr>\n",
       "      <th>darwin</th>\n",
       "      <td>0.0</td>\n",
       "      <td>1.0</td>\n",
       "      <td>0.0</td>\n",
       "    </tr>\n",
       "    <tr>\n",
       "      <th>charles</th>\n",
       "      <td>3.0</td>\n",
       "      <td>3.0</td>\n",
       "      <td>0.0</td>\n",
       "    </tr>\n",
       "  </tbody>\n",
       "</table>\n",
       "</div>"
      ],
      "text/plain": [
       "         oct  nov  dec\n",
       "bob      0.0  NaN  2.0\n",
       "colin    NaN  1.0  0.0\n",
       "darwin   0.0  1.0  0.0\n",
       "charles  3.0  3.0  0.0"
      ]
     },
     "execution_count": 144,
     "metadata": {},
     "output_type": "execute_result"
    }
   ],
   "source": [
    "bonus_points"
   ]
  },
  {
   "cell_type": "markdown",
   "id": "4775754d",
   "metadata": {},
   "source": [
    "Now let's call the interpolate method. By default, it interpolates vertically (axis=0), so let's tell it to interpolate horizontally (axis=1)."
   ]
  },
  {
   "cell_type": "code",
   "execution_count": 145,
   "id": "bee30dda",
   "metadata": {},
   "outputs": [
    {
     "data": {
      "text/html": [
       "<div>\n",
       "<style scoped>\n",
       "    .dataframe tbody tr th:only-of-type {\n",
       "        vertical-align: middle;\n",
       "    }\n",
       "\n",
       "    .dataframe tbody tr th {\n",
       "        vertical-align: top;\n",
       "    }\n",
       "\n",
       "    .dataframe thead th {\n",
       "        text-align: right;\n",
       "    }\n",
       "</style>\n",
       "<table border=\"1\" class=\"dataframe\">\n",
       "  <thead>\n",
       "    <tr style=\"text-align: right;\">\n",
       "      <th></th>\n",
       "      <th>oct</th>\n",
       "      <th>nov</th>\n",
       "      <th>dec</th>\n",
       "    </tr>\n",
       "  </thead>\n",
       "  <tbody>\n",
       "    <tr>\n",
       "      <th>bob</th>\n",
       "      <td>0.0</td>\n",
       "      <td>1.0</td>\n",
       "      <td>2.0</td>\n",
       "    </tr>\n",
       "    <tr>\n",
       "      <th>colin</th>\n",
       "      <td>NaN</td>\n",
       "      <td>1.0</td>\n",
       "      <td>0.0</td>\n",
       "    </tr>\n",
       "    <tr>\n",
       "      <th>darwin</th>\n",
       "      <td>0.0</td>\n",
       "      <td>1.0</td>\n",
       "      <td>0.0</td>\n",
       "    </tr>\n",
       "    <tr>\n",
       "      <th>charles</th>\n",
       "      <td>3.0</td>\n",
       "      <td>3.0</td>\n",
       "      <td>0.0</td>\n",
       "    </tr>\n",
       "  </tbody>\n",
       "</table>\n",
       "</div>"
      ],
      "text/plain": [
       "         oct  nov  dec\n",
       "bob      0.0  1.0  2.0\n",
       "colin    NaN  1.0  0.0\n",
       "darwin   0.0  1.0  0.0\n",
       "charles  3.0  3.0  0.0"
      ]
     },
     "execution_count": 145,
     "metadata": {},
     "output_type": "execute_result"
    }
   ],
   "source": [
    "bonus_points.interpolate(axis=1)"
   ]
  },
  {
   "cell_type": "code",
   "execution_count": 146,
   "id": "2633c829",
   "metadata": {},
   "outputs": [
    {
     "data": {
      "text/html": [
       "<div>\n",
       "<style scoped>\n",
       "    .dataframe tbody tr th:only-of-type {\n",
       "        vertical-align: middle;\n",
       "    }\n",
       "\n",
       "    .dataframe tbody tr th {\n",
       "        vertical-align: top;\n",
       "    }\n",
       "\n",
       "    .dataframe thead th {\n",
       "        text-align: right;\n",
       "    }\n",
       "</style>\n",
       "<table border=\"1\" class=\"dataframe\">\n",
       "  <thead>\n",
       "    <tr style=\"text-align: right;\">\n",
       "      <th></th>\n",
       "      <th>sep</th>\n",
       "      <th>oct</th>\n",
       "      <th>nov</th>\n",
       "      <th>dec</th>\n",
       "    </tr>\n",
       "  </thead>\n",
       "  <tbody>\n",
       "    <tr>\n",
       "      <th>bob</th>\n",
       "      <td>0.0</td>\n",
       "      <td>0.0</td>\n",
       "      <td>1.0</td>\n",
       "      <td>2.0</td>\n",
       "    </tr>\n",
       "    <tr>\n",
       "      <th>colin</th>\n",
       "      <td>0.0</td>\n",
       "      <td>0.5</td>\n",
       "      <td>1.0</td>\n",
       "      <td>0.0</td>\n",
       "    </tr>\n",
       "    <tr>\n",
       "      <th>darwin</th>\n",
       "      <td>0.0</td>\n",
       "      <td>0.0</td>\n",
       "      <td>1.0</td>\n",
       "      <td>0.0</td>\n",
       "    </tr>\n",
       "    <tr>\n",
       "      <th>charles</th>\n",
       "      <td>0.0</td>\n",
       "      <td>3.0</td>\n",
       "      <td>3.0</td>\n",
       "      <td>0.0</td>\n",
       "    </tr>\n",
       "    <tr>\n",
       "      <th>alice</th>\n",
       "      <td>0.0</td>\n",
       "      <td>0.0</td>\n",
       "      <td>0.0</td>\n",
       "      <td>0.0</td>\n",
       "    </tr>\n",
       "  </tbody>\n",
       "</table>\n",
       "</div>"
      ],
      "text/plain": [
       "         sep  oct  nov  dec\n",
       "bob      0.0  0.0  1.0  2.0\n",
       "colin    0.0  0.5  1.0  0.0\n",
       "darwin   0.0  0.0  1.0  0.0\n",
       "charles  0.0  3.0  3.0  0.0\n",
       "alice    0.0  0.0  0.0  0.0"
      ]
     },
     "execution_count": 146,
     "metadata": {},
     "output_type": "execute_result"
    }
   ],
   "source": [
    "better_bonus_points = bonus_points.copy()\n",
    "better_bonus_points.insert(0, \"sep\", 0)\n",
    "better_bonus_points.loc[\"alice\"] = 0\n",
    "better_bonus_points = better_bonus_points.interpolate(axis=1)\n",
    "better_bonus_points"
   ]
  },
  {
   "cell_type": "markdown",
   "id": "ae46fd7b",
   "metadata": {},
   "source": [
    "Great, now we have reasonable bonus points everywhere. Let's find out the final grades:"
   ]
  },
  {
   "cell_type": "code",
   "execution_count": 147,
   "id": "446d2895",
   "metadata": {},
   "outputs": [
    {
     "data": {
      "text/html": [
       "<div>\n",
       "<style scoped>\n",
       "    .dataframe tbody tr th:only-of-type {\n",
       "        vertical-align: middle;\n",
       "    }\n",
       "\n",
       "    .dataframe tbody tr th {\n",
       "        vertical-align: top;\n",
       "    }\n",
       "\n",
       "    .dataframe thead th {\n",
       "        text-align: right;\n",
       "    }\n",
       "</style>\n",
       "<table border=\"1\" class=\"dataframe\">\n",
       "  <thead>\n",
       "    <tr style=\"text-align: right;\">\n",
       "      <th></th>\n",
       "      <th>dec</th>\n",
       "      <th>nov</th>\n",
       "      <th>oct</th>\n",
       "      <th>sep</th>\n",
       "    </tr>\n",
       "  </thead>\n",
       "  <tbody>\n",
       "    <tr>\n",
       "      <th>alice</th>\n",
       "      <td>NaN</td>\n",
       "      <td>9.0</td>\n",
       "      <td>8.0</td>\n",
       "      <td>8.0</td>\n",
       "    </tr>\n",
       "    <tr>\n",
       "      <th>bob</th>\n",
       "      <td>NaN</td>\n",
       "      <td>10.0</td>\n",
       "      <td>9.0</td>\n",
       "      <td>10.0</td>\n",
       "    </tr>\n",
       "    <tr>\n",
       "      <th>charles</th>\n",
       "      <td>NaN</td>\n",
       "      <td>5.0</td>\n",
       "      <td>11.0</td>\n",
       "      <td>4.0</td>\n",
       "    </tr>\n",
       "    <tr>\n",
       "      <th>colin</th>\n",
       "      <td>NaN</td>\n",
       "      <td>NaN</td>\n",
       "      <td>NaN</td>\n",
       "      <td>NaN</td>\n",
       "    </tr>\n",
       "    <tr>\n",
       "      <th>darwin</th>\n",
       "      <td>NaN</td>\n",
       "      <td>11.0</td>\n",
       "      <td>10.0</td>\n",
       "      <td>9.0</td>\n",
       "    </tr>\n",
       "  </tbody>\n",
       "</table>\n",
       "</div>"
      ],
      "text/plain": [
       "         dec   nov   oct   sep\n",
       "alice    NaN   9.0   8.0   8.0\n",
       "bob      NaN  10.0   9.0  10.0\n",
       "charles  NaN   5.0  11.0   4.0\n",
       "colin    NaN   NaN   NaN   NaN\n",
       "darwin   NaN  11.0  10.0   9.0"
      ]
     },
     "execution_count": 147,
     "metadata": {},
     "output_type": "execute_result"
    }
   ],
   "source": [
    "grades + better_bonus_points"
   ]
  },
  {
   "cell_type": "markdown",
   "id": "1d713c6f",
   "metadata": {},
   "source": [
    "It is slightly annoying that the September column ends up on the right. This is because the DataFrames we are adding do not have the exact same columns (the grades DataFrame is missing the \"dec\" column), so to make things predictable, pandas orders the final columns alphabetically. To fix this, we can simply add the missing column before adding:"
   ]
  },
  {
   "cell_type": "code",
   "execution_count": 148,
   "id": "9b435879",
   "metadata": {},
   "outputs": [
    {
     "data": {
      "text/html": [
       "<div>\n",
       "<style scoped>\n",
       "    .dataframe tbody tr th:only-of-type {\n",
       "        vertical-align: middle;\n",
       "    }\n",
       "\n",
       "    .dataframe tbody tr th {\n",
       "        vertical-align: top;\n",
       "    }\n",
       "\n",
       "    .dataframe thead th {\n",
       "        text-align: right;\n",
       "    }\n",
       "</style>\n",
       "<table border=\"1\" class=\"dataframe\">\n",
       "  <thead>\n",
       "    <tr style=\"text-align: right;\">\n",
       "      <th></th>\n",
       "      <th>sep</th>\n",
       "      <th>oct</th>\n",
       "      <th>nov</th>\n",
       "      <th>dec</th>\n",
       "    </tr>\n",
       "  </thead>\n",
       "  <tbody>\n",
       "    <tr>\n",
       "      <th>alice</th>\n",
       "      <td>8.0</td>\n",
       "      <td>8.0</td>\n",
       "      <td>9.0</td>\n",
       "      <td>NaN</td>\n",
       "    </tr>\n",
       "    <tr>\n",
       "      <th>bob</th>\n",
       "      <td>10.0</td>\n",
       "      <td>9.0</td>\n",
       "      <td>10.0</td>\n",
       "      <td>NaN</td>\n",
       "    </tr>\n",
       "    <tr>\n",
       "      <th>charles</th>\n",
       "      <td>4.0</td>\n",
       "      <td>11.0</td>\n",
       "      <td>5.0</td>\n",
       "      <td>NaN</td>\n",
       "    </tr>\n",
       "    <tr>\n",
       "      <th>colin</th>\n",
       "      <td>NaN</td>\n",
       "      <td>NaN</td>\n",
       "      <td>NaN</td>\n",
       "      <td>NaN</td>\n",
       "    </tr>\n",
       "    <tr>\n",
       "      <th>darwin</th>\n",
       "      <td>9.0</td>\n",
       "      <td>10.0</td>\n",
       "      <td>11.0</td>\n",
       "      <td>NaN</td>\n",
       "    </tr>\n",
       "  </tbody>\n",
       "</table>\n",
       "</div>"
      ],
      "text/plain": [
       "          sep   oct   nov  dec\n",
       "alice     8.0   8.0   9.0  NaN\n",
       "bob      10.0   9.0  10.0  NaN\n",
       "charles   4.0  11.0   5.0  NaN\n",
       "colin     NaN   NaN   NaN  NaN\n",
       "darwin    9.0  10.0  11.0  NaN"
      ]
     },
     "execution_count": 148,
     "metadata": {},
     "output_type": "execute_result"
    }
   ],
   "source": [
    "grades[\"dec\"] = np.nan\n",
    "final_grades = grades + better_bonus_points\n",
    "final_grades"
   ]
  },
  {
   "cell_type": "markdown",
   "id": "38e6c72c",
   "metadata": {},
   "source": [
    "There's not much we can do about December and Colin: it's bad enough that we are making up bonus points, but we can't reasonably make up grades (well I guess some teachers probably do). So let's call the dropna() method to get rid of rows that are full of NaNs:"
   ]
  },
  {
   "cell_type": "code",
   "execution_count": 149,
   "id": "d35786ee",
   "metadata": {},
   "outputs": [
    {
     "data": {
      "text/html": [
       "<div>\n",
       "<style scoped>\n",
       "    .dataframe tbody tr th:only-of-type {\n",
       "        vertical-align: middle;\n",
       "    }\n",
       "\n",
       "    .dataframe tbody tr th {\n",
       "        vertical-align: top;\n",
       "    }\n",
       "\n",
       "    .dataframe thead th {\n",
       "        text-align: right;\n",
       "    }\n",
       "</style>\n",
       "<table border=\"1\" class=\"dataframe\">\n",
       "  <thead>\n",
       "    <tr style=\"text-align: right;\">\n",
       "      <th></th>\n",
       "      <th>sep</th>\n",
       "      <th>oct</th>\n",
       "      <th>nov</th>\n",
       "      <th>dec</th>\n",
       "    </tr>\n",
       "  </thead>\n",
       "  <tbody>\n",
       "    <tr>\n",
       "      <th>alice</th>\n",
       "      <td>8.0</td>\n",
       "      <td>8.0</td>\n",
       "      <td>9.0</td>\n",
       "      <td>NaN</td>\n",
       "    </tr>\n",
       "    <tr>\n",
       "      <th>bob</th>\n",
       "      <td>10.0</td>\n",
       "      <td>9.0</td>\n",
       "      <td>10.0</td>\n",
       "      <td>NaN</td>\n",
       "    </tr>\n",
       "    <tr>\n",
       "      <th>charles</th>\n",
       "      <td>4.0</td>\n",
       "      <td>11.0</td>\n",
       "      <td>5.0</td>\n",
       "      <td>NaN</td>\n",
       "    </tr>\n",
       "    <tr>\n",
       "      <th>darwin</th>\n",
       "      <td>9.0</td>\n",
       "      <td>10.0</td>\n",
       "      <td>11.0</td>\n",
       "      <td>NaN</td>\n",
       "    </tr>\n",
       "  </tbody>\n",
       "</table>\n",
       "</div>"
      ],
      "text/plain": [
       "          sep   oct   nov  dec\n",
       "alice     8.0   8.0   9.0  NaN\n",
       "bob      10.0   9.0  10.0  NaN\n",
       "charles   4.0  11.0   5.0  NaN\n",
       "darwin    9.0  10.0  11.0  NaN"
      ]
     },
     "execution_count": 149,
     "metadata": {},
     "output_type": "execute_result"
    }
   ],
   "source": [
    "final_grades_clean = final_grades.dropna(how=\"all\")\n",
    "final_grades_clean"
   ]
  },
  {
   "cell_type": "markdown",
   "id": "c52a0e1a",
   "metadata": {},
   "source": [
    "Now let's remove columns that are full of NaNs by setting the axis argument to 1:"
   ]
  },
  {
   "cell_type": "code",
   "execution_count": 150,
   "id": "4bab955b",
   "metadata": {},
   "outputs": [
    {
     "data": {
      "text/html": [
       "<div>\n",
       "<style scoped>\n",
       "    .dataframe tbody tr th:only-of-type {\n",
       "        vertical-align: middle;\n",
       "    }\n",
       "\n",
       "    .dataframe tbody tr th {\n",
       "        vertical-align: top;\n",
       "    }\n",
       "\n",
       "    .dataframe thead th {\n",
       "        text-align: right;\n",
       "    }\n",
       "</style>\n",
       "<table border=\"1\" class=\"dataframe\">\n",
       "  <thead>\n",
       "    <tr style=\"text-align: right;\">\n",
       "      <th></th>\n",
       "      <th>sep</th>\n",
       "      <th>oct</th>\n",
       "      <th>nov</th>\n",
       "    </tr>\n",
       "  </thead>\n",
       "  <tbody>\n",
       "    <tr>\n",
       "      <th>alice</th>\n",
       "      <td>8.0</td>\n",
       "      <td>8.0</td>\n",
       "      <td>9.0</td>\n",
       "    </tr>\n",
       "    <tr>\n",
       "      <th>bob</th>\n",
       "      <td>10.0</td>\n",
       "      <td>9.0</td>\n",
       "      <td>10.0</td>\n",
       "    </tr>\n",
       "    <tr>\n",
       "      <th>charles</th>\n",
       "      <td>4.0</td>\n",
       "      <td>11.0</td>\n",
       "      <td>5.0</td>\n",
       "    </tr>\n",
       "    <tr>\n",
       "      <th>darwin</th>\n",
       "      <td>9.0</td>\n",
       "      <td>10.0</td>\n",
       "      <td>11.0</td>\n",
       "    </tr>\n",
       "  </tbody>\n",
       "</table>\n",
       "</div>"
      ],
      "text/plain": [
       "          sep   oct   nov\n",
       "alice     8.0   8.0   9.0\n",
       "bob      10.0   9.0  10.0\n",
       "charles   4.0  11.0   5.0\n",
       "darwin    9.0  10.0  11.0"
      ]
     },
     "execution_count": 150,
     "metadata": {},
     "output_type": "execute_result"
    }
   ],
   "source": [
    "final_grades_clean = final_grades_clean.dropna(axis=1, how=\"all\")\n",
    "final_grades_clean"
   ]
  },
  {
   "cell_type": "markdown",
   "id": "e553390d",
   "metadata": {},
   "source": [
    "# Aggregating with groupby"
   ]
  },
  {
   "cell_type": "markdown",
   "id": "d2ae5692",
   "metadata": {},
   "source": [
    "Similar to the SQL language, pandas allows grouping your data into groups to run calculations over each group.\n",
    "\n",
    "First, let's add some extra data about each person so we can group them, and let's go back to the final_grades DataFrame so we can see how NaN values are handled:"
   ]
  },
  {
   "cell_type": "code",
   "execution_count": 151,
   "id": "54bb9376",
   "metadata": {},
   "outputs": [
    {
     "data": {
      "text/html": [
       "<div>\n",
       "<style scoped>\n",
       "    .dataframe tbody tr th:only-of-type {\n",
       "        vertical-align: middle;\n",
       "    }\n",
       "\n",
       "    .dataframe tbody tr th {\n",
       "        vertical-align: top;\n",
       "    }\n",
       "\n",
       "    .dataframe thead th {\n",
       "        text-align: right;\n",
       "    }\n",
       "</style>\n",
       "<table border=\"1\" class=\"dataframe\">\n",
       "  <thead>\n",
       "    <tr style=\"text-align: right;\">\n",
       "      <th></th>\n",
       "      <th>sep</th>\n",
       "      <th>oct</th>\n",
       "      <th>nov</th>\n",
       "      <th>dec</th>\n",
       "      <th>hobby</th>\n",
       "    </tr>\n",
       "  </thead>\n",
       "  <tbody>\n",
       "    <tr>\n",
       "      <th>alice</th>\n",
       "      <td>8.0</td>\n",
       "      <td>8.0</td>\n",
       "      <td>9.0</td>\n",
       "      <td>NaN</td>\n",
       "      <td>Biking</td>\n",
       "    </tr>\n",
       "    <tr>\n",
       "      <th>bob</th>\n",
       "      <td>10.0</td>\n",
       "      <td>9.0</td>\n",
       "      <td>10.0</td>\n",
       "      <td>NaN</td>\n",
       "      <td>Dancing</td>\n",
       "    </tr>\n",
       "    <tr>\n",
       "      <th>charles</th>\n",
       "      <td>4.0</td>\n",
       "      <td>11.0</td>\n",
       "      <td>5.0</td>\n",
       "      <td>NaN</td>\n",
       "      <td>NaN</td>\n",
       "    </tr>\n",
       "    <tr>\n",
       "      <th>colin</th>\n",
       "      <td>NaN</td>\n",
       "      <td>NaN</td>\n",
       "      <td>NaN</td>\n",
       "      <td>NaN</td>\n",
       "      <td>Dancing</td>\n",
       "    </tr>\n",
       "    <tr>\n",
       "      <th>darwin</th>\n",
       "      <td>9.0</td>\n",
       "      <td>10.0</td>\n",
       "      <td>11.0</td>\n",
       "      <td>NaN</td>\n",
       "      <td>Biking</td>\n",
       "    </tr>\n",
       "  </tbody>\n",
       "</table>\n",
       "</div>"
      ],
      "text/plain": [
       "          sep   oct   nov  dec    hobby\n",
       "alice     8.0   8.0   9.0  NaN   Biking\n",
       "bob      10.0   9.0  10.0  NaN  Dancing\n",
       "charles   4.0  11.0   5.0  NaN      NaN\n",
       "colin     NaN   NaN   NaN  NaN  Dancing\n",
       "darwin    9.0  10.0  11.0  NaN   Biking"
      ]
     },
     "execution_count": 151,
     "metadata": {},
     "output_type": "execute_result"
    }
   ],
   "source": [
    "final_grades[\"hobby\"] = [\"Biking\", \"Dancing\", np.nan, \"Dancing\", \"Biking\"]\n",
    "final_grades"
   ]
  },
  {
   "cell_type": "code",
   "execution_count": 153,
   "id": "6623331f",
   "metadata": {},
   "outputs": [
    {
     "data": {
      "text/plain": [
       "<pandas.core.groupby.generic.DataFrameGroupBy object at 0x147761290>"
      ]
     },
     "execution_count": 153,
     "metadata": {},
     "output_type": "execute_result"
    }
   ],
   "source": [
    "grouped_grades = final_grades.groupby(\"hobby\")\n",
    "grouped_grades                                      "
   ]
  },
  {
   "cell_type": "markdown",
   "id": "09fc3bc3",
   "metadata": {},
   "source": [
    "We are ready to compute the average grade per hobby:"
   ]
  },
  {
   "cell_type": "code",
   "execution_count": 154,
   "id": "0b084aa8",
   "metadata": {},
   "outputs": [
    {
     "data": {
      "text/html": [
       "<div>\n",
       "<style scoped>\n",
       "    .dataframe tbody tr th:only-of-type {\n",
       "        vertical-align: middle;\n",
       "    }\n",
       "\n",
       "    .dataframe tbody tr th {\n",
       "        vertical-align: top;\n",
       "    }\n",
       "\n",
       "    .dataframe thead th {\n",
       "        text-align: right;\n",
       "    }\n",
       "</style>\n",
       "<table border=\"1\" class=\"dataframe\">\n",
       "  <thead>\n",
       "    <tr style=\"text-align: right;\">\n",
       "      <th></th>\n",
       "      <th>sep</th>\n",
       "      <th>oct</th>\n",
       "      <th>nov</th>\n",
       "      <th>dec</th>\n",
       "    </tr>\n",
       "    <tr>\n",
       "      <th>hobby</th>\n",
       "      <th></th>\n",
       "      <th></th>\n",
       "      <th></th>\n",
       "      <th></th>\n",
       "    </tr>\n",
       "  </thead>\n",
       "  <tbody>\n",
       "    <tr>\n",
       "      <th>Biking</th>\n",
       "      <td>8.5</td>\n",
       "      <td>9.0</td>\n",
       "      <td>10.0</td>\n",
       "      <td>NaN</td>\n",
       "    </tr>\n",
       "    <tr>\n",
       "      <th>Dancing</th>\n",
       "      <td>10.0</td>\n",
       "      <td>9.0</td>\n",
       "      <td>10.0</td>\n",
       "      <td>NaN</td>\n",
       "    </tr>\n",
       "  </tbody>\n",
       "</table>\n",
       "</div>"
      ],
      "text/plain": [
       "          sep  oct   nov  dec\n",
       "hobby                        \n",
       "Biking    8.5  9.0  10.0  NaN\n",
       "Dancing  10.0  9.0  10.0  NaN"
      ]
     },
     "execution_count": 154,
     "metadata": {},
     "output_type": "execute_result"
    }
   ],
   "source": [
    "grouped_grades.mean()"
   ]
  },
  {
   "cell_type": "markdown",
   "id": "efddf02a",
   "metadata": {},
   "source": [
    "# Pivot tables"
   ]
  },
  {
   "cell_type": "markdown",
   "id": "dc5e9017",
   "metadata": {},
   "source": [
    "Pandas supports spreadsheet-like pivot tables that allow quick data summarization. To illustrate this, let's create a simple DataFrame:"
   ]
  },
  {
   "cell_type": "code",
   "execution_count": 155,
   "id": "c4ca7d25",
   "metadata": {},
   "outputs": [
    {
     "data": {
      "text/html": [
       "<div>\n",
       "<style scoped>\n",
       "    .dataframe tbody tr th:only-of-type {\n",
       "        vertical-align: middle;\n",
       "    }\n",
       "\n",
       "    .dataframe tbody tr th {\n",
       "        vertical-align: top;\n",
       "    }\n",
       "\n",
       "    .dataframe thead th {\n",
       "        text-align: right;\n",
       "    }\n",
       "</style>\n",
       "<table border=\"1\" class=\"dataframe\">\n",
       "  <thead>\n",
       "    <tr style=\"text-align: right;\">\n",
       "      <th></th>\n",
       "      <th>oct</th>\n",
       "      <th>nov</th>\n",
       "      <th>dec</th>\n",
       "    </tr>\n",
       "  </thead>\n",
       "  <tbody>\n",
       "    <tr>\n",
       "      <th>bob</th>\n",
       "      <td>0.0</td>\n",
       "      <td>NaN</td>\n",
       "      <td>2.0</td>\n",
       "    </tr>\n",
       "    <tr>\n",
       "      <th>colin</th>\n",
       "      <td>NaN</td>\n",
       "      <td>1.0</td>\n",
       "      <td>0.0</td>\n",
       "    </tr>\n",
       "    <tr>\n",
       "      <th>darwin</th>\n",
       "      <td>0.0</td>\n",
       "      <td>1.0</td>\n",
       "      <td>0.0</td>\n",
       "    </tr>\n",
       "    <tr>\n",
       "      <th>charles</th>\n",
       "      <td>3.0</td>\n",
       "      <td>3.0</td>\n",
       "      <td>0.0</td>\n",
       "    </tr>\n",
       "  </tbody>\n",
       "</table>\n",
       "</div>"
      ],
      "text/plain": [
       "         oct  nov  dec\n",
       "bob      0.0  NaN  2.0\n",
       "colin    NaN  1.0  0.0\n",
       "darwin   0.0  1.0  0.0\n",
       "charles  3.0  3.0  0.0"
      ]
     },
     "execution_count": 155,
     "metadata": {},
     "output_type": "execute_result"
    }
   ],
   "source": [
    "bonus_points"
   ]
  },
  {
   "cell_type": "code",
   "execution_count": 162,
   "id": "76f183e4",
   "metadata": {},
   "outputs": [
    {
     "data": {
      "text/html": [
       "<div>\n",
       "<style scoped>\n",
       "    .dataframe tbody tr th:only-of-type {\n",
       "        vertical-align: middle;\n",
       "    }\n",
       "\n",
       "    .dataframe tbody tr th {\n",
       "        vertical-align: top;\n",
       "    }\n",
       "\n",
       "    .dataframe thead th {\n",
       "        text-align: right;\n",
       "    }\n",
       "</style>\n",
       "<table border=\"1\" class=\"dataframe\">\n",
       "  <thead>\n",
       "    <tr style=\"text-align: right;\">\n",
       "      <th></th>\n",
       "      <th>name</th>\n",
       "      <th>month</th>\n",
       "      <th>grade</th>\n",
       "      <th>bonus</th>\n",
       "    </tr>\n",
       "  </thead>\n",
       "  <tbody>\n",
       "    <tr>\n",
       "      <th>0</th>\n",
       "      <td>alice</td>\n",
       "      <td>sep</td>\n",
       "      <td>8.0</td>\n",
       "      <td>NaN</td>\n",
       "    </tr>\n",
       "    <tr>\n",
       "      <th>1</th>\n",
       "      <td>alice</td>\n",
       "      <td>oct</td>\n",
       "      <td>8.0</td>\n",
       "      <td>NaN</td>\n",
       "    </tr>\n",
       "    <tr>\n",
       "      <th>2</th>\n",
       "      <td>alice</td>\n",
       "      <td>nov</td>\n",
       "      <td>9.0</td>\n",
       "      <td>NaN</td>\n",
       "    </tr>\n",
       "    <tr>\n",
       "      <th>3</th>\n",
       "      <td>bob</td>\n",
       "      <td>sep</td>\n",
       "      <td>10.0</td>\n",
       "      <td>0.0</td>\n",
       "    </tr>\n",
       "    <tr>\n",
       "      <th>4</th>\n",
       "      <td>bob</td>\n",
       "      <td>oct</td>\n",
       "      <td>9.0</td>\n",
       "      <td>NaN</td>\n",
       "    </tr>\n",
       "    <tr>\n",
       "      <th>5</th>\n",
       "      <td>bob</td>\n",
       "      <td>nov</td>\n",
       "      <td>10.0</td>\n",
       "      <td>2.0</td>\n",
       "    </tr>\n",
       "    <tr>\n",
       "      <th>6</th>\n",
       "      <td>charles</td>\n",
       "      <td>sep</td>\n",
       "      <td>4.0</td>\n",
       "      <td>3.0</td>\n",
       "    </tr>\n",
       "    <tr>\n",
       "      <th>7</th>\n",
       "      <td>charles</td>\n",
       "      <td>oct</td>\n",
       "      <td>11.0</td>\n",
       "      <td>3.0</td>\n",
       "    </tr>\n",
       "    <tr>\n",
       "      <th>8</th>\n",
       "      <td>charles</td>\n",
       "      <td>nov</td>\n",
       "      <td>5.0</td>\n",
       "      <td>0.0</td>\n",
       "    </tr>\n",
       "    <tr>\n",
       "      <th>9</th>\n",
       "      <td>darwin</td>\n",
       "      <td>sep</td>\n",
       "      <td>9.0</td>\n",
       "      <td>0.0</td>\n",
       "    </tr>\n",
       "    <tr>\n",
       "      <th>10</th>\n",
       "      <td>darwin</td>\n",
       "      <td>oct</td>\n",
       "      <td>10.0</td>\n",
       "      <td>1.0</td>\n",
       "    </tr>\n",
       "    <tr>\n",
       "      <th>11</th>\n",
       "      <td>darwin</td>\n",
       "      <td>nov</td>\n",
       "      <td>11.0</td>\n",
       "      <td>0.0</td>\n",
       "    </tr>\n",
       "  </tbody>\n",
       "</table>\n",
       "</div>"
      ],
      "text/plain": [
       "       name month  grade  bonus\n",
       "0     alice   sep    8.0    NaN\n",
       "1     alice   oct    8.0    NaN\n",
       "2     alice   nov    9.0    NaN\n",
       "3       bob   sep   10.0    0.0\n",
       "4       bob   oct    9.0    NaN\n",
       "5       bob   nov   10.0    2.0\n",
       "6   charles   sep    4.0    3.0\n",
       "7   charles   oct   11.0    3.0\n",
       "8   charles   nov    5.0    0.0\n",
       "9    darwin   sep    9.0    0.0\n",
       "10   darwin   oct   10.0    1.0\n",
       "11   darwin   nov   11.0    0.0"
      ]
     },
     "execution_count": 162,
     "metadata": {},
     "output_type": "execute_result"
    }
   ],
   "source": [
    "more_grades = final_grades_clean.stack().reset_index()\n",
    "more_grades.columns = [\"name\", \"month\", \"grade\"]\n",
    "more_grades[\"bonus\"] = [np.nan, np.nan, np.nan, 0, np.nan, 2, 3, 3, 0, 0, 1, 0]\n",
    "more_grades"
   ]
  },
  {
   "cell_type": "markdown",
   "id": "d5977eb4",
   "metadata": {},
   "source": [
    "# Overview functions"
   ]
  },
  {
   "cell_type": "markdown",
   "id": "10910c3d",
   "metadata": {},
   "source": [
    "When dealing with large DataFrames, it is useful to get a quick overview of its content. Pandas offers a few functions for this. First, let's create a large DataFrame with a mix of numeric values, missing values and text values. Notice how Jupyter displays only the corners of the DataFrame:"
   ]
  },
  {
   "cell_type": "code",
   "execution_count": 163,
   "id": "982634ea",
   "metadata": {},
   "outputs": [
    {
     "data": {
      "text/html": [
       "<div>\n",
       "<style scoped>\n",
       "    .dataframe tbody tr th:only-of-type {\n",
       "        vertical-align: middle;\n",
       "    }\n",
       "\n",
       "    .dataframe tbody tr th {\n",
       "        vertical-align: top;\n",
       "    }\n",
       "\n",
       "    .dataframe thead th {\n",
       "        text-align: right;\n",
       "    }\n",
       "</style>\n",
       "<table border=\"1\" class=\"dataframe\">\n",
       "  <thead>\n",
       "    <tr style=\"text-align: right;\">\n",
       "      <th></th>\n",
       "      <th>A</th>\n",
       "      <th>B</th>\n",
       "      <th>C</th>\n",
       "      <th>some_text</th>\n",
       "      <th>D</th>\n",
       "      <th>E</th>\n",
       "      <th>F</th>\n",
       "      <th>G</th>\n",
       "      <th>H</th>\n",
       "      <th>I</th>\n",
       "      <th>...</th>\n",
       "      <th>Q</th>\n",
       "      <th>R</th>\n",
       "      <th>S</th>\n",
       "      <th>T</th>\n",
       "      <th>U</th>\n",
       "      <th>V</th>\n",
       "      <th>W</th>\n",
       "      <th>X</th>\n",
       "      <th>Y</th>\n",
       "      <th>Z</th>\n",
       "    </tr>\n",
       "  </thead>\n",
       "  <tbody>\n",
       "    <tr>\n",
       "      <th>0</th>\n",
       "      <td>NaN</td>\n",
       "      <td>11.0</td>\n",
       "      <td>44.0</td>\n",
       "      <td>Blabla</td>\n",
       "      <td>99.0</td>\n",
       "      <td>NaN</td>\n",
       "      <td>88.0</td>\n",
       "      <td>22.0</td>\n",
       "      <td>165.0</td>\n",
       "      <td>143.0</td>\n",
       "      <td>...</td>\n",
       "      <td>11.0</td>\n",
       "      <td>NaN</td>\n",
       "      <td>11.0</td>\n",
       "      <td>44.0</td>\n",
       "      <td>99.0</td>\n",
       "      <td>NaN</td>\n",
       "      <td>88.0</td>\n",
       "      <td>22.0</td>\n",
       "      <td>165.0</td>\n",
       "      <td>143.0</td>\n",
       "    </tr>\n",
       "    <tr>\n",
       "      <th>1</th>\n",
       "      <td>11.0</td>\n",
       "      <td>22.0</td>\n",
       "      <td>55.0</td>\n",
       "      <td>Blabla</td>\n",
       "      <td>110.0</td>\n",
       "      <td>NaN</td>\n",
       "      <td>99.0</td>\n",
       "      <td>33.0</td>\n",
       "      <td>NaN</td>\n",
       "      <td>154.0</td>\n",
       "      <td>...</td>\n",
       "      <td>22.0</td>\n",
       "      <td>11.0</td>\n",
       "      <td>22.0</td>\n",
       "      <td>55.0</td>\n",
       "      <td>110.0</td>\n",
       "      <td>NaN</td>\n",
       "      <td>99.0</td>\n",
       "      <td>33.0</td>\n",
       "      <td>NaN</td>\n",
       "      <td>154.0</td>\n",
       "    </tr>\n",
       "    <tr>\n",
       "      <th>2</th>\n",
       "      <td>22.0</td>\n",
       "      <td>33.0</td>\n",
       "      <td>66.0</td>\n",
       "      <td>Blabla</td>\n",
       "      <td>121.0</td>\n",
       "      <td>11.0</td>\n",
       "      <td>110.0</td>\n",
       "      <td>44.0</td>\n",
       "      <td>NaN</td>\n",
       "      <td>165.0</td>\n",
       "      <td>...</td>\n",
       "      <td>33.0</td>\n",
       "      <td>22.0</td>\n",
       "      <td>33.0</td>\n",
       "      <td>66.0</td>\n",
       "      <td>121.0</td>\n",
       "      <td>11.0</td>\n",
       "      <td>110.0</td>\n",
       "      <td>44.0</td>\n",
       "      <td>NaN</td>\n",
       "      <td>165.0</td>\n",
       "    </tr>\n",
       "    <tr>\n",
       "      <th>3</th>\n",
       "      <td>33.0</td>\n",
       "      <td>44.0</td>\n",
       "      <td>77.0</td>\n",
       "      <td>Blabla</td>\n",
       "      <td>132.0</td>\n",
       "      <td>22.0</td>\n",
       "      <td>121.0</td>\n",
       "      <td>55.0</td>\n",
       "      <td>11.0</td>\n",
       "      <td>NaN</td>\n",
       "      <td>...</td>\n",
       "      <td>44.0</td>\n",
       "      <td>33.0</td>\n",
       "      <td>44.0</td>\n",
       "      <td>77.0</td>\n",
       "      <td>132.0</td>\n",
       "      <td>22.0</td>\n",
       "      <td>121.0</td>\n",
       "      <td>55.0</td>\n",
       "      <td>11.0</td>\n",
       "      <td>NaN</td>\n",
       "    </tr>\n",
       "    <tr>\n",
       "      <th>4</th>\n",
       "      <td>44.0</td>\n",
       "      <td>55.0</td>\n",
       "      <td>88.0</td>\n",
       "      <td>Blabla</td>\n",
       "      <td>143.0</td>\n",
       "      <td>33.0</td>\n",
       "      <td>132.0</td>\n",
       "      <td>66.0</td>\n",
       "      <td>22.0</td>\n",
       "      <td>NaN</td>\n",
       "      <td>...</td>\n",
       "      <td>55.0</td>\n",
       "      <td>44.0</td>\n",
       "      <td>55.0</td>\n",
       "      <td>88.0</td>\n",
       "      <td>143.0</td>\n",
       "      <td>33.0</td>\n",
       "      <td>132.0</td>\n",
       "      <td>66.0</td>\n",
       "      <td>22.0</td>\n",
       "      <td>NaN</td>\n",
       "    </tr>\n",
       "    <tr>\n",
       "      <th>...</th>\n",
       "      <td>...</td>\n",
       "      <td>...</td>\n",
       "      <td>...</td>\n",
       "      <td>...</td>\n",
       "      <td>...</td>\n",
       "      <td>...</td>\n",
       "      <td>...</td>\n",
       "      <td>...</td>\n",
       "      <td>...</td>\n",
       "      <td>...</td>\n",
       "      <td>...</td>\n",
       "      <td>...</td>\n",
       "      <td>...</td>\n",
       "      <td>...</td>\n",
       "      <td>...</td>\n",
       "      <td>...</td>\n",
       "      <td>...</td>\n",
       "      <td>...</td>\n",
       "      <td>...</td>\n",
       "      <td>...</td>\n",
       "      <td>...</td>\n",
       "    </tr>\n",
       "    <tr>\n",
       "      <th>9995</th>\n",
       "      <td>NaN</td>\n",
       "      <td>NaN</td>\n",
       "      <td>33.0</td>\n",
       "      <td>Blabla</td>\n",
       "      <td>88.0</td>\n",
       "      <td>165.0</td>\n",
       "      <td>77.0</td>\n",
       "      <td>11.0</td>\n",
       "      <td>154.0</td>\n",
       "      <td>132.0</td>\n",
       "      <td>...</td>\n",
       "      <td>NaN</td>\n",
       "      <td>NaN</td>\n",
       "      <td>NaN</td>\n",
       "      <td>33.0</td>\n",
       "      <td>88.0</td>\n",
       "      <td>165.0</td>\n",
       "      <td>77.0</td>\n",
       "      <td>11.0</td>\n",
       "      <td>154.0</td>\n",
       "      <td>132.0</td>\n",
       "    </tr>\n",
       "    <tr>\n",
       "      <th>9996</th>\n",
       "      <td>NaN</td>\n",
       "      <td>11.0</td>\n",
       "      <td>44.0</td>\n",
       "      <td>Blabla</td>\n",
       "      <td>99.0</td>\n",
       "      <td>NaN</td>\n",
       "      <td>88.0</td>\n",
       "      <td>22.0</td>\n",
       "      <td>165.0</td>\n",
       "      <td>143.0</td>\n",
       "      <td>...</td>\n",
       "      <td>11.0</td>\n",
       "      <td>NaN</td>\n",
       "      <td>11.0</td>\n",
       "      <td>44.0</td>\n",
       "      <td>99.0</td>\n",
       "      <td>NaN</td>\n",
       "      <td>88.0</td>\n",
       "      <td>22.0</td>\n",
       "      <td>165.0</td>\n",
       "      <td>143.0</td>\n",
       "    </tr>\n",
       "    <tr>\n",
       "      <th>9997</th>\n",
       "      <td>11.0</td>\n",
       "      <td>22.0</td>\n",
       "      <td>55.0</td>\n",
       "      <td>Blabla</td>\n",
       "      <td>110.0</td>\n",
       "      <td>NaN</td>\n",
       "      <td>99.0</td>\n",
       "      <td>33.0</td>\n",
       "      <td>NaN</td>\n",
       "      <td>154.0</td>\n",
       "      <td>...</td>\n",
       "      <td>22.0</td>\n",
       "      <td>11.0</td>\n",
       "      <td>22.0</td>\n",
       "      <td>55.0</td>\n",
       "      <td>110.0</td>\n",
       "      <td>NaN</td>\n",
       "      <td>99.0</td>\n",
       "      <td>33.0</td>\n",
       "      <td>NaN</td>\n",
       "      <td>154.0</td>\n",
       "    </tr>\n",
       "    <tr>\n",
       "      <th>9998</th>\n",
       "      <td>22.0</td>\n",
       "      <td>33.0</td>\n",
       "      <td>66.0</td>\n",
       "      <td>Blabla</td>\n",
       "      <td>121.0</td>\n",
       "      <td>11.0</td>\n",
       "      <td>110.0</td>\n",
       "      <td>44.0</td>\n",
       "      <td>NaN</td>\n",
       "      <td>165.0</td>\n",
       "      <td>...</td>\n",
       "      <td>33.0</td>\n",
       "      <td>22.0</td>\n",
       "      <td>33.0</td>\n",
       "      <td>66.0</td>\n",
       "      <td>121.0</td>\n",
       "      <td>11.0</td>\n",
       "      <td>110.0</td>\n",
       "      <td>44.0</td>\n",
       "      <td>NaN</td>\n",
       "      <td>165.0</td>\n",
       "    </tr>\n",
       "    <tr>\n",
       "      <th>9999</th>\n",
       "      <td>33.0</td>\n",
       "      <td>44.0</td>\n",
       "      <td>77.0</td>\n",
       "      <td>Blabla</td>\n",
       "      <td>132.0</td>\n",
       "      <td>22.0</td>\n",
       "      <td>121.0</td>\n",
       "      <td>55.0</td>\n",
       "      <td>11.0</td>\n",
       "      <td>NaN</td>\n",
       "      <td>...</td>\n",
       "      <td>44.0</td>\n",
       "      <td>33.0</td>\n",
       "      <td>44.0</td>\n",
       "      <td>77.0</td>\n",
       "      <td>132.0</td>\n",
       "      <td>22.0</td>\n",
       "      <td>121.0</td>\n",
       "      <td>55.0</td>\n",
       "      <td>11.0</td>\n",
       "      <td>NaN</td>\n",
       "    </tr>\n",
       "  </tbody>\n",
       "</table>\n",
       "<p>10000 rows × 27 columns</p>\n",
       "</div>"
      ],
      "text/plain": [
       "         A     B     C some_text      D      E      F     G      H      I  \\\n",
       "0      NaN  11.0  44.0    Blabla   99.0    NaN   88.0  22.0  165.0  143.0   \n",
       "1     11.0  22.0  55.0    Blabla  110.0    NaN   99.0  33.0    NaN  154.0   \n",
       "2     22.0  33.0  66.0    Blabla  121.0   11.0  110.0  44.0    NaN  165.0   \n",
       "3     33.0  44.0  77.0    Blabla  132.0   22.0  121.0  55.0   11.0    NaN   \n",
       "4     44.0  55.0  88.0    Blabla  143.0   33.0  132.0  66.0   22.0    NaN   \n",
       "...    ...   ...   ...       ...    ...    ...    ...   ...    ...    ...   \n",
       "9995   NaN   NaN  33.0    Blabla   88.0  165.0   77.0  11.0  154.0  132.0   \n",
       "9996   NaN  11.0  44.0    Blabla   99.0    NaN   88.0  22.0  165.0  143.0   \n",
       "9997  11.0  22.0  55.0    Blabla  110.0    NaN   99.0  33.0    NaN  154.0   \n",
       "9998  22.0  33.0  66.0    Blabla  121.0   11.0  110.0  44.0    NaN  165.0   \n",
       "9999  33.0  44.0  77.0    Blabla  132.0   22.0  121.0  55.0   11.0    NaN   \n",
       "\n",
       "      ...     Q     R     S     T      U      V      W     X      Y      Z  \n",
       "0     ...  11.0   NaN  11.0  44.0   99.0    NaN   88.0  22.0  165.0  143.0  \n",
       "1     ...  22.0  11.0  22.0  55.0  110.0    NaN   99.0  33.0    NaN  154.0  \n",
       "2     ...  33.0  22.0  33.0  66.0  121.0   11.0  110.0  44.0    NaN  165.0  \n",
       "3     ...  44.0  33.0  44.0  77.0  132.0   22.0  121.0  55.0   11.0    NaN  \n",
       "4     ...  55.0  44.0  55.0  88.0  143.0   33.0  132.0  66.0   22.0    NaN  \n",
       "...   ...   ...   ...   ...   ...    ...    ...    ...   ...    ...    ...  \n",
       "9995  ...   NaN   NaN   NaN  33.0   88.0  165.0   77.0  11.0  154.0  132.0  \n",
       "9996  ...  11.0   NaN  11.0  44.0   99.0    NaN   88.0  22.0  165.0  143.0  \n",
       "9997  ...  22.0  11.0  22.0  55.0  110.0    NaN   99.0  33.0    NaN  154.0  \n",
       "9998  ...  33.0  22.0  33.0  66.0  121.0   11.0  110.0  44.0    NaN  165.0  \n",
       "9999  ...  44.0  33.0  44.0  77.0  132.0   22.0  121.0  55.0   11.0    NaN  \n",
       "\n",
       "[10000 rows x 27 columns]"
      ]
     },
     "execution_count": 163,
     "metadata": {},
     "output_type": "execute_result"
    }
   ],
   "source": [
    "much_data = np.fromfunction(lambda x, y:(x+y*y)%17*11,(10000, 26))\n",
    "large_df = pd.DataFrame(much_data, columns=list(\"ABCDEFGHIJKLMNOPQRSTUVWXYZ\"))\n",
    "large_df[large_df % 16 == 0] = np.nan\n",
    "large_df.insert(3,\"some_text\", \"Blabla\")\n",
    "large_df"
   ]
  },
  {
   "cell_type": "code",
   "execution_count": 164,
   "id": "5a1fe333",
   "metadata": {},
   "outputs": [
    {
     "data": {
      "text/html": [
       "<div>\n",
       "<style scoped>\n",
       "    .dataframe tbody tr th:only-of-type {\n",
       "        vertical-align: middle;\n",
       "    }\n",
       "\n",
       "    .dataframe tbody tr th {\n",
       "        vertical-align: top;\n",
       "    }\n",
       "\n",
       "    .dataframe thead th {\n",
       "        text-align: right;\n",
       "    }\n",
       "</style>\n",
       "<table border=\"1\" class=\"dataframe\">\n",
       "  <thead>\n",
       "    <tr style=\"text-align: right;\">\n",
       "      <th></th>\n",
       "      <th>A</th>\n",
       "      <th>B</th>\n",
       "      <th>C</th>\n",
       "      <th>some_text</th>\n",
       "      <th>D</th>\n",
       "      <th>E</th>\n",
       "      <th>F</th>\n",
       "      <th>G</th>\n",
       "      <th>H</th>\n",
       "      <th>I</th>\n",
       "      <th>...</th>\n",
       "      <th>Q</th>\n",
       "      <th>R</th>\n",
       "      <th>S</th>\n",
       "      <th>T</th>\n",
       "      <th>U</th>\n",
       "      <th>V</th>\n",
       "      <th>W</th>\n",
       "      <th>X</th>\n",
       "      <th>Y</th>\n",
       "      <th>Z</th>\n",
       "    </tr>\n",
       "  </thead>\n",
       "  <tbody>\n",
       "    <tr>\n",
       "      <th>0</th>\n",
       "      <td>NaN</td>\n",
       "      <td>11.0</td>\n",
       "      <td>44.0</td>\n",
       "      <td>Blabla</td>\n",
       "      <td>99.0</td>\n",
       "      <td>NaN</td>\n",
       "      <td>88.0</td>\n",
       "      <td>22.0</td>\n",
       "      <td>165.0</td>\n",
       "      <td>143.0</td>\n",
       "      <td>...</td>\n",
       "      <td>11.0</td>\n",
       "      <td>NaN</td>\n",
       "      <td>11.0</td>\n",
       "      <td>44.0</td>\n",
       "      <td>99.0</td>\n",
       "      <td>NaN</td>\n",
       "      <td>88.0</td>\n",
       "      <td>22.0</td>\n",
       "      <td>165.0</td>\n",
       "      <td>143.0</td>\n",
       "    </tr>\n",
       "    <tr>\n",
       "      <th>1</th>\n",
       "      <td>11.0</td>\n",
       "      <td>22.0</td>\n",
       "      <td>55.0</td>\n",
       "      <td>Blabla</td>\n",
       "      <td>110.0</td>\n",
       "      <td>NaN</td>\n",
       "      <td>99.0</td>\n",
       "      <td>33.0</td>\n",
       "      <td>NaN</td>\n",
       "      <td>154.0</td>\n",
       "      <td>...</td>\n",
       "      <td>22.0</td>\n",
       "      <td>11.0</td>\n",
       "      <td>22.0</td>\n",
       "      <td>55.0</td>\n",
       "      <td>110.0</td>\n",
       "      <td>NaN</td>\n",
       "      <td>99.0</td>\n",
       "      <td>33.0</td>\n",
       "      <td>NaN</td>\n",
       "      <td>154.0</td>\n",
       "    </tr>\n",
       "    <tr>\n",
       "      <th>2</th>\n",
       "      <td>22.0</td>\n",
       "      <td>33.0</td>\n",
       "      <td>66.0</td>\n",
       "      <td>Blabla</td>\n",
       "      <td>121.0</td>\n",
       "      <td>11.0</td>\n",
       "      <td>110.0</td>\n",
       "      <td>44.0</td>\n",
       "      <td>NaN</td>\n",
       "      <td>165.0</td>\n",
       "      <td>...</td>\n",
       "      <td>33.0</td>\n",
       "      <td>22.0</td>\n",
       "      <td>33.0</td>\n",
       "      <td>66.0</td>\n",
       "      <td>121.0</td>\n",
       "      <td>11.0</td>\n",
       "      <td>110.0</td>\n",
       "      <td>44.0</td>\n",
       "      <td>NaN</td>\n",
       "      <td>165.0</td>\n",
       "    </tr>\n",
       "    <tr>\n",
       "      <th>3</th>\n",
       "      <td>33.0</td>\n",
       "      <td>44.0</td>\n",
       "      <td>77.0</td>\n",
       "      <td>Blabla</td>\n",
       "      <td>132.0</td>\n",
       "      <td>22.0</td>\n",
       "      <td>121.0</td>\n",
       "      <td>55.0</td>\n",
       "      <td>11.0</td>\n",
       "      <td>NaN</td>\n",
       "      <td>...</td>\n",
       "      <td>44.0</td>\n",
       "      <td>33.0</td>\n",
       "      <td>44.0</td>\n",
       "      <td>77.0</td>\n",
       "      <td>132.0</td>\n",
       "      <td>22.0</td>\n",
       "      <td>121.0</td>\n",
       "      <td>55.0</td>\n",
       "      <td>11.0</td>\n",
       "      <td>NaN</td>\n",
       "    </tr>\n",
       "    <tr>\n",
       "      <th>4</th>\n",
       "      <td>44.0</td>\n",
       "      <td>55.0</td>\n",
       "      <td>88.0</td>\n",
       "      <td>Blabla</td>\n",
       "      <td>143.0</td>\n",
       "      <td>33.0</td>\n",
       "      <td>132.0</td>\n",
       "      <td>66.0</td>\n",
       "      <td>22.0</td>\n",
       "      <td>NaN</td>\n",
       "      <td>...</td>\n",
       "      <td>55.0</td>\n",
       "      <td>44.0</td>\n",
       "      <td>55.0</td>\n",
       "      <td>88.0</td>\n",
       "      <td>143.0</td>\n",
       "      <td>33.0</td>\n",
       "      <td>132.0</td>\n",
       "      <td>66.0</td>\n",
       "      <td>22.0</td>\n",
       "      <td>NaN</td>\n",
       "    </tr>\n",
       "  </tbody>\n",
       "</table>\n",
       "<p>5 rows × 27 columns</p>\n",
       "</div>"
      ],
      "text/plain": [
       "      A     B     C some_text      D     E      F     G      H      I  ...  \\\n",
       "0   NaN  11.0  44.0    Blabla   99.0   NaN   88.0  22.0  165.0  143.0  ...   \n",
       "1  11.0  22.0  55.0    Blabla  110.0   NaN   99.0  33.0    NaN  154.0  ...   \n",
       "2  22.0  33.0  66.0    Blabla  121.0  11.0  110.0  44.0    NaN  165.0  ...   \n",
       "3  33.0  44.0  77.0    Blabla  132.0  22.0  121.0  55.0   11.0    NaN  ...   \n",
       "4  44.0  55.0  88.0    Blabla  143.0  33.0  132.0  66.0   22.0    NaN  ...   \n",
       "\n",
       "      Q     R     S     T      U     V      W     X      Y      Z  \n",
       "0  11.0   NaN  11.0  44.0   99.0   NaN   88.0  22.0  165.0  143.0  \n",
       "1  22.0  11.0  22.0  55.0  110.0   NaN   99.0  33.0    NaN  154.0  \n",
       "2  33.0  22.0  33.0  66.0  121.0  11.0  110.0  44.0    NaN  165.0  \n",
       "3  44.0  33.0  44.0  77.0  132.0  22.0  121.0  55.0   11.0    NaN  \n",
       "4  55.0  44.0  55.0  88.0  143.0  33.0  132.0  66.0   22.0    NaN  \n",
       "\n",
       "[5 rows x 27 columns]"
      ]
     },
     "execution_count": 164,
     "metadata": {},
     "output_type": "execute_result"
    }
   ],
   "source": [
    "#The head() method returns the top 5 rows:\n",
    "large_df.head()"
   ]
  },
  {
   "cell_type": "code",
   "execution_count": 165,
   "id": "90b493bd",
   "metadata": {},
   "outputs": [
    {
     "data": {
      "text/html": [
       "<div>\n",
       "<style scoped>\n",
       "    .dataframe tbody tr th:only-of-type {\n",
       "        vertical-align: middle;\n",
       "    }\n",
       "\n",
       "    .dataframe tbody tr th {\n",
       "        vertical-align: top;\n",
       "    }\n",
       "\n",
       "    .dataframe thead th {\n",
       "        text-align: right;\n",
       "    }\n",
       "</style>\n",
       "<table border=\"1\" class=\"dataframe\">\n",
       "  <thead>\n",
       "    <tr style=\"text-align: right;\">\n",
       "      <th></th>\n",
       "      <th>A</th>\n",
       "      <th>B</th>\n",
       "      <th>C</th>\n",
       "      <th>some_text</th>\n",
       "      <th>D</th>\n",
       "      <th>E</th>\n",
       "      <th>F</th>\n",
       "      <th>G</th>\n",
       "      <th>H</th>\n",
       "      <th>I</th>\n",
       "      <th>...</th>\n",
       "      <th>Q</th>\n",
       "      <th>R</th>\n",
       "      <th>S</th>\n",
       "      <th>T</th>\n",
       "      <th>U</th>\n",
       "      <th>V</th>\n",
       "      <th>W</th>\n",
       "      <th>X</th>\n",
       "      <th>Y</th>\n",
       "      <th>Z</th>\n",
       "    </tr>\n",
       "  </thead>\n",
       "  <tbody>\n",
       "    <tr>\n",
       "      <th>9998</th>\n",
       "      <td>22.0</td>\n",
       "      <td>33.0</td>\n",
       "      <td>66.0</td>\n",
       "      <td>Blabla</td>\n",
       "      <td>121.0</td>\n",
       "      <td>11.0</td>\n",
       "      <td>110.0</td>\n",
       "      <td>44.0</td>\n",
       "      <td>NaN</td>\n",
       "      <td>165.0</td>\n",
       "      <td>...</td>\n",
       "      <td>33.0</td>\n",
       "      <td>22.0</td>\n",
       "      <td>33.0</td>\n",
       "      <td>66.0</td>\n",
       "      <td>121.0</td>\n",
       "      <td>11.0</td>\n",
       "      <td>110.0</td>\n",
       "      <td>44.0</td>\n",
       "      <td>NaN</td>\n",
       "      <td>165.0</td>\n",
       "    </tr>\n",
       "    <tr>\n",
       "      <th>9999</th>\n",
       "      <td>33.0</td>\n",
       "      <td>44.0</td>\n",
       "      <td>77.0</td>\n",
       "      <td>Blabla</td>\n",
       "      <td>132.0</td>\n",
       "      <td>22.0</td>\n",
       "      <td>121.0</td>\n",
       "      <td>55.0</td>\n",
       "      <td>11.0</td>\n",
       "      <td>NaN</td>\n",
       "      <td>...</td>\n",
       "      <td>44.0</td>\n",
       "      <td>33.0</td>\n",
       "      <td>44.0</td>\n",
       "      <td>77.0</td>\n",
       "      <td>132.0</td>\n",
       "      <td>22.0</td>\n",
       "      <td>121.0</td>\n",
       "      <td>55.0</td>\n",
       "      <td>11.0</td>\n",
       "      <td>NaN</td>\n",
       "    </tr>\n",
       "  </tbody>\n",
       "</table>\n",
       "<p>2 rows × 27 columns</p>\n",
       "</div>"
      ],
      "text/plain": [
       "         A     B     C some_text      D     E      F     G     H      I  ...  \\\n",
       "9998  22.0  33.0  66.0    Blabla  121.0  11.0  110.0  44.0   NaN  165.0  ...   \n",
       "9999  33.0  44.0  77.0    Blabla  132.0  22.0  121.0  55.0  11.0    NaN  ...   \n",
       "\n",
       "         Q     R     S     T      U     V      W     X     Y      Z  \n",
       "9998  33.0  22.0  33.0  66.0  121.0  11.0  110.0  44.0   NaN  165.0  \n",
       "9999  44.0  33.0  44.0  77.0  132.0  22.0  121.0  55.0  11.0    NaN  \n",
       "\n",
       "[2 rows x 27 columns]"
      ]
     },
     "execution_count": 165,
     "metadata": {},
     "output_type": "execute_result"
    }
   ],
   "source": [
    "#Of course there's also a tail() function to view the bottom 5 rows. You can pass the number of rows you want:\n",
    "large_df.tail(n=2)"
   ]
  },
  {
   "cell_type": "code",
   "execution_count": 167,
   "id": "217fb248",
   "metadata": {},
   "outputs": [
    {
     "name": "stdout",
     "output_type": "stream",
     "text": [
      "<class 'pandas.core.frame.DataFrame'>\n",
      "RangeIndex: 10000 entries, 0 to 9999\n",
      "Data columns (total 27 columns):\n",
      " #   Column     Non-Null Count  Dtype  \n",
      "---  ------     --------------  -----  \n",
      " 0   A          8823 non-null   float64\n",
      " 1   B          8824 non-null   float64\n",
      " 2   C          8824 non-null   float64\n",
      " 3   some_text  10000 non-null  object \n",
      " 4   D          8824 non-null   float64\n",
      " 5   E          8822 non-null   float64\n",
      " 6   F          8824 non-null   float64\n",
      " 7   G          8824 non-null   float64\n",
      " 8   H          8822 non-null   float64\n",
      " 9   I          8823 non-null   float64\n",
      " 10  J          8823 non-null   float64\n",
      " 11  K          8822 non-null   float64\n",
      " 12  L          8824 non-null   float64\n",
      " 13  M          8824 non-null   float64\n",
      " 14  N          8822 non-null   float64\n",
      " 15  O          8824 non-null   float64\n",
      " 16  P          8824 non-null   float64\n",
      " 17  Q          8824 non-null   float64\n",
      " 18  R          8823 non-null   float64\n",
      " 19  S          8824 non-null   float64\n",
      " 20  T          8824 non-null   float64\n",
      " 21  U          8824 non-null   float64\n",
      " 22  V          8822 non-null   float64\n",
      " 23  W          8824 non-null   float64\n",
      " 24  X          8824 non-null   float64\n",
      " 25  Y          8822 non-null   float64\n",
      " 26  Z          8823 non-null   float64\n",
      "dtypes: float64(26), object(1)\n",
      "memory usage: 2.1+ MB\n"
     ]
    }
   ],
   "source": [
    "# The info() method prints out a summary of each columns contents:\n",
    "large_df.info()"
   ]
  },
  {
   "cell_type": "markdown",
   "id": "c0598a20",
   "metadata": {},
   "source": [
    "Finally, the describe() method gives a nice overview of the main aggregated values over each column:\n",
    "\n",
    "count: number of non-null (not NaN) values\n",
    "mean: mean of non-null values\n",
    "std: standard deviation of non-null values\n",
    "min: minimum of non-null values\n",
    "25%, 50%, 75%: 25th, 50th and 75th percentile of non-null values\n",
    "max: maximum of non-null values"
   ]
  },
  {
   "cell_type": "code",
   "execution_count": 168,
   "id": "2c6ca0c6",
   "metadata": {},
   "outputs": [
    {
     "data": {
      "text/html": [
       "<div>\n",
       "<style scoped>\n",
       "    .dataframe tbody tr th:only-of-type {\n",
       "        vertical-align: middle;\n",
       "    }\n",
       "\n",
       "    .dataframe tbody tr th {\n",
       "        vertical-align: top;\n",
       "    }\n",
       "\n",
       "    .dataframe thead th {\n",
       "        text-align: right;\n",
       "    }\n",
       "</style>\n",
       "<table border=\"1\" class=\"dataframe\">\n",
       "  <thead>\n",
       "    <tr style=\"text-align: right;\">\n",
       "      <th></th>\n",
       "      <th>A</th>\n",
       "      <th>B</th>\n",
       "      <th>C</th>\n",
       "      <th>D</th>\n",
       "      <th>E</th>\n",
       "      <th>F</th>\n",
       "      <th>G</th>\n",
       "      <th>H</th>\n",
       "      <th>I</th>\n",
       "      <th>J</th>\n",
       "      <th>...</th>\n",
       "      <th>Q</th>\n",
       "      <th>R</th>\n",
       "      <th>S</th>\n",
       "      <th>T</th>\n",
       "      <th>U</th>\n",
       "      <th>V</th>\n",
       "      <th>W</th>\n",
       "      <th>X</th>\n",
       "      <th>Y</th>\n",
       "      <th>Z</th>\n",
       "    </tr>\n",
       "  </thead>\n",
       "  <tbody>\n",
       "    <tr>\n",
       "      <th>count</th>\n",
       "      <td>8823.000000</td>\n",
       "      <td>8824.000000</td>\n",
       "      <td>8824.000000</td>\n",
       "      <td>8824.000000</td>\n",
       "      <td>8822.000000</td>\n",
       "      <td>8824.000000</td>\n",
       "      <td>8824.000000</td>\n",
       "      <td>8822.000000</td>\n",
       "      <td>8823.000000</td>\n",
       "      <td>8823.000000</td>\n",
       "      <td>...</td>\n",
       "      <td>8824.000000</td>\n",
       "      <td>8823.000000</td>\n",
       "      <td>8824.000000</td>\n",
       "      <td>8824.000000</td>\n",
       "      <td>8824.000000</td>\n",
       "      <td>8822.000000</td>\n",
       "      <td>8824.000000</td>\n",
       "      <td>8824.000000</td>\n",
       "      <td>8822.000000</td>\n",
       "      <td>8823.000000</td>\n",
       "    </tr>\n",
       "    <tr>\n",
       "      <th>mean</th>\n",
       "      <td>87.977559</td>\n",
       "      <td>87.972575</td>\n",
       "      <td>87.987534</td>\n",
       "      <td>88.012466</td>\n",
       "      <td>87.983791</td>\n",
       "      <td>88.007480</td>\n",
       "      <td>87.977561</td>\n",
       "      <td>88.000000</td>\n",
       "      <td>88.022441</td>\n",
       "      <td>88.022441</td>\n",
       "      <td>...</td>\n",
       "      <td>87.972575</td>\n",
       "      <td>87.977559</td>\n",
       "      <td>87.972575</td>\n",
       "      <td>87.987534</td>\n",
       "      <td>88.012466</td>\n",
       "      <td>87.983791</td>\n",
       "      <td>88.007480</td>\n",
       "      <td>87.977561</td>\n",
       "      <td>88.000000</td>\n",
       "      <td>88.022441</td>\n",
       "    </tr>\n",
       "    <tr>\n",
       "      <th>std</th>\n",
       "      <td>47.535911</td>\n",
       "      <td>47.535523</td>\n",
       "      <td>47.521679</td>\n",
       "      <td>47.521679</td>\n",
       "      <td>47.535001</td>\n",
       "      <td>47.519371</td>\n",
       "      <td>47.529755</td>\n",
       "      <td>47.536879</td>\n",
       "      <td>47.535911</td>\n",
       "      <td>47.535911</td>\n",
       "      <td>...</td>\n",
       "      <td>47.535523</td>\n",
       "      <td>47.535911</td>\n",
       "      <td>47.535523</td>\n",
       "      <td>47.521679</td>\n",
       "      <td>47.521679</td>\n",
       "      <td>47.535001</td>\n",
       "      <td>47.519371</td>\n",
       "      <td>47.529755</td>\n",
       "      <td>47.536879</td>\n",
       "      <td>47.535911</td>\n",
       "    </tr>\n",
       "    <tr>\n",
       "      <th>min</th>\n",
       "      <td>11.000000</td>\n",
       "      <td>11.000000</td>\n",
       "      <td>11.000000</td>\n",
       "      <td>11.000000</td>\n",
       "      <td>11.000000</td>\n",
       "      <td>11.000000</td>\n",
       "      <td>11.000000</td>\n",
       "      <td>11.000000</td>\n",
       "      <td>11.000000</td>\n",
       "      <td>11.000000</td>\n",
       "      <td>...</td>\n",
       "      <td>11.000000</td>\n",
       "      <td>11.000000</td>\n",
       "      <td>11.000000</td>\n",
       "      <td>11.000000</td>\n",
       "      <td>11.000000</td>\n",
       "      <td>11.000000</td>\n",
       "      <td>11.000000</td>\n",
       "      <td>11.000000</td>\n",
       "      <td>11.000000</td>\n",
       "      <td>11.000000</td>\n",
       "    </tr>\n",
       "    <tr>\n",
       "      <th>25%</th>\n",
       "      <td>44.000000</td>\n",
       "      <td>44.000000</td>\n",
       "      <td>44.000000</td>\n",
       "      <td>44.000000</td>\n",
       "      <td>44.000000</td>\n",
       "      <td>44.000000</td>\n",
       "      <td>44.000000</td>\n",
       "      <td>44.000000</td>\n",
       "      <td>44.000000</td>\n",
       "      <td>44.000000</td>\n",
       "      <td>...</td>\n",
       "      <td>44.000000</td>\n",
       "      <td>44.000000</td>\n",
       "      <td>44.000000</td>\n",
       "      <td>44.000000</td>\n",
       "      <td>44.000000</td>\n",
       "      <td>44.000000</td>\n",
       "      <td>44.000000</td>\n",
       "      <td>44.000000</td>\n",
       "      <td>44.000000</td>\n",
       "      <td>44.000000</td>\n",
       "    </tr>\n",
       "    <tr>\n",
       "      <th>50%</th>\n",
       "      <td>88.000000</td>\n",
       "      <td>88.000000</td>\n",
       "      <td>88.000000</td>\n",
       "      <td>88.000000</td>\n",
       "      <td>88.000000</td>\n",
       "      <td>88.000000</td>\n",
       "      <td>88.000000</td>\n",
       "      <td>88.000000</td>\n",
       "      <td>88.000000</td>\n",
       "      <td>88.000000</td>\n",
       "      <td>...</td>\n",
       "      <td>88.000000</td>\n",
       "      <td>88.000000</td>\n",
       "      <td>88.000000</td>\n",
       "      <td>88.000000</td>\n",
       "      <td>88.000000</td>\n",
       "      <td>88.000000</td>\n",
       "      <td>88.000000</td>\n",
       "      <td>88.000000</td>\n",
       "      <td>88.000000</td>\n",
       "      <td>88.000000</td>\n",
       "    </tr>\n",
       "    <tr>\n",
       "      <th>75%</th>\n",
       "      <td>132.000000</td>\n",
       "      <td>132.000000</td>\n",
       "      <td>132.000000</td>\n",
       "      <td>132.000000</td>\n",
       "      <td>132.000000</td>\n",
       "      <td>132.000000</td>\n",
       "      <td>132.000000</td>\n",
       "      <td>132.000000</td>\n",
       "      <td>132.000000</td>\n",
       "      <td>132.000000</td>\n",
       "      <td>...</td>\n",
       "      <td>132.000000</td>\n",
       "      <td>132.000000</td>\n",
       "      <td>132.000000</td>\n",
       "      <td>132.000000</td>\n",
       "      <td>132.000000</td>\n",
       "      <td>132.000000</td>\n",
       "      <td>132.000000</td>\n",
       "      <td>132.000000</td>\n",
       "      <td>132.000000</td>\n",
       "      <td>132.000000</td>\n",
       "    </tr>\n",
       "    <tr>\n",
       "      <th>max</th>\n",
       "      <td>165.000000</td>\n",
       "      <td>165.000000</td>\n",
       "      <td>165.000000</td>\n",
       "      <td>165.000000</td>\n",
       "      <td>165.000000</td>\n",
       "      <td>165.000000</td>\n",
       "      <td>165.000000</td>\n",
       "      <td>165.000000</td>\n",
       "      <td>165.000000</td>\n",
       "      <td>165.000000</td>\n",
       "      <td>...</td>\n",
       "      <td>165.000000</td>\n",
       "      <td>165.000000</td>\n",
       "      <td>165.000000</td>\n",
       "      <td>165.000000</td>\n",
       "      <td>165.000000</td>\n",
       "      <td>165.000000</td>\n",
       "      <td>165.000000</td>\n",
       "      <td>165.000000</td>\n",
       "      <td>165.000000</td>\n",
       "      <td>165.000000</td>\n",
       "    </tr>\n",
       "  </tbody>\n",
       "</table>\n",
       "<p>8 rows × 26 columns</p>\n",
       "</div>"
      ],
      "text/plain": [
       "                 A            B            C            D            E  \\\n",
       "count  8823.000000  8824.000000  8824.000000  8824.000000  8822.000000   \n",
       "mean     87.977559    87.972575    87.987534    88.012466    87.983791   \n",
       "std      47.535911    47.535523    47.521679    47.521679    47.535001   \n",
       "min      11.000000    11.000000    11.000000    11.000000    11.000000   \n",
       "25%      44.000000    44.000000    44.000000    44.000000    44.000000   \n",
       "50%      88.000000    88.000000    88.000000    88.000000    88.000000   \n",
       "75%     132.000000   132.000000   132.000000   132.000000   132.000000   \n",
       "max     165.000000   165.000000   165.000000   165.000000   165.000000   \n",
       "\n",
       "                 F            G            H            I            J  ...  \\\n",
       "count  8824.000000  8824.000000  8822.000000  8823.000000  8823.000000  ...   \n",
       "mean     88.007480    87.977561    88.000000    88.022441    88.022441  ...   \n",
       "std      47.519371    47.529755    47.536879    47.535911    47.535911  ...   \n",
       "min      11.000000    11.000000    11.000000    11.000000    11.000000  ...   \n",
       "25%      44.000000    44.000000    44.000000    44.000000    44.000000  ...   \n",
       "50%      88.000000    88.000000    88.000000    88.000000    88.000000  ...   \n",
       "75%     132.000000   132.000000   132.000000   132.000000   132.000000  ...   \n",
       "max     165.000000   165.000000   165.000000   165.000000   165.000000  ...   \n",
       "\n",
       "                 Q            R            S            T            U  \\\n",
       "count  8824.000000  8823.000000  8824.000000  8824.000000  8824.000000   \n",
       "mean     87.972575    87.977559    87.972575    87.987534    88.012466   \n",
       "std      47.535523    47.535911    47.535523    47.521679    47.521679   \n",
       "min      11.000000    11.000000    11.000000    11.000000    11.000000   \n",
       "25%      44.000000    44.000000    44.000000    44.000000    44.000000   \n",
       "50%      88.000000    88.000000    88.000000    88.000000    88.000000   \n",
       "75%     132.000000   132.000000   132.000000   132.000000   132.000000   \n",
       "max     165.000000   165.000000   165.000000   165.000000   165.000000   \n",
       "\n",
       "                 V            W            X            Y            Z  \n",
       "count  8822.000000  8824.000000  8824.000000  8822.000000  8823.000000  \n",
       "mean     87.983791    88.007480    87.977561    88.000000    88.022441  \n",
       "std      47.535001    47.519371    47.529755    47.536879    47.535911  \n",
       "min      11.000000    11.000000    11.000000    11.000000    11.000000  \n",
       "25%      44.000000    44.000000    44.000000    44.000000    44.000000  \n",
       "50%      88.000000    88.000000    88.000000    88.000000    88.000000  \n",
       "75%     132.000000   132.000000   132.000000   132.000000   132.000000  \n",
       "max     165.000000   165.000000   165.000000   165.000000   165.000000  \n",
       "\n",
       "[8 rows x 26 columns]"
      ]
     },
     "execution_count": 168,
     "metadata": {},
     "output_type": "execute_result"
    }
   ],
   "source": [
    "large_df.describe()"
   ]
  },
  {
   "cell_type": "markdown",
   "id": "4d29bb1f",
   "metadata": {},
   "source": [
    "# Saving & loading"
   ]
  },
  {
   "cell_type": "markdown",
   "id": "0b3a4b1e",
   "metadata": {},
   "source": [
    "Pandas can save DataFrames to various backends, including file formats such as CSV, Excel, JSON, HTML and HDF5, or to a SQL database. Let's create a DataFrame to demonstrate this:"
   ]
  },
  {
   "cell_type": "code",
   "execution_count": 169,
   "id": "56dad655",
   "metadata": {},
   "outputs": [
    {
     "data": {
      "text/html": [
       "<div>\n",
       "<style scoped>\n",
       "    .dataframe tbody tr th:only-of-type {\n",
       "        vertical-align: middle;\n",
       "    }\n",
       "\n",
       "    .dataframe tbody tr th {\n",
       "        vertical-align: top;\n",
       "    }\n",
       "\n",
       "    .dataframe thead th {\n",
       "        text-align: right;\n",
       "    }\n",
       "</style>\n",
       "<table border=\"1\" class=\"dataframe\">\n",
       "  <thead>\n",
       "    <tr style=\"text-align: right;\">\n",
       "      <th></th>\n",
       "      <th>hobby</th>\n",
       "      <th>weight</th>\n",
       "      <th>birthyear</th>\n",
       "      <th>children</th>\n",
       "    </tr>\n",
       "  </thead>\n",
       "  <tbody>\n",
       "    <tr>\n",
       "      <th>alice</th>\n",
       "      <td>Biking</td>\n",
       "      <td>68.5</td>\n",
       "      <td>1985</td>\n",
       "      <td>NaN</td>\n",
       "    </tr>\n",
       "    <tr>\n",
       "      <th>bob</th>\n",
       "      <td>Dancing</td>\n",
       "      <td>83.1</td>\n",
       "      <td>1984</td>\n",
       "      <td>3.0</td>\n",
       "    </tr>\n",
       "  </tbody>\n",
       "</table>\n",
       "</div>"
      ],
      "text/plain": [
       "         hobby  weight  birthyear  children\n",
       "alice   Biking    68.5       1985       NaN\n",
       "bob    Dancing    83.1       1984       3.0"
      ]
     },
     "execution_count": 169,
     "metadata": {},
     "output_type": "execute_result"
    }
   ],
   "source": [
    "my_df = pd.DataFrame(\n",
    "[[\"Biking\", 68.5, 1985, np.nan], [\"Dancing\", 83.1, 1984, 3]],\n",
    "columns=[\"hobby\", \"weight\", \"birthyear\", \"children\"],\n",
    "index=[\"alice\", \"bob\"]\n",
    ")\n",
    "my_df"
   ]
  },
  {
   "cell_type": "markdown",
   "id": "27a0e633",
   "metadata": {},
   "source": [
    "# Saving"
   ]
  },
  {
   "cell_type": "markdown",
   "id": "4a546363",
   "metadata": {},
   "source": [
    "Let's save it to CSV, HTML and JSON:"
   ]
  },
  {
   "cell_type": "code",
   "execution_count": 170,
   "id": "4bd698e3",
   "metadata": {},
   "outputs": [],
   "source": [
    "my_df.to_csv(\"my_df.csv\")\n",
    "my_df.to_html(\"my_df.html\")\n",
    "my_df.to_json(\"my_df.json\")"
   ]
  },
  {
   "cell_type": "code",
   "execution_count": 171,
   "id": "bea5575d",
   "metadata": {},
   "outputs": [
    {
     "name": "stdout",
     "output_type": "stream",
     "text": [
      "# my_df.csv\n",
      ",hobby,weight,birthyear,children\n",
      "alice,Biking,68.5,1985,\n",
      "bob,Dancing,83.1,1984,3.0\n",
      "\n",
      "\n",
      "# my_df.html\n",
      "<table border=\"1\" class=\"dataframe\">\n",
      "  <thead>\n",
      "    <tr style=\"text-align: right;\">\n",
      "      <th></th>\n",
      "      <th>hobby</th>\n",
      "      <th>weight</th>\n",
      "      <th>birthyear</th>\n",
      "      <th>children</th>\n",
      "    </tr>\n",
      "  </thead>\n",
      "  <tbody>\n",
      "    <tr>\n",
      "      <th>alice</th>\n",
      "      <td>Biking</td>\n",
      "      <td>68.5</td>\n",
      "      <td>1985</td>\n",
      "      <td>NaN</td>\n",
      "    </tr>\n",
      "    <tr>\n",
      "      <th>bob</th>\n",
      "      <td>Dancing</td>\n",
      "      <td>83.1</td>\n",
      "      <td>1984</td>\n",
      "      <td>3.0</td>\n",
      "    </tr>\n",
      "  </tbody>\n",
      "</table>\n",
      "\n",
      "# my_df.json\n",
      "{\"hobby\":{\"alice\":\"Biking\",\"bob\":\"Dancing\"},\"weight\":{\"alice\":68.5,\"bob\":83.1},\"birthyear\":{\"alice\":1985,\"bob\":1984},\"children\":{\"alice\":null,\"bob\":3.0}}\n",
      "\n"
     ]
    }
   ],
   "source": [
    "# Done! Let's take a peek at what was saved:\n",
    "for filename in (\"my_df.csv\", \"my_df.html\", \"my_df.json\"):\n",
    "    print(\"#\", filename)\n",
    "    with open(filename, \"rt\") as f:\n",
    "        print(f.read())\n",
    "        print()"
   ]
  },
  {
   "cell_type": "markdown",
   "id": "824ce25a",
   "metadata": {},
   "source": [
    "# Loading"
   ]
  },
  {
   "cell_type": "code",
   "execution_count": 172,
   "id": "3c0c022b",
   "metadata": {},
   "outputs": [
    {
     "data": {
      "text/html": [
       "<div>\n",
       "<style scoped>\n",
       "    .dataframe tbody tr th:only-of-type {\n",
       "        vertical-align: middle;\n",
       "    }\n",
       "\n",
       "    .dataframe tbody tr th {\n",
       "        vertical-align: top;\n",
       "    }\n",
       "\n",
       "    .dataframe thead th {\n",
       "        text-align: right;\n",
       "    }\n",
       "</style>\n",
       "<table border=\"1\" class=\"dataframe\">\n",
       "  <thead>\n",
       "    <tr style=\"text-align: right;\">\n",
       "      <th></th>\n",
       "      <th>hobby</th>\n",
       "      <th>weight</th>\n",
       "      <th>birthyear</th>\n",
       "      <th>children</th>\n",
       "    </tr>\n",
       "  </thead>\n",
       "  <tbody>\n",
       "    <tr>\n",
       "      <th>alice</th>\n",
       "      <td>Biking</td>\n",
       "      <td>68.5</td>\n",
       "      <td>1985</td>\n",
       "      <td>NaN</td>\n",
       "    </tr>\n",
       "    <tr>\n",
       "      <th>bob</th>\n",
       "      <td>Dancing</td>\n",
       "      <td>83.1</td>\n",
       "      <td>1984</td>\n",
       "      <td>3.0</td>\n",
       "    </tr>\n",
       "  </tbody>\n",
       "</table>\n",
       "</div>"
      ],
      "text/plain": [
       "         hobby  weight  birthyear  children\n",
       "alice   Biking    68.5       1985       NaN\n",
       "bob    Dancing    83.1       1984       3.0"
      ]
     },
     "execution_count": 172,
     "metadata": {},
     "output_type": "execute_result"
    }
   ],
   "source": [
    "# Now let's load our CSV file back into a DataFrame:\n",
    "my_df_loaded = pd.read_csv(\"my_df.csv\", index_col=0)\n",
    "my_df_loaded"
   ]
  },
  {
   "cell_type": "markdown",
   "id": "cc07a97a",
   "metadata": {},
   "source": [
    "As you might guess, there are similar read_json, read_html, read_excel functions as well. We can also read data straight from the Internet. For example, let's load the top 1,000 U.S. cities from github:"
   ]
  },
  {
   "cell_type": "code",
   "execution_count": 174,
   "id": "8b89bd05",
   "metadata": {},
   "outputs": [
    {
     "data": {
      "text/html": [
       "<div>\n",
       "<style scoped>\n",
       "    .dataframe tbody tr th:only-of-type {\n",
       "        vertical-align: middle;\n",
       "    }\n",
       "\n",
       "    .dataframe tbody tr th {\n",
       "        vertical-align: top;\n",
       "    }\n",
       "\n",
       "    .dataframe thead th {\n",
       "        text-align: right;\n",
       "    }\n",
       "</style>\n",
       "<table border=\"1\" class=\"dataframe\">\n",
       "  <thead>\n",
       "    <tr style=\"text-align: right;\">\n",
       "      <th></th>\n",
       "      <th>State</th>\n",
       "      <th>Population</th>\n",
       "      <th>lat</th>\n",
       "      <th>lon</th>\n",
       "    </tr>\n",
       "    <tr>\n",
       "      <th>City</th>\n",
       "      <th></th>\n",
       "      <th></th>\n",
       "      <th></th>\n",
       "      <th></th>\n",
       "    </tr>\n",
       "  </thead>\n",
       "  <tbody>\n",
       "    <tr>\n",
       "      <th>Marysville</th>\n",
       "      <td>Washington</td>\n",
       "      <td>63269</td>\n",
       "      <td>48.051764</td>\n",
       "      <td>-122.177082</td>\n",
       "    </tr>\n",
       "    <tr>\n",
       "      <th>Perris</th>\n",
       "      <td>California</td>\n",
       "      <td>72326</td>\n",
       "      <td>33.782519</td>\n",
       "      <td>-117.228648</td>\n",
       "    </tr>\n",
       "    <tr>\n",
       "      <th>Cleveland</th>\n",
       "      <td>Ohio</td>\n",
       "      <td>390113</td>\n",
       "      <td>41.499320</td>\n",
       "      <td>-81.694361</td>\n",
       "    </tr>\n",
       "    <tr>\n",
       "      <th>Worcester</th>\n",
       "      <td>Massachusetts</td>\n",
       "      <td>182544</td>\n",
       "      <td>42.262593</td>\n",
       "      <td>-71.802293</td>\n",
       "    </tr>\n",
       "    <tr>\n",
       "      <th>Columbia</th>\n",
       "      <td>South Carolina</td>\n",
       "      <td>133358</td>\n",
       "      <td>34.000710</td>\n",
       "      <td>-81.034814</td>\n",
       "    </tr>\n",
       "  </tbody>\n",
       "</table>\n",
       "</div>"
      ],
      "text/plain": [
       "                     State  Population        lat         lon\n",
       "City                                                         \n",
       "Marysville      Washington       63269  48.051764 -122.177082\n",
       "Perris          California       72326  33.782519 -117.228648\n",
       "Cleveland             Ohio      390113  41.499320  -81.694361\n",
       "Worcester    Massachusetts      182544  42.262593  -71.802293\n",
       "Columbia    South Carolina      133358  34.000710  -81.034814"
      ]
     },
     "execution_count": 174,
     "metadata": {},
     "output_type": "execute_result"
    }
   ],
   "source": [
    "us_cities = None\n",
    "try:\n",
    "    csv_url = \"https://raw.githubusercontent.com/plotly/datasets/master/us-cities-top-1k.csv\"\n",
    "    us_cities = pd.read_csv(csv_url, index_col=0)\n",
    "    us_cities = us_cities.head()\n",
    "except IOError as e:\n",
    "    print(e)\n",
    "us_cities\n",
    "    "
   ]
  },
  {
   "cell_type": "markdown",
   "id": "9273fa85",
   "metadata": {},
   "source": [
    "# Combining DataFrames"
   ]
  },
  {
   "cell_type": "markdown",
   "id": "2607448b",
   "metadata": {},
   "source": [
    "# SQL-like joins"
   ]
  },
  {
   "cell_type": "markdown",
   "id": "442bd9c2",
   "metadata": {},
   "source": [
    "One powerful feature of pandas is it's ability to perform SQL-like joins on DataFrames. Various types of joins are supported: inner joins, left/right outer joins and full joins. To illustrate this, let's start by creating a couple simple DataFrames:"
   ]
  },
  {
   "cell_type": "code",
   "execution_count": 176,
   "id": "14391bc8",
   "metadata": {},
   "outputs": [
    {
     "data": {
      "text/html": [
       "<div>\n",
       "<style scoped>\n",
       "    .dataframe tbody tr th:only-of-type {\n",
       "        vertical-align: middle;\n",
       "    }\n",
       "\n",
       "    .dataframe tbody tr th {\n",
       "        vertical-align: top;\n",
       "    }\n",
       "\n",
       "    .dataframe thead th {\n",
       "        text-align: right;\n",
       "    }\n",
       "</style>\n",
       "<table border=\"1\" class=\"dataframe\">\n",
       "  <thead>\n",
       "    <tr style=\"text-align: right;\">\n",
       "      <th></th>\n",
       "      <th>state</th>\n",
       "      <th>city</th>\n",
       "      <th>lat</th>\n",
       "      <th>lng</th>\n",
       "    </tr>\n",
       "  </thead>\n",
       "  <tbody>\n",
       "    <tr>\n",
       "      <th>0</th>\n",
       "      <td>CA</td>\n",
       "      <td>San Francisco</td>\n",
       "      <td>37.781334</td>\n",
       "      <td>-122.416728</td>\n",
       "    </tr>\n",
       "    <tr>\n",
       "      <th>1</th>\n",
       "      <td>NY</td>\n",
       "      <td>New York</td>\n",
       "      <td>40.705649</td>\n",
       "      <td>-74.008344</td>\n",
       "    </tr>\n",
       "    <tr>\n",
       "      <th>2</th>\n",
       "      <td>FL</td>\n",
       "      <td>Miami</td>\n",
       "      <td>25.791100</td>\n",
       "      <td>-80.320733</td>\n",
       "    </tr>\n",
       "    <tr>\n",
       "      <th>3</th>\n",
       "      <td>OH</td>\n",
       "      <td>Cleveland</td>\n",
       "      <td>41.373508</td>\n",
       "      <td>-81.739791</td>\n",
       "    </tr>\n",
       "    <tr>\n",
       "      <th>4</th>\n",
       "      <td>UT</td>\n",
       "      <td>Salt Lake City</td>\n",
       "      <td>40.755851</td>\n",
       "      <td>-111.896657</td>\n",
       "    </tr>\n",
       "  </tbody>\n",
       "</table>\n",
       "</div>"
      ],
      "text/plain": [
       "  state            city        lat         lng\n",
       "0    CA   San Francisco  37.781334 -122.416728\n",
       "1    NY        New York  40.705649  -74.008344\n",
       "2    FL           Miami  25.791100  -80.320733\n",
       "3    OH       Cleveland  41.373508  -81.739791\n",
       "4    UT  Salt Lake City  40.755851 -111.896657"
      ]
     },
     "execution_count": 176,
     "metadata": {},
     "output_type": "execute_result"
    }
   ],
   "source": [
    "city_loc = pd.DataFrame(\n",
    "[\n",
    "    [\"CA\", \"San Francisco\", 37.781334, -122.416728],\n",
    "    [\"NY\", \"New York\", 40.705649, -74.008344],\n",
    "    [\"FL\", \"Miami\", 25.791100, -80.320733],\n",
    "    [\"OH\", \"Cleveland\", 41.373508, -81.739791],\n",
    "    [\"UT\", \"Salt Lake City\", 40.755851, -111.896657]\n",
    "], columns=[\"state\", \"city\", \"lat\", \"lng\"])\n",
    "city_loc"
   ]
  },
  {
   "cell_type": "code",
   "execution_count": 178,
   "id": "bde19373",
   "metadata": {},
   "outputs": [
    {
     "data": {
      "text/html": [
       "<div>\n",
       "<style scoped>\n",
       "    .dataframe tbody tr th:only-of-type {\n",
       "        vertical-align: middle;\n",
       "    }\n",
       "\n",
       "    .dataframe tbody tr th {\n",
       "        vertical-align: top;\n",
       "    }\n",
       "\n",
       "    .dataframe thead th {\n",
       "        text-align: right;\n",
       "    }\n",
       "</style>\n",
       "<table border=\"1\" class=\"dataframe\">\n",
       "  <thead>\n",
       "    <tr style=\"text-align: right;\">\n",
       "      <th></th>\n",
       "      <th>population</th>\n",
       "      <th>city</th>\n",
       "      <th>state</th>\n",
       "    </tr>\n",
       "  </thead>\n",
       "  <tbody>\n",
       "    <tr>\n",
       "      <th>3</th>\n",
       "      <td>808976</td>\n",
       "      <td>San Francisco</td>\n",
       "      <td>California</td>\n",
       "    </tr>\n",
       "    <tr>\n",
       "      <th>4</th>\n",
       "      <td>8363710</td>\n",
       "      <td>New York</td>\n",
       "      <td>New-York</td>\n",
       "    </tr>\n",
       "    <tr>\n",
       "      <th>5</th>\n",
       "      <td>413201</td>\n",
       "      <td>Miami</td>\n",
       "      <td>Florida</td>\n",
       "    </tr>\n",
       "    <tr>\n",
       "      <th>6</th>\n",
       "      <td>2242193</td>\n",
       "      <td>Houston</td>\n",
       "      <td>texas</td>\n",
       "    </tr>\n",
       "  </tbody>\n",
       "</table>\n",
       "</div>"
      ],
      "text/plain": [
       "   population           city       state\n",
       "3      808976  San Francisco  California\n",
       "4     8363710       New York    New-York\n",
       "5      413201          Miami     Florida\n",
       "6     2242193        Houston       texas"
      ]
     },
     "execution_count": 178,
     "metadata": {},
     "output_type": "execute_result"
    }
   ],
   "source": [
    "city_pop = pd.DataFrame(\n",
    "[\n",
    "    [808976, \"San Francisco\", \"California\"],\n",
    "     [8363710, \"New York\", \"New-York\"],\n",
    "    [413201, \"Miami\", \"Florida\"],\n",
    "    [2242193, \"Houston\", \"texas\"]\n",
    "], index=[3,4,5,6], columns=[\"population\", \"city\", \"state\"])\n",
    "city_pop"
   ]
  },
  {
   "cell_type": "code",
   "execution_count": 179,
   "id": "c8ddb876",
   "metadata": {},
   "outputs": [
    {
     "data": {
      "text/html": [
       "<div>\n",
       "<style scoped>\n",
       "    .dataframe tbody tr th:only-of-type {\n",
       "        vertical-align: middle;\n",
       "    }\n",
       "\n",
       "    .dataframe tbody tr th {\n",
       "        vertical-align: top;\n",
       "    }\n",
       "\n",
       "    .dataframe thead th {\n",
       "        text-align: right;\n",
       "    }\n",
       "</style>\n",
       "<table border=\"1\" class=\"dataframe\">\n",
       "  <thead>\n",
       "    <tr style=\"text-align: right;\">\n",
       "      <th></th>\n",
       "      <th>state_x</th>\n",
       "      <th>city</th>\n",
       "      <th>lat</th>\n",
       "      <th>lng</th>\n",
       "      <th>population</th>\n",
       "      <th>state_y</th>\n",
       "    </tr>\n",
       "  </thead>\n",
       "  <tbody>\n",
       "    <tr>\n",
       "      <th>0</th>\n",
       "      <td>CA</td>\n",
       "      <td>San Francisco</td>\n",
       "      <td>37.781334</td>\n",
       "      <td>-122.416728</td>\n",
       "      <td>808976</td>\n",
       "      <td>California</td>\n",
       "    </tr>\n",
       "    <tr>\n",
       "      <th>1</th>\n",
       "      <td>NY</td>\n",
       "      <td>New York</td>\n",
       "      <td>40.705649</td>\n",
       "      <td>-74.008344</td>\n",
       "      <td>8363710</td>\n",
       "      <td>New-York</td>\n",
       "    </tr>\n",
       "    <tr>\n",
       "      <th>2</th>\n",
       "      <td>FL</td>\n",
       "      <td>Miami</td>\n",
       "      <td>25.791100</td>\n",
       "      <td>-80.320733</td>\n",
       "      <td>413201</td>\n",
       "      <td>Florida</td>\n",
       "    </tr>\n",
       "  </tbody>\n",
       "</table>\n",
       "</div>"
      ],
      "text/plain": [
       "  state_x           city        lat         lng  population     state_y\n",
       "0      CA  San Francisco  37.781334 -122.416728      808976  California\n",
       "1      NY       New York  40.705649  -74.008344     8363710    New-York\n",
       "2      FL          Miami  25.791100  -80.320733      413201     Florida"
      ]
     },
     "execution_count": 179,
     "metadata": {},
     "output_type": "execute_result"
    }
   ],
   "source": [
    "# Now let's join these DataFrames using the merge() function:\n",
    "\n",
    "pd.merge(left=city_loc, right=city_pop, on=\"city\")"
   ]
  },
  {
   "cell_type": "markdown",
   "id": "94046210",
   "metadata": {},
   "source": [
    "Note that both DataFrames have a column named state, so in the result they got renamed to state_x and state_y."
   ]
  },
  {
   "cell_type": "markdown",
   "id": "2f9ae8d9",
   "metadata": {},
   "source": [
    "Also, note that Cleveland, Salt Lake City and Houston were dropped because they don't exist in both DataFrames. This is the equivalent of a SQL INNER JOIN. If you want a FULL OUTER JOIN, where no city gets dropped and NaN values are added, you must specify how=\"outer\":"
   ]
  },
  {
   "cell_type": "code",
   "execution_count": 180,
   "id": "ee4f1e1c",
   "metadata": {},
   "outputs": [
    {
     "data": {
      "text/html": [
       "<div>\n",
       "<style scoped>\n",
       "    .dataframe tbody tr th:only-of-type {\n",
       "        vertical-align: middle;\n",
       "    }\n",
       "\n",
       "    .dataframe tbody tr th {\n",
       "        vertical-align: top;\n",
       "    }\n",
       "\n",
       "    .dataframe thead th {\n",
       "        text-align: right;\n",
       "    }\n",
       "</style>\n",
       "<table border=\"1\" class=\"dataframe\">\n",
       "  <thead>\n",
       "    <tr style=\"text-align: right;\">\n",
       "      <th></th>\n",
       "      <th>state_x</th>\n",
       "      <th>city</th>\n",
       "      <th>lat</th>\n",
       "      <th>lng</th>\n",
       "      <th>population</th>\n",
       "      <th>state_y</th>\n",
       "    </tr>\n",
       "  </thead>\n",
       "  <tbody>\n",
       "    <tr>\n",
       "      <th>0</th>\n",
       "      <td>CA</td>\n",
       "      <td>San Francisco</td>\n",
       "      <td>37.781334</td>\n",
       "      <td>-122.416728</td>\n",
       "      <td>808976.0</td>\n",
       "      <td>California</td>\n",
       "    </tr>\n",
       "    <tr>\n",
       "      <th>1</th>\n",
       "      <td>NY</td>\n",
       "      <td>New York</td>\n",
       "      <td>40.705649</td>\n",
       "      <td>-74.008344</td>\n",
       "      <td>8363710.0</td>\n",
       "      <td>New-York</td>\n",
       "    </tr>\n",
       "    <tr>\n",
       "      <th>2</th>\n",
       "      <td>FL</td>\n",
       "      <td>Miami</td>\n",
       "      <td>25.791100</td>\n",
       "      <td>-80.320733</td>\n",
       "      <td>413201.0</td>\n",
       "      <td>Florida</td>\n",
       "    </tr>\n",
       "    <tr>\n",
       "      <th>3</th>\n",
       "      <td>OH</td>\n",
       "      <td>Cleveland</td>\n",
       "      <td>41.373508</td>\n",
       "      <td>-81.739791</td>\n",
       "      <td>NaN</td>\n",
       "      <td>NaN</td>\n",
       "    </tr>\n",
       "    <tr>\n",
       "      <th>4</th>\n",
       "      <td>UT</td>\n",
       "      <td>Salt Lake City</td>\n",
       "      <td>40.755851</td>\n",
       "      <td>-111.896657</td>\n",
       "      <td>NaN</td>\n",
       "      <td>NaN</td>\n",
       "    </tr>\n",
       "    <tr>\n",
       "      <th>5</th>\n",
       "      <td>NaN</td>\n",
       "      <td>Houston</td>\n",
       "      <td>NaN</td>\n",
       "      <td>NaN</td>\n",
       "      <td>2242193.0</td>\n",
       "      <td>texas</td>\n",
       "    </tr>\n",
       "  </tbody>\n",
       "</table>\n",
       "</div>"
      ],
      "text/plain": [
       "  state_x            city        lat         lng  population     state_y\n",
       "0      CA   San Francisco  37.781334 -122.416728    808976.0  California\n",
       "1      NY        New York  40.705649  -74.008344   8363710.0    New-York\n",
       "2      FL           Miami  25.791100  -80.320733    413201.0     Florida\n",
       "3      OH       Cleveland  41.373508  -81.739791         NaN         NaN\n",
       "4      UT  Salt Lake City  40.755851 -111.896657         NaN         NaN\n",
       "5     NaN         Houston        NaN         NaN   2242193.0       texas"
      ]
     },
     "execution_count": 180,
     "metadata": {},
     "output_type": "execute_result"
    }
   ],
   "source": [
    "all_cities = pd.merge(left=city_loc, right=city_pop, on=\"city\", how=\"outer\")\n",
    "all_cities"
   ]
  },
  {
   "cell_type": "markdown",
   "id": "22d1aeae",
   "metadata": {},
   "source": [
    "Of course LEFT OUTER JOIN is also available by setting how=\"left\": only the cities present in the left DataFrame end up in the result. Similarly, with how=\"right\" only cities in the right DataFrame appear in the result. For example:"
   ]
  },
  {
   "cell_type": "code",
   "execution_count": 181,
   "id": "71be939b",
   "metadata": {},
   "outputs": [
    {
     "data": {
      "text/html": [
       "<div>\n",
       "<style scoped>\n",
       "    .dataframe tbody tr th:only-of-type {\n",
       "        vertical-align: middle;\n",
       "    }\n",
       "\n",
       "    .dataframe tbody tr th {\n",
       "        vertical-align: top;\n",
       "    }\n",
       "\n",
       "    .dataframe thead th {\n",
       "        text-align: right;\n",
       "    }\n",
       "</style>\n",
       "<table border=\"1\" class=\"dataframe\">\n",
       "  <thead>\n",
       "    <tr style=\"text-align: right;\">\n",
       "      <th></th>\n",
       "      <th>state_x</th>\n",
       "      <th>city</th>\n",
       "      <th>lat</th>\n",
       "      <th>lng</th>\n",
       "      <th>population</th>\n",
       "      <th>state_y</th>\n",
       "    </tr>\n",
       "  </thead>\n",
       "  <tbody>\n",
       "    <tr>\n",
       "      <th>0</th>\n",
       "      <td>CA</td>\n",
       "      <td>San Francisco</td>\n",
       "      <td>37.781334</td>\n",
       "      <td>-122.416728</td>\n",
       "      <td>808976</td>\n",
       "      <td>California</td>\n",
       "    </tr>\n",
       "    <tr>\n",
       "      <th>1</th>\n",
       "      <td>NY</td>\n",
       "      <td>New York</td>\n",
       "      <td>40.705649</td>\n",
       "      <td>-74.008344</td>\n",
       "      <td>8363710</td>\n",
       "      <td>New-York</td>\n",
       "    </tr>\n",
       "    <tr>\n",
       "      <th>2</th>\n",
       "      <td>FL</td>\n",
       "      <td>Miami</td>\n",
       "      <td>25.791100</td>\n",
       "      <td>-80.320733</td>\n",
       "      <td>413201</td>\n",
       "      <td>Florida</td>\n",
       "    </tr>\n",
       "    <tr>\n",
       "      <th>3</th>\n",
       "      <td>NaN</td>\n",
       "      <td>Houston</td>\n",
       "      <td>NaN</td>\n",
       "      <td>NaN</td>\n",
       "      <td>2242193</td>\n",
       "      <td>texas</td>\n",
       "    </tr>\n",
       "  </tbody>\n",
       "</table>\n",
       "</div>"
      ],
      "text/plain": [
       "  state_x           city        lat         lng  population     state_y\n",
       "0      CA  San Francisco  37.781334 -122.416728      808976  California\n",
       "1      NY       New York  40.705649  -74.008344     8363710    New-York\n",
       "2      FL          Miami  25.791100  -80.320733      413201     Florida\n",
       "3     NaN        Houston        NaN         NaN     2242193       texas"
      ]
     },
     "execution_count": 181,
     "metadata": {},
     "output_type": "execute_result"
    }
   ],
   "source": [
    "pd.merge(left=city_loc, right=city_pop, on=\"city\", how=\"right\")"
   ]
  },
  {
   "cell_type": "markdown",
   "id": "149f8160",
   "metadata": {},
   "source": [
    "If the key to join on is actually in one (or both) DataFrame's index, you must use left_index=True and/or right_index=True. If the key column names differ, you must use left_on and right_on. For example:"
   ]
  },
  {
   "cell_type": "code",
   "execution_count": 182,
   "id": "041f6ec6",
   "metadata": {},
   "outputs": [
    {
     "data": {
      "text/html": [
       "<div>\n",
       "<style scoped>\n",
       "    .dataframe tbody tr th:only-of-type {\n",
       "        vertical-align: middle;\n",
       "    }\n",
       "\n",
       "    .dataframe tbody tr th {\n",
       "        vertical-align: top;\n",
       "    }\n",
       "\n",
       "    .dataframe thead th {\n",
       "        text-align: right;\n",
       "    }\n",
       "</style>\n",
       "<table border=\"1\" class=\"dataframe\">\n",
       "  <thead>\n",
       "    <tr style=\"text-align: right;\">\n",
       "      <th></th>\n",
       "      <th>state_x</th>\n",
       "      <th>city</th>\n",
       "      <th>lat</th>\n",
       "      <th>lng</th>\n",
       "      <th>population</th>\n",
       "      <th>name</th>\n",
       "      <th>state_y</th>\n",
       "    </tr>\n",
       "  </thead>\n",
       "  <tbody>\n",
       "    <tr>\n",
       "      <th>0</th>\n",
       "      <td>CA</td>\n",
       "      <td>San Francisco</td>\n",
       "      <td>37.781334</td>\n",
       "      <td>-122.416728</td>\n",
       "      <td>808976</td>\n",
       "      <td>San Francisco</td>\n",
       "      <td>California</td>\n",
       "    </tr>\n",
       "    <tr>\n",
       "      <th>1</th>\n",
       "      <td>NY</td>\n",
       "      <td>New York</td>\n",
       "      <td>40.705649</td>\n",
       "      <td>-74.008344</td>\n",
       "      <td>8363710</td>\n",
       "      <td>New York</td>\n",
       "      <td>New-York</td>\n",
       "    </tr>\n",
       "    <tr>\n",
       "      <th>2</th>\n",
       "      <td>FL</td>\n",
       "      <td>Miami</td>\n",
       "      <td>25.791100</td>\n",
       "      <td>-80.320733</td>\n",
       "      <td>413201</td>\n",
       "      <td>Miami</td>\n",
       "      <td>Florida</td>\n",
       "    </tr>\n",
       "  </tbody>\n",
       "</table>\n",
       "</div>"
      ],
      "text/plain": [
       "  state_x           city        lat         lng  population           name  \\\n",
       "0      CA  San Francisco  37.781334 -122.416728      808976  San Francisco   \n",
       "1      NY       New York  40.705649  -74.008344     8363710       New York   \n",
       "2      FL          Miami  25.791100  -80.320733      413201          Miami   \n",
       "\n",
       "      state_y  \n",
       "0  California  \n",
       "1    New-York  \n",
       "2     Florida  "
      ]
     },
     "execution_count": 182,
     "metadata": {},
     "output_type": "execute_result"
    }
   ],
   "source": [
    "city_pop2 = city_pop.copy()\n",
    "city_pop2.columns = [\"population\", \"name\", \"state\"]\n",
    "pd.merge(left=city_loc, right=city_pop2, left_on=\"city\", right_on=\"name\")"
   ]
  },
  {
   "cell_type": "markdown",
   "id": "a7b4aca4",
   "metadata": {},
   "source": [
    "# Concatenation"
   ]
  },
  {
   "cell_type": "markdown",
   "id": "4615a02c",
   "metadata": {},
   "source": [
    "Rather than joining DataFrames, we may just want to concatenate them. That's what concat() is for:"
   ]
  },
  {
   "cell_type": "code",
   "execution_count": 183,
   "id": "19502dbf",
   "metadata": {},
   "outputs": [
    {
     "data": {
      "text/html": [
       "<div>\n",
       "<style scoped>\n",
       "    .dataframe tbody tr th:only-of-type {\n",
       "        vertical-align: middle;\n",
       "    }\n",
       "\n",
       "    .dataframe tbody tr th {\n",
       "        vertical-align: top;\n",
       "    }\n",
       "\n",
       "    .dataframe thead th {\n",
       "        text-align: right;\n",
       "    }\n",
       "</style>\n",
       "<table border=\"1\" class=\"dataframe\">\n",
       "  <thead>\n",
       "    <tr style=\"text-align: right;\">\n",
       "      <th></th>\n",
       "      <th>state</th>\n",
       "      <th>city</th>\n",
       "      <th>lat</th>\n",
       "      <th>lng</th>\n",
       "      <th>population</th>\n",
       "    </tr>\n",
       "  </thead>\n",
       "  <tbody>\n",
       "    <tr>\n",
       "      <th>0</th>\n",
       "      <td>CA</td>\n",
       "      <td>San Francisco</td>\n",
       "      <td>37.781334</td>\n",
       "      <td>-122.416728</td>\n",
       "      <td>NaN</td>\n",
       "    </tr>\n",
       "    <tr>\n",
       "      <th>1</th>\n",
       "      <td>NY</td>\n",
       "      <td>New York</td>\n",
       "      <td>40.705649</td>\n",
       "      <td>-74.008344</td>\n",
       "      <td>NaN</td>\n",
       "    </tr>\n",
       "    <tr>\n",
       "      <th>2</th>\n",
       "      <td>FL</td>\n",
       "      <td>Miami</td>\n",
       "      <td>25.791100</td>\n",
       "      <td>-80.320733</td>\n",
       "      <td>NaN</td>\n",
       "    </tr>\n",
       "    <tr>\n",
       "      <th>3</th>\n",
       "      <td>OH</td>\n",
       "      <td>Cleveland</td>\n",
       "      <td>41.373508</td>\n",
       "      <td>-81.739791</td>\n",
       "      <td>NaN</td>\n",
       "    </tr>\n",
       "    <tr>\n",
       "      <th>4</th>\n",
       "      <td>UT</td>\n",
       "      <td>Salt Lake City</td>\n",
       "      <td>40.755851</td>\n",
       "      <td>-111.896657</td>\n",
       "      <td>NaN</td>\n",
       "    </tr>\n",
       "    <tr>\n",
       "      <th>3</th>\n",
       "      <td>California</td>\n",
       "      <td>San Francisco</td>\n",
       "      <td>NaN</td>\n",
       "      <td>NaN</td>\n",
       "      <td>808976.0</td>\n",
       "    </tr>\n",
       "    <tr>\n",
       "      <th>4</th>\n",
       "      <td>New-York</td>\n",
       "      <td>New York</td>\n",
       "      <td>NaN</td>\n",
       "      <td>NaN</td>\n",
       "      <td>8363710.0</td>\n",
       "    </tr>\n",
       "    <tr>\n",
       "      <th>5</th>\n",
       "      <td>Florida</td>\n",
       "      <td>Miami</td>\n",
       "      <td>NaN</td>\n",
       "      <td>NaN</td>\n",
       "      <td>413201.0</td>\n",
       "    </tr>\n",
       "    <tr>\n",
       "      <th>6</th>\n",
       "      <td>texas</td>\n",
       "      <td>Houston</td>\n",
       "      <td>NaN</td>\n",
       "      <td>NaN</td>\n",
       "      <td>2242193.0</td>\n",
       "    </tr>\n",
       "  </tbody>\n",
       "</table>\n",
       "</div>"
      ],
      "text/plain": [
       "        state            city        lat         lng  population\n",
       "0          CA   San Francisco  37.781334 -122.416728         NaN\n",
       "1          NY        New York  40.705649  -74.008344         NaN\n",
       "2          FL           Miami  25.791100  -80.320733         NaN\n",
       "3          OH       Cleveland  41.373508  -81.739791         NaN\n",
       "4          UT  Salt Lake City  40.755851 -111.896657         NaN\n",
       "3  California   San Francisco        NaN         NaN    808976.0\n",
       "4    New-York        New York        NaN         NaN   8363710.0\n",
       "5     Florida           Miami        NaN         NaN    413201.0\n",
       "6       texas         Houston        NaN         NaN   2242193.0"
      ]
     },
     "execution_count": 183,
     "metadata": {},
     "output_type": "execute_result"
    }
   ],
   "source": [
    "result_concat = pd.concat([city_loc, city_pop])\n",
    "result_concat"
   ]
  },
  {
   "cell_type": "markdown",
   "id": "145d8c4e",
   "metadata": {},
   "source": [
    "Note that this operation aligned the data horizontally (by columns) but not vertically (by rows). In this example, we end up with multiple rows having the same index (eg. 3). Pandas handles this rather gracefully:"
   ]
  },
  {
   "cell_type": "code",
   "execution_count": 184,
   "id": "998c6711",
   "metadata": {},
   "outputs": [
    {
     "data": {
      "text/html": [
       "<div>\n",
       "<style scoped>\n",
       "    .dataframe tbody tr th:only-of-type {\n",
       "        vertical-align: middle;\n",
       "    }\n",
       "\n",
       "    .dataframe tbody tr th {\n",
       "        vertical-align: top;\n",
       "    }\n",
       "\n",
       "    .dataframe thead th {\n",
       "        text-align: right;\n",
       "    }\n",
       "</style>\n",
       "<table border=\"1\" class=\"dataframe\">\n",
       "  <thead>\n",
       "    <tr style=\"text-align: right;\">\n",
       "      <th></th>\n",
       "      <th>state</th>\n",
       "      <th>city</th>\n",
       "      <th>lat</th>\n",
       "      <th>lng</th>\n",
       "      <th>population</th>\n",
       "    </tr>\n",
       "  </thead>\n",
       "  <tbody>\n",
       "    <tr>\n",
       "      <th>3</th>\n",
       "      <td>OH</td>\n",
       "      <td>Cleveland</td>\n",
       "      <td>41.373508</td>\n",
       "      <td>-81.739791</td>\n",
       "      <td>NaN</td>\n",
       "    </tr>\n",
       "    <tr>\n",
       "      <th>3</th>\n",
       "      <td>California</td>\n",
       "      <td>San Francisco</td>\n",
       "      <td>NaN</td>\n",
       "      <td>NaN</td>\n",
       "      <td>808976.0</td>\n",
       "    </tr>\n",
       "  </tbody>\n",
       "</table>\n",
       "</div>"
      ],
      "text/plain": [
       "        state           city        lat        lng  population\n",
       "3          OH      Cleveland  41.373508 -81.739791         NaN\n",
       "3  California  San Francisco        NaN        NaN    808976.0"
      ]
     },
     "execution_count": 184,
     "metadata": {},
     "output_type": "execute_result"
    }
   ],
   "source": [
    "result_concat.loc[3]"
   ]
  },
  {
   "cell_type": "markdown",
   "id": "4d3d605b",
   "metadata": {},
   "source": [
    "Or you can tell pandas to just ignore the index:"
   ]
  },
  {
   "cell_type": "code",
   "execution_count": 185,
   "id": "0319e973",
   "metadata": {},
   "outputs": [
    {
     "data": {
      "text/html": [
       "<div>\n",
       "<style scoped>\n",
       "    .dataframe tbody tr th:only-of-type {\n",
       "        vertical-align: middle;\n",
       "    }\n",
       "\n",
       "    .dataframe tbody tr th {\n",
       "        vertical-align: top;\n",
       "    }\n",
       "\n",
       "    .dataframe thead th {\n",
       "        text-align: right;\n",
       "    }\n",
       "</style>\n",
       "<table border=\"1\" class=\"dataframe\">\n",
       "  <thead>\n",
       "    <tr style=\"text-align: right;\">\n",
       "      <th></th>\n",
       "      <th>state</th>\n",
       "      <th>city</th>\n",
       "      <th>lat</th>\n",
       "      <th>lng</th>\n",
       "      <th>population</th>\n",
       "    </tr>\n",
       "  </thead>\n",
       "  <tbody>\n",
       "    <tr>\n",
       "      <th>0</th>\n",
       "      <td>CA</td>\n",
       "      <td>San Francisco</td>\n",
       "      <td>37.781334</td>\n",
       "      <td>-122.416728</td>\n",
       "      <td>NaN</td>\n",
       "    </tr>\n",
       "    <tr>\n",
       "      <th>1</th>\n",
       "      <td>NY</td>\n",
       "      <td>New York</td>\n",
       "      <td>40.705649</td>\n",
       "      <td>-74.008344</td>\n",
       "      <td>NaN</td>\n",
       "    </tr>\n",
       "    <tr>\n",
       "      <th>2</th>\n",
       "      <td>FL</td>\n",
       "      <td>Miami</td>\n",
       "      <td>25.791100</td>\n",
       "      <td>-80.320733</td>\n",
       "      <td>NaN</td>\n",
       "    </tr>\n",
       "    <tr>\n",
       "      <th>3</th>\n",
       "      <td>OH</td>\n",
       "      <td>Cleveland</td>\n",
       "      <td>41.373508</td>\n",
       "      <td>-81.739791</td>\n",
       "      <td>NaN</td>\n",
       "    </tr>\n",
       "    <tr>\n",
       "      <th>4</th>\n",
       "      <td>UT</td>\n",
       "      <td>Salt Lake City</td>\n",
       "      <td>40.755851</td>\n",
       "      <td>-111.896657</td>\n",
       "      <td>NaN</td>\n",
       "    </tr>\n",
       "    <tr>\n",
       "      <th>5</th>\n",
       "      <td>California</td>\n",
       "      <td>San Francisco</td>\n",
       "      <td>NaN</td>\n",
       "      <td>NaN</td>\n",
       "      <td>808976.0</td>\n",
       "    </tr>\n",
       "    <tr>\n",
       "      <th>6</th>\n",
       "      <td>New-York</td>\n",
       "      <td>New York</td>\n",
       "      <td>NaN</td>\n",
       "      <td>NaN</td>\n",
       "      <td>8363710.0</td>\n",
       "    </tr>\n",
       "    <tr>\n",
       "      <th>7</th>\n",
       "      <td>Florida</td>\n",
       "      <td>Miami</td>\n",
       "      <td>NaN</td>\n",
       "      <td>NaN</td>\n",
       "      <td>413201.0</td>\n",
       "    </tr>\n",
       "    <tr>\n",
       "      <th>8</th>\n",
       "      <td>texas</td>\n",
       "      <td>Houston</td>\n",
       "      <td>NaN</td>\n",
       "      <td>NaN</td>\n",
       "      <td>2242193.0</td>\n",
       "    </tr>\n",
       "  </tbody>\n",
       "</table>\n",
       "</div>"
      ],
      "text/plain": [
       "        state            city        lat         lng  population\n",
       "0          CA   San Francisco  37.781334 -122.416728         NaN\n",
       "1          NY        New York  40.705649  -74.008344         NaN\n",
       "2          FL           Miami  25.791100  -80.320733         NaN\n",
       "3          OH       Cleveland  41.373508  -81.739791         NaN\n",
       "4          UT  Salt Lake City  40.755851 -111.896657         NaN\n",
       "5  California   San Francisco        NaN         NaN    808976.0\n",
       "6    New-York        New York        NaN         NaN   8363710.0\n",
       "7     Florida           Miami        NaN         NaN    413201.0\n",
       "8       texas         Houston        NaN         NaN   2242193.0"
      ]
     },
     "execution_count": 185,
     "metadata": {},
     "output_type": "execute_result"
    }
   ],
   "source": [
    "pd.concat([city_loc, city_pop], ignore_index=True)"
   ]
  },
  {
   "cell_type": "markdown",
   "id": "4965efe9",
   "metadata": {},
   "source": [
    "Notice that when a column does not exist in a DataFrame, it acts as if it was filled with NaN values. If we set join=\"inner\", then only columns that exist in both DataFrames are returned:"
   ]
  },
  {
   "cell_type": "code",
   "execution_count": 186,
   "id": "6accfb5d",
   "metadata": {},
   "outputs": [
    {
     "data": {
      "text/html": [
       "<div>\n",
       "<style scoped>\n",
       "    .dataframe tbody tr th:only-of-type {\n",
       "        vertical-align: middle;\n",
       "    }\n",
       "\n",
       "    .dataframe tbody tr th {\n",
       "        vertical-align: top;\n",
       "    }\n",
       "\n",
       "    .dataframe thead th {\n",
       "        text-align: right;\n",
       "    }\n",
       "</style>\n",
       "<table border=\"1\" class=\"dataframe\">\n",
       "  <thead>\n",
       "    <tr style=\"text-align: right;\">\n",
       "      <th></th>\n",
       "      <th>state</th>\n",
       "      <th>city</th>\n",
       "    </tr>\n",
       "  </thead>\n",
       "  <tbody>\n",
       "    <tr>\n",
       "      <th>0</th>\n",
       "      <td>CA</td>\n",
       "      <td>San Francisco</td>\n",
       "    </tr>\n",
       "    <tr>\n",
       "      <th>1</th>\n",
       "      <td>NY</td>\n",
       "      <td>New York</td>\n",
       "    </tr>\n",
       "    <tr>\n",
       "      <th>2</th>\n",
       "      <td>FL</td>\n",
       "      <td>Miami</td>\n",
       "    </tr>\n",
       "    <tr>\n",
       "      <th>3</th>\n",
       "      <td>OH</td>\n",
       "      <td>Cleveland</td>\n",
       "    </tr>\n",
       "    <tr>\n",
       "      <th>4</th>\n",
       "      <td>UT</td>\n",
       "      <td>Salt Lake City</td>\n",
       "    </tr>\n",
       "    <tr>\n",
       "      <th>3</th>\n",
       "      <td>California</td>\n",
       "      <td>San Francisco</td>\n",
       "    </tr>\n",
       "    <tr>\n",
       "      <th>4</th>\n",
       "      <td>New-York</td>\n",
       "      <td>New York</td>\n",
       "    </tr>\n",
       "    <tr>\n",
       "      <th>5</th>\n",
       "      <td>Florida</td>\n",
       "      <td>Miami</td>\n",
       "    </tr>\n",
       "    <tr>\n",
       "      <th>6</th>\n",
       "      <td>texas</td>\n",
       "      <td>Houston</td>\n",
       "    </tr>\n",
       "  </tbody>\n",
       "</table>\n",
       "</div>"
      ],
      "text/plain": [
       "        state            city\n",
       "0          CA   San Francisco\n",
       "1          NY        New York\n",
       "2          FL           Miami\n",
       "3          OH       Cleveland\n",
       "4          UT  Salt Lake City\n",
       "3  California   San Francisco\n",
       "4    New-York        New York\n",
       "5     Florida           Miami\n",
       "6       texas         Houston"
      ]
     },
     "execution_count": 186,
     "metadata": {},
     "output_type": "execute_result"
    }
   ],
   "source": [
    "pd.concat([city_loc, city_pop], join=\"inner\")"
   ]
  },
  {
   "cell_type": "markdown",
   "id": "8d09e3f2",
   "metadata": {},
   "source": [
    "You can concatenate DataFrames horizontally instead of vertically by setting axis=1:"
   ]
  },
  {
   "cell_type": "code",
   "execution_count": 187,
   "id": "93e25202",
   "metadata": {},
   "outputs": [
    {
     "data": {
      "text/html": [
       "<div>\n",
       "<style scoped>\n",
       "    .dataframe tbody tr th:only-of-type {\n",
       "        vertical-align: middle;\n",
       "    }\n",
       "\n",
       "    .dataframe tbody tr th {\n",
       "        vertical-align: top;\n",
       "    }\n",
       "\n",
       "    .dataframe thead th {\n",
       "        text-align: right;\n",
       "    }\n",
       "</style>\n",
       "<table border=\"1\" class=\"dataframe\">\n",
       "  <thead>\n",
       "    <tr style=\"text-align: right;\">\n",
       "      <th></th>\n",
       "      <th>state</th>\n",
       "      <th>city</th>\n",
       "      <th>lat</th>\n",
       "      <th>lng</th>\n",
       "      <th>population</th>\n",
       "      <th>city</th>\n",
       "      <th>state</th>\n",
       "    </tr>\n",
       "  </thead>\n",
       "  <tbody>\n",
       "    <tr>\n",
       "      <th>0</th>\n",
       "      <td>CA</td>\n",
       "      <td>San Francisco</td>\n",
       "      <td>37.781334</td>\n",
       "      <td>-122.416728</td>\n",
       "      <td>NaN</td>\n",
       "      <td>NaN</td>\n",
       "      <td>NaN</td>\n",
       "    </tr>\n",
       "    <tr>\n",
       "      <th>1</th>\n",
       "      <td>NY</td>\n",
       "      <td>New York</td>\n",
       "      <td>40.705649</td>\n",
       "      <td>-74.008344</td>\n",
       "      <td>NaN</td>\n",
       "      <td>NaN</td>\n",
       "      <td>NaN</td>\n",
       "    </tr>\n",
       "    <tr>\n",
       "      <th>2</th>\n",
       "      <td>FL</td>\n",
       "      <td>Miami</td>\n",
       "      <td>25.791100</td>\n",
       "      <td>-80.320733</td>\n",
       "      <td>NaN</td>\n",
       "      <td>NaN</td>\n",
       "      <td>NaN</td>\n",
       "    </tr>\n",
       "    <tr>\n",
       "      <th>3</th>\n",
       "      <td>OH</td>\n",
       "      <td>Cleveland</td>\n",
       "      <td>41.373508</td>\n",
       "      <td>-81.739791</td>\n",
       "      <td>808976.0</td>\n",
       "      <td>San Francisco</td>\n",
       "      <td>California</td>\n",
       "    </tr>\n",
       "    <tr>\n",
       "      <th>4</th>\n",
       "      <td>UT</td>\n",
       "      <td>Salt Lake City</td>\n",
       "      <td>40.755851</td>\n",
       "      <td>-111.896657</td>\n",
       "      <td>8363710.0</td>\n",
       "      <td>New York</td>\n",
       "      <td>New-York</td>\n",
       "    </tr>\n",
       "    <tr>\n",
       "      <th>5</th>\n",
       "      <td>NaN</td>\n",
       "      <td>NaN</td>\n",
       "      <td>NaN</td>\n",
       "      <td>NaN</td>\n",
       "      <td>413201.0</td>\n",
       "      <td>Miami</td>\n",
       "      <td>Florida</td>\n",
       "    </tr>\n",
       "    <tr>\n",
       "      <th>6</th>\n",
       "      <td>NaN</td>\n",
       "      <td>NaN</td>\n",
       "      <td>NaN</td>\n",
       "      <td>NaN</td>\n",
       "      <td>2242193.0</td>\n",
       "      <td>Houston</td>\n",
       "      <td>texas</td>\n",
       "    </tr>\n",
       "  </tbody>\n",
       "</table>\n",
       "</div>"
      ],
      "text/plain": [
       "  state            city        lat         lng  population           city  \\\n",
       "0    CA   San Francisco  37.781334 -122.416728         NaN            NaN   \n",
       "1    NY        New York  40.705649  -74.008344         NaN            NaN   \n",
       "2    FL           Miami  25.791100  -80.320733         NaN            NaN   \n",
       "3    OH       Cleveland  41.373508  -81.739791    808976.0  San Francisco   \n",
       "4    UT  Salt Lake City  40.755851 -111.896657   8363710.0       New York   \n",
       "5   NaN             NaN        NaN         NaN    413201.0          Miami   \n",
       "6   NaN             NaN        NaN         NaN   2242193.0        Houston   \n",
       "\n",
       "        state  \n",
       "0         NaN  \n",
       "1         NaN  \n",
       "2         NaN  \n",
       "3  California  \n",
       "4    New-York  \n",
       "5     Florida  \n",
       "6       texas  "
      ]
     },
     "execution_count": 187,
     "metadata": {},
     "output_type": "execute_result"
    }
   ],
   "source": [
    "pd.concat([city_loc, city_pop], axis=1)"
   ]
  },
  {
   "cell_type": "markdown",
   "id": "269fc16a",
   "metadata": {},
   "source": [
    "In this case it really does not make much sense because the indices do not align well (eg. Cleveland and San Francisco end up on the same row, because they shared the index label 3). So let's reindex the DataFrames by city name before concatenating:"
   ]
  },
  {
   "cell_type": "code",
   "execution_count": 188,
   "id": "ae062a58",
   "metadata": {},
   "outputs": [
    {
     "data": {
      "text/html": [
       "<div>\n",
       "<style scoped>\n",
       "    .dataframe tbody tr th:only-of-type {\n",
       "        vertical-align: middle;\n",
       "    }\n",
       "\n",
       "    .dataframe tbody tr th {\n",
       "        vertical-align: top;\n",
       "    }\n",
       "\n",
       "    .dataframe thead th {\n",
       "        text-align: right;\n",
       "    }\n",
       "</style>\n",
       "<table border=\"1\" class=\"dataframe\">\n",
       "  <thead>\n",
       "    <tr style=\"text-align: right;\">\n",
       "      <th></th>\n",
       "      <th>state</th>\n",
       "      <th>lat</th>\n",
       "      <th>lng</th>\n",
       "      <th>population</th>\n",
       "      <th>state</th>\n",
       "    </tr>\n",
       "    <tr>\n",
       "      <th>city</th>\n",
       "      <th></th>\n",
       "      <th></th>\n",
       "      <th></th>\n",
       "      <th></th>\n",
       "      <th></th>\n",
       "    </tr>\n",
       "  </thead>\n",
       "  <tbody>\n",
       "    <tr>\n",
       "      <th>San Francisco</th>\n",
       "      <td>CA</td>\n",
       "      <td>37.781334</td>\n",
       "      <td>-122.416728</td>\n",
       "      <td>808976.0</td>\n",
       "      <td>California</td>\n",
       "    </tr>\n",
       "    <tr>\n",
       "      <th>New York</th>\n",
       "      <td>NY</td>\n",
       "      <td>40.705649</td>\n",
       "      <td>-74.008344</td>\n",
       "      <td>8363710.0</td>\n",
       "      <td>New-York</td>\n",
       "    </tr>\n",
       "    <tr>\n",
       "      <th>Miami</th>\n",
       "      <td>FL</td>\n",
       "      <td>25.791100</td>\n",
       "      <td>-80.320733</td>\n",
       "      <td>413201.0</td>\n",
       "      <td>Florida</td>\n",
       "    </tr>\n",
       "    <tr>\n",
       "      <th>Cleveland</th>\n",
       "      <td>OH</td>\n",
       "      <td>41.373508</td>\n",
       "      <td>-81.739791</td>\n",
       "      <td>NaN</td>\n",
       "      <td>NaN</td>\n",
       "    </tr>\n",
       "    <tr>\n",
       "      <th>Salt Lake City</th>\n",
       "      <td>UT</td>\n",
       "      <td>40.755851</td>\n",
       "      <td>-111.896657</td>\n",
       "      <td>NaN</td>\n",
       "      <td>NaN</td>\n",
       "    </tr>\n",
       "    <tr>\n",
       "      <th>Houston</th>\n",
       "      <td>NaN</td>\n",
       "      <td>NaN</td>\n",
       "      <td>NaN</td>\n",
       "      <td>2242193.0</td>\n",
       "      <td>texas</td>\n",
       "    </tr>\n",
       "  </tbody>\n",
       "</table>\n",
       "</div>"
      ],
      "text/plain": [
       "               state        lat         lng  population       state\n",
       "city                                                               \n",
       "San Francisco     CA  37.781334 -122.416728    808976.0  California\n",
       "New York          NY  40.705649  -74.008344   8363710.0    New-York\n",
       "Miami             FL  25.791100  -80.320733    413201.0     Florida\n",
       "Cleveland         OH  41.373508  -81.739791         NaN         NaN\n",
       "Salt Lake City    UT  40.755851 -111.896657         NaN         NaN\n",
       "Houston          NaN        NaN         NaN   2242193.0       texas"
      ]
     },
     "execution_count": 188,
     "metadata": {},
     "output_type": "execute_result"
    }
   ],
   "source": [
    "pd.concat([city_loc.set_index(\"city\"), city_pop.set_index(\"city\")], axis=1)"
   ]
  },
  {
   "cell_type": "markdown",
   "id": "26004ed0",
   "metadata": {},
   "source": [
    "This looks a lot like a FULL OUTER JOIN, except that the state columns were not renamed to state_x and state_y, and the city column is now the index."
   ]
  },
  {
   "cell_type": "markdown",
   "id": "4e8ff7a7",
   "metadata": {},
   "source": [
    "# Categories"
   ]
  },
  {
   "cell_type": "markdown",
   "id": "27e317bc",
   "metadata": {},
   "source": [
    "It is quite frequent to have values that represent categories, for example 1 for female and 2 for male, or \"A\" for Good, \"B\" for Average, \"C\" for Bad. These categorical values can be hard to read and cumbersome to handle, but fortunately pandas makes it easy. To illustrate this, let's take the city_pop DataFrame we created earlier, and add a column that represents a category:"
   ]
  },
  {
   "cell_type": "code",
   "execution_count": 191,
   "id": "85b9b8f0",
   "metadata": {},
   "outputs": [
    {
     "data": {
      "text/html": [
       "<div>\n",
       "<style scoped>\n",
       "    .dataframe tbody tr th:only-of-type {\n",
       "        vertical-align: middle;\n",
       "    }\n",
       "\n",
       "    .dataframe tbody tr th {\n",
       "        vertical-align: top;\n",
       "    }\n",
       "\n",
       "    .dataframe thead th {\n",
       "        text-align: right;\n",
       "    }\n",
       "</style>\n",
       "<table border=\"1\" class=\"dataframe\">\n",
       "  <thead>\n",
       "    <tr style=\"text-align: right;\">\n",
       "      <th></th>\n",
       "      <th>population</th>\n",
       "      <th>city</th>\n",
       "      <th>state</th>\n",
       "      <th>eco_code</th>\n",
       "    </tr>\n",
       "  </thead>\n",
       "  <tbody>\n",
       "    <tr>\n",
       "      <th>3</th>\n",
       "      <td>808976</td>\n",
       "      <td>San Francisco</td>\n",
       "      <td>California</td>\n",
       "      <td>17</td>\n",
       "    </tr>\n",
       "    <tr>\n",
       "      <th>4</th>\n",
       "      <td>8363710</td>\n",
       "      <td>New York</td>\n",
       "      <td>New-York</td>\n",
       "      <td>17</td>\n",
       "    </tr>\n",
       "    <tr>\n",
       "      <th>5</th>\n",
       "      <td>413201</td>\n",
       "      <td>Miami</td>\n",
       "      <td>Florida</td>\n",
       "      <td>34</td>\n",
       "    </tr>\n",
       "    <tr>\n",
       "      <th>6</th>\n",
       "      <td>2242193</td>\n",
       "      <td>Houston</td>\n",
       "      <td>texas</td>\n",
       "      <td>20</td>\n",
       "    </tr>\n",
       "  </tbody>\n",
       "</table>\n",
       "</div>"
      ],
      "text/plain": [
       "   population           city       state  eco_code\n",
       "3      808976  San Francisco  California        17\n",
       "4     8363710       New York    New-York        17\n",
       "5      413201          Miami     Florida        34\n",
       "6     2242193        Houston       texas        20"
      ]
     },
     "execution_count": 191,
     "metadata": {},
     "output_type": "execute_result"
    }
   ],
   "source": [
    "city_eco = city_pop.copy()\n",
    "city_eco[\"eco_code\"] = [17, 17, 34, 20]\n",
    "city_eco"
   ]
  },
  {
   "cell_type": "markdown",
   "id": "b47bdded",
   "metadata": {},
   "source": [
    "Right now the eco_code column is full of apparently meaningless codes. Let's fix that. First, we will create a new categorical column based on the eco_codes:"
   ]
  },
  {
   "cell_type": "code",
   "execution_count": 192,
   "id": "dd863fea",
   "metadata": {},
   "outputs": [
    {
     "data": {
      "text/plain": [
       "Index([17, 20, 34], dtype='int64')"
      ]
     },
     "execution_count": 192,
     "metadata": {},
     "output_type": "execute_result"
    }
   ],
   "source": [
    "city_eco[\"economy\"] = city_eco[\"eco_code\"].astype('category')\n",
    "city_eco[\"economy\"].cat.categories"
   ]
  },
  {
   "cell_type": "code",
   "execution_count": null,
   "id": "0f87638f",
   "metadata": {},
   "outputs": [],
   "source": []
  }
 ],
 "metadata": {
  "kernelspec": {
   "display_name": "Python 3 (ipykernel)",
   "language": "python",
   "name": "python3"
  },
  "language_info": {
   "codemirror_mode": {
    "name": "ipython",
    "version": 3
   },
   "file_extension": ".py",
   "mimetype": "text/x-python",
   "name": "python",
   "nbconvert_exporter": "python",
   "pygments_lexer": "ipython3",
   "version": "3.11.5"
  }
 },
 "nbformat": 4,
 "nbformat_minor": 5
}
